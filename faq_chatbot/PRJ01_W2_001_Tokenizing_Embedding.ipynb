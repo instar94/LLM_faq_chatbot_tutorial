{
 "cells": [
  {
   "cell_type": "markdown",
   "metadata": {},
   "source": [
    "# NLP 기초: Tokenization + Embedding 이해\n",
    "\n",
    "---"
   ]
  },
  {
   "cell_type": "markdown",
   "metadata": {},
   "source": [
    "## 1. Tokenization (토큰화)\n",
    "\n",
    "### 개념\n",
    "텍스트를 분석 가능한 작은 단위로 나누는 과정이다. 컴퓨터가 자연어를 이해하기 위한 첫 번째 단계로, 의미 있는 최소 단위로 텍스트를 분할한다.\n",
    "\n",
    "- 단어 단위 토큰화 (Word Tokenization)\n",
    "- 서브워드 토큰화 (Subword Tokenization)\n",
    "\n",
    "### 1.1 **단어 단위 토큰화 (Word Tokenization)**\n",
    "\n",
    "**특징:**\n",
    "- 형태소 분석을 기반으로 의미 있는 최소 단위로 분리\n",
    "- 조사, 어미 등 문법적 요소도 개별 토큰으로 분리\n",
    "- 한국어의 교착어 특성을 잘 반영\n",
    "\n",
    "**활용 분야:**\n",
    "- 문장 분석, 품사 태깅\n",
    "- 텍스트 분류, 감성 분석\n",
    "- 구문 분석, 의존 구문 분석\n",
    "\n",
    "**예시:** `\"자연어처리는 재미있다\"` → `[\"자연어\", \"처리\", \"는\", \"재미\", \"있\", \"다\"]`"
   ]
  },
  {
   "cell_type": "markdown",
   "metadata": {},
   "source": [
    "#### **실습**: Kiwi 한글 형태소 분석기\n",
    "\n",
    "- 한국어 특성을 잘 반영한 형태소 분석기 (신조어 처리 능력이 우수)\n",
    "- 분석 속도가 빠름\n",
    "- 품사 태깅 정확도가 높음\n",
    "- 참조: https://bab2min.github.io/kiwipiepy/v0.20.2/kr/\n",
    "- 설치: pip install kiwipiepy 또는 uv add kiwipiepy "
   ]
  },
  {
   "cell_type": "code",
   "execution_count": 3,
   "metadata": {},
   "outputs": [],
   "source": [
    "from kiwipiepy import Kiwi\n",
    "import time\n",
    "from functools import wraps\n",
    "\n",
    "def measure_time(func):\n",
    "    \"\"\"실행 시간 측정 데코레이터\"\"\"\n",
    "    @wraps(func)\n",
    "    def wrapper(*args, **kwargs):\n",
    "        start = time.time()\n",
    "        result = func(*args, **kwargs)\n",
    "        end = time.time()\n",
    "        print(f\"{func.__name__} 실행 시간: {end-start:.4f}초\")\n",
    "        return result\n",
    "    return wrapper\n",
    "\n",
    "# Kiwi 형태소 분석기 로드\n",
    "kiwi = Kiwi()"
   ]
  },
  {
   "cell_type": "code",
   "execution_count": 4,
   "metadata": {},
   "outputs": [
    {
     "name": "stdout",
     "output_type": "stream",
     "text": [
      "tokenize_with_kiwi 실행 시간: 1.8215초\n",
      "토큰화 결과:\n"
     ]
    },
    {
     "data": {
      "text/plain": [
       "[Token(form='자연어 처리', tag='NNP', start=0, len=5),\n",
       " Token(form='를', tag='JKO', start=5, len=1),\n",
       " Token(form='공부', tag='NNG', start=7, len=2),\n",
       " Token(form='하', tag='XSV', start=9, len=1),\n",
       " Token(form='는', tag='ETM', start=10, len=1),\n",
       " Token(form='것', tag='NNB', start=12, len=1),\n",
       " Token(form='은', tag='JX', start=13, len=1),\n",
       " Token(form='정말', tag='MAG', start=15, len=2),\n",
       " Token(form='흥미', tag='NNG', start=18, len=2),\n",
       " Token(form='롭', tag='XSA-I', start=20, len=1),\n",
       " Token(form='고', tag='EC', start=21, len=1),\n",
       " Token(form='유용', tag='XR', start=23, len=2),\n",
       " Token(form='하', tag='XSA', start=25, len=1),\n",
       " Token(form='ᆸ니다', tag='EF', start=25, len=3),\n",
       " Token(form='!', tag='SF', start=28, len=1)]"
      ]
     },
     "execution_count": 4,
     "metadata": {},
     "output_type": "execute_result"
    }
   ],
   "source": [
    "@measure_time\n",
    "def tokenize_with_kiwi(text):\n",
    "    \"\"\"토큰화 함수\"\"\"\n",
    "    try:\n",
    "        return kiwi.tokenize(text)\n",
    "    except Exception as e:\n",
    "        print(f\"토큰화 오류: {e}\")\n",
    "        return []\n",
    "    \n",
    "# 토큰화 실행\n",
    "text = \"자연어처리를 공부하는 것은 정말 흥미롭고 유용합니다!\"\n",
    "tokens = tokenize_with_kiwi(text)\n",
    "\n",
    "print(\"토큰화 결과:\")\n",
    "tokens"
   ]
  },
  {
   "cell_type": "code",
   "execution_count": 5,
   "metadata": {},
   "outputs": [
    {
     "name": "stdout",
     "output_type": "stream",
     "text": [
      " 번호    단어      품사태그      한국어품사       위치  \n",
      "---------------------------------------------\n",
      "  1  자연어 처리    NNP        고유명사      0-5  \n",
      "  2    를       JKO       목적격조사      5-6  \n",
      "  3    공부      NNG        일반명사      7-9  \n",
      "  4    하       XSV      동사파생접미사     9-10 \n",
      "  5    는       ETM      관형사형전성어미   10-11 \n",
      "  6    것       NNB        의존명사     12-13 \n",
      "  7    은        JX        보조사      13-14 \n",
      "  8    정말      MAG        일반부사     15-17 \n",
      "  9    흥미      NNG        일반명사     18-20 \n",
      " 10    롭      XSA-I      XSA-I     20-21 \n",
      " 11    고        EC        연결어미     21-22 \n",
      " 12    유용       XR         어근      23-25 \n",
      " 13    하       XSA      형용사파생접미사   25-26 \n",
      " 14   ᆸ니다       EF        종결어미     25-28 \n",
      " 15    !        SF        마침표류     28-29 \n"
     ]
    }
   ],
   "source": [
    "# 품사 태그를 한국어 명칭으로 매핑하는 딕셔너리\n",
    "pos_dict = {\n",
    "    # 체언\n",
    "    'NNG': '일반명사', 'NNP': '고유명사', 'NNB': '의존명사', 'NP': '대명사', 'NR': '수사',\n",
    "    # 용언\n",
    "    'VV': '동사', 'VA': '형용사', 'VX': '보조용언', 'VCP': '긍정지정사', 'VCN': '부정지정사',\n",
    "    # 관형사/부사\n",
    "    'MM': '관형사', 'MAG': '일반부사', 'MAJ': '접속부사',\n",
    "    # 조사\n",
    "    'JKS': '주격조사', 'JKC': '보격조사', 'JKG': '관형격조사', 'JKO': '목적격조사', \n",
    "    'JKB': '부사격조사', 'JKV': '호격조사', 'JKQ': '인용격조사', 'JX': '보조사', 'JC': '접속조사',\n",
    "    # 어미\n",
    "    'EP': '선어말어미', 'EF': '종결어미', 'EC': '연결어미', 'ETN': '명사형전성어미', 'ETM': '관형사형전성어미',\n",
    "    # 접사\n",
    "    'XPN': '체언접두사', 'XSN': '명사파생접미사', 'XSV': '동사파생접미사', 'XSA': '형용사파생접미사', 'XR': '어근',\n",
    "    # 기호\n",
    "    'SF': '마침표류', 'SP': '쉼표류', 'SS': '따옴표류', 'SE': '줄임표', 'SO': '붙임표',\n",
    "    'SL': '외국어', 'SH': '한자', 'SN': '숫자', 'SW': '기타기호'\n",
    "}\n",
    "\n",
    "# 결과 출력 \n",
    "print(f\"{'번호':>3} {'단어':^8} {'품사태그':^8} {'한국어품사':^12} {'위치':^6}\")\n",
    "print(\"-\" * 45)\n",
    "for i, token in enumerate(tokens, 1):\n",
    "    korean_pos = pos_dict.get(token.tag, token.tag)\n",
    "    pos_range = f\"{token.start}-{token.start + token.len}\"\n",
    "    print(f\"{i:>3} {token.form:^8} {token.tag:^8} {korean_pos:^12} {pos_range:^6}\")"
   ]
  },
  {
   "cell_type": "markdown",
   "metadata": {},
   "source": [
    "### 1.2 **서브워드 토큰화 (Subword Tokenization)**\n",
    "\n",
    "**특징:**\n",
    "- 형태소보다 작은 의미 단위 사용\n",
    "- 자주 등장하는 문자열 패턴을 토큰으로 활용\n",
    "- OOV(Out-of-Vocabulary) 문제 해결에 효과적\n",
    "\n",
    "**활용 분야:**\n",
    "- 신조어, 전문용어 처리\n",
    "- 기계 번역, 언어 모델링\n",
    "- 다국어 NLP 모델\n",
    "\n",
    "**주요 알고리즘 비교:**\n",
    "\n",
    "| 알고리즘 | 특징 | 사용 모델 | 장점 |\n",
    "|---------|------|----------|------|\n",
    "| BPE (Byte Pair Encoding) | 빈도 기반 병합 | GPT 시리즈 | 단순하고 효율적 |\n",
    "| WordPiece | 확률 기반 분할 | BERT, ELECTRA | 언어학적 의미 보존 |\n",
    "| SentencePiece | 언어 독립적 | T5, mT5, XLM-R | 다국어 지원 우수 |"
   ]
  },
  {
   "cell_type": "markdown",
   "metadata": {},
   "source": [
    "#### **실습**: BERT 토크나이저 (WordPiece)\n",
    "\n",
    "- **Huggingface KcBERT 토크나이저** 활용 \n",
    "- 개념:\n",
    "    - SentencePiece 기반 서브워드 토크나이저 사용\n",
    "    - 한국어에 특화된 어휘 사전(vocab) 보유\n",
    "    - 특수 토큰: [CLS], [SEP], [MASK], [PAD], [UNK]\n",
    "- 특징:\n",
    "    - 문장 시작: [CLS] 토큰 추가\n",
    "    - 문장 구분: [SEP] 토큰 사용\n",
    "    - 서브워드 분리: '##' 접두어로 표시\n",
    "    - 예시: `\"자연어처리\"` → `['자연', '##어', '##처리']`\n",
    "    - 최대 길이 처리: max_length로 자동 truncation \n",
    "    - 참조: https://huggingface.co/beomi/kcbert-base\n",
    "- 설치:\n",
    "    - pip install torch transformers 또는 uv add torch transformers"
   ]
  },
  {
   "cell_type": "code",
   "execution_count": 6,
   "metadata": {},
   "outputs": [
    {
     "data": {
      "text/plain": [
       "BertTokenizerFast(name_or_path='beomi/kcbert-base', vocab_size=30000, model_max_length=300, is_fast=True, padding_side='right', truncation_side='right', special_tokens={'unk_token': '[UNK]', 'sep_token': '[SEP]', 'pad_token': '[PAD]', 'cls_token': '[CLS]', 'mask_token': '[MASK]'}, clean_up_tokenization_spaces=True, added_tokens_decoder={\n",
       "\t0: AddedToken(\"[PAD]\", rstrip=False, lstrip=False, single_word=False, normalized=False, special=True),\n",
       "\t1: AddedToken(\"[UNK]\", rstrip=False, lstrip=False, single_word=False, normalized=False, special=True),\n",
       "\t2: AddedToken(\"[CLS]\", rstrip=False, lstrip=False, single_word=False, normalized=False, special=True),\n",
       "\t3: AddedToken(\"[SEP]\", rstrip=False, lstrip=False, single_word=False, normalized=False, special=True),\n",
       "\t4: AddedToken(\"[MASK]\", rstrip=False, lstrip=False, single_word=False, normalized=False, special=True),\n",
       "}\n",
       ")"
      ]
     },
     "execution_count": 6,
     "metadata": {},
     "output_type": "execute_result"
    }
   ],
   "source": [
    "# 허깅페이스 트랜스포머 라이브러리에서 토크나이저 로드\n",
    "from transformers import AutoTokenizer\n",
    "\n",
    "tokenizer = AutoTokenizer.from_pretrained('beomi/kcbert-base')\n",
    "\n",
    "tokenizer"
   ]
  },
  {
   "cell_type": "code",
   "execution_count": 7,
   "metadata": {},
   "outputs": [
    {
     "data": {
      "text/plain": [
       "['자연', '##어', '##처리', '##를', '공부', '##합니다']"
      ]
     },
     "execution_count": 7,
     "metadata": {},
     "output_type": "execute_result"
    }
   ],
   "source": [
    "# 토큰화 수행 : 문장 -> 토큰들의 리스트\n",
    "text = \"자연어처리를 공부합니다\"\n",
    "tokens = tokenizer.tokenize(text)\n",
    "\n",
    "tokens"
   ]
  },
  {
   "cell_type": "code",
   "execution_count": 8,
   "metadata": {},
   "outputs": [
    {
     "name": "stdout",
     "output_type": "stream",
     "text": [
      "\n",
      "1. 원문: 자연어처리를 공부합니다\n",
      "   토큰 수: 6개\n",
      "   서브워드: 4개\n",
      "   토큰들: ['자연', '##어', '##처리', '##를', '공부', '##합니다']\n",
      "------------------------------\n",
      "\n",
      "2. 원문: 인공지능과 머신러닝은 미래기술이다\n",
      "   토큰 수: 11개\n",
      "   서브워드: 8개\n",
      "   토큰들: ['인공', '##지능', '##과', '머', '##신', '##러', '##닝', '##은', '미래', '##기술', '##이다']\n",
      "------------------------------\n",
      "\n",
      "3. 원문: COVID-19로 인한 비대면 수업이 증가했다\n",
      "   토큰 수: 15개\n",
      "   서브워드: 8개\n",
      "   토큰들: ['C', '##O', '##V', '##I', '##D', '-', '19', '##로', '인한', '비', '##대면', '수업', '##이', '증가', '##했다']\n",
      "------------------------------\n",
      "\n",
      "4. 원문: 스마트폰의 음성인식 기능이 발전했다\n",
      "   토큰 수: 8개\n",
      "   서브워드: 4개\n",
      "   토큰들: ['스마트폰', '##의', '음성', '##인식', '기능', '##이', '발전', '##했다']\n",
      "------------------------------\n"
     ]
    }
   ],
   "source": [
    "import matplotlib.pyplot as plt\n",
    "import seaborn as sns\n",
    "\n",
    "def analyze_tokenization(texts, tokenizer):\n",
    "    \"\"\"토큰화 분석 함수\"\"\"\n",
    "    results = []\n",
    "    \n",
    "    for text in texts:\n",
    "        try:\n",
    "            # 토큰화\n",
    "            tokens = tokenizer.tokenize(text)\n",
    "            token_ids = tokenizer.encode(text)\n",
    "            \n",
    "            # 특수 토큰 분석\n",
    "            special_tokens = [token for token in tokens if token in ['[CLS]', '[SEP]', '[MASK]', '[PAD]', '[UNK]']]\n",
    "            subword_tokens = [token for token in tokens if token.startswith('##')]\n",
    "            \n",
    "            results.append({\n",
    "                'text': text,\n",
    "                'token_count': len(tokens),\n",
    "                'subword_count': len(subword_tokens),\n",
    "                'special_count': len(special_tokens),\n",
    "                'tokens': tokens\n",
    "            })\n",
    "        except Exception as e:\n",
    "            print(f\"토큰화 오류 - {text}: {e}\")\n",
    "            \n",
    "    return results\n",
    "\n",
    "# 테스트 문장들\n",
    "test_texts = [\n",
    "    \"자연어처리를 공부합니다\",\n",
    "    \"인공지능과 머신러닝은 미래기술이다\", \n",
    "    \"COVID-19로 인한 비대면 수업이 증가했다\",\n",
    "    \"스마트폰의 음성인식 기능이 발전했다\"\n",
    "]\n",
    "\n",
    "# 토큰화 분석\n",
    "results = analyze_tokenization(test_texts, tokenizer)\n",
    "\n",
    "for i, result in enumerate(results, 1):\n",
    "    print(f\"\\n{i}. 원문: {result['text']}\")\n",
    "    print(f\"   토큰 수: {result['token_count']}개\")\n",
    "    print(f\"   서브워드: {result['subword_count']}개\")\n",
    "    print(f\"   토큰들: {result['tokens']}\")\n",
    "    print(\"-\" * 30)"
   ]
  },
  {
   "cell_type": "markdown",
   "metadata": {},
   "source": [
    "#### **실습**: SentencePiece 토크나이저 (bge-m3 모델)\n",
    "\n",
    "- **Huggingface Transformers** 라이브러리 사용"
   ]
  },
  {
   "cell_type": "code",
   "execution_count": 9,
   "metadata": {},
   "outputs": [],
   "source": [
    "from transformers import AutoTokenizer, AutoModel\n",
    "tokenizer = AutoTokenizer.from_pretrained(\"BAAI/bge-m3\")\n",
    "model = AutoModel.from_pretrained(\"BAAI/bge-m3\")"
   ]
  },
  {
   "cell_type": "code",
   "execution_count": 10,
   "metadata": {},
   "outputs": [
    {
     "name": "stdout",
     "output_type": "stream",
     "text": [
      "['▁자연', '어', '처리', '를', '▁공부', '합니다']\n"
     ]
    }
   ],
   "source": [
    "text = \"자연어처리를 공부합니다\"\n",
    "tokens = tokenizer.tokenize(text)\n",
    "print(tokens)"
   ]
  },
  {
   "cell_type": "code",
   "execution_count": 11,
   "metadata": {},
   "outputs": [
    {
     "name": "stdout",
     "output_type": "stream",
     "text": [
      "\n",
      "1. 원문: 자연어처리를 공부합니다\n",
      "   토큰 수: 6개\n",
      "   토큰들: ['▁자연', '어', '처리', '를', '▁공부', '합니다']\n",
      "------------------------------\n",
      "\n",
      "2. 원문: 인공지능과 머신러닝은 미래기술이다\n",
      "   토큰 수: 10개\n",
      "   토큰들: ['▁인공지능', '과', '▁머', '신', '러', '닝', '은', '▁미래', '기술', '이다']\n",
      "------------------------------\n",
      "\n",
      "3. 원문: COVID-19로 인한 비대면 수업이 증가했다\n",
      "   토큰 수: 12개\n",
      "   토큰들: ['▁CO', 'VID', '-19', '로', '▁인한', '▁비', '대', '면', '▁수업', '이', '▁증가', '했다']\n",
      "------------------------------\n",
      "\n",
      "4. 원문: 스마트폰의 음성인식 기능이 발전했다\n",
      "   토큰 수: 9개\n",
      "   토큰들: ['▁스마트폰', '의', '▁음성', '인', '식', '▁기능', '이', '▁발전', '했다']\n",
      "------------------------------\n"
     ]
    }
   ],
   "source": [
    "# 토큰화 분석\n",
    "results = analyze_tokenization(test_texts, tokenizer)\n",
    "\n",
    "for i, result in enumerate(results, 1):\n",
    "    print(f\"\\n{i}. 원문: {result['text']}\")\n",
    "    print(f\"   토큰 수: {result['token_count']}개\")\n",
    "    print(f\"   토큰들: {result['tokens']}\")\n",
    "    print(\"-\" * 30)"
   ]
  },
  {
   "cell_type": "markdown",
   "metadata": {},
   "source": [
    "---\n",
    "\n",
    "## 2. Embedding (임베딩)\n",
    "\n",
    "### 개념\n",
    "텍스트를 컴퓨터가 이해할 수 있는 수치 벡터로 변환하는 기술이다. 의미적으로 유사한 텍스트는 벡터 공간에서 가까운 거리에 위치하도록 한다.\n",
    "\n",
    "### 2.1 **단어 임베딩 (Word Embedding)**\n",
    "\n",
    "- 개념:\n",
    "    - 자연어를 컴퓨터가 이해할 수 있는 벡터 형태로 변환하는 기술\n",
    "    - 각 단어를 고정된 크기의 실수 벡터로 표현\n",
    "    - 비슷한 의미를 가진 단어들은 벡터 공간에서 서로 가까운 거리에 위치\n",
    "\n",
    "- 기법: \n",
    "    - Bag of Words (BoW)\n",
    "    - TF-IDF (Term Frequency-Inverse Document Frequency)\n",
    "    - Word2Vec"
   ]
  },
  {
   "cell_type": "markdown",
   "metadata": {},
   "source": [
    "#### 2.1.1 Bag of Words (BoW)\n",
    "\n",
    "**특징:**\n",
    "- 단어의 출현 빈도를 벡터로 표현\n",
    "- 단어 순서 정보는 무시\n",
    "- 희소(sparse) 벡터 생성\n",
    "\n",
    "* uv add scikit-learn"
   ]
  },
  {
   "cell_type": "code",
   "execution_count": 12,
   "metadata": {},
   "outputs": [
    {
     "name": "stdout",
     "output_type": "stream",
     "text": [
      "tokenize_with_kiwi 실행 시간: 0.0010초\n",
      "tokenize_with_kiwi 실행 시간: 0.0034초\n",
      "tokenize_with_kiwi 실행 시간: 0.0025초\n"
     ]
    }
   ],
   "source": [
    "from sklearn.feature_extraction.text import CountVectorizer \n",
    "import pandas as pd\n",
    "import numpy as np\n",
    "\n",
    "# 한국어 텍스트 예제\n",
    "texts = [\n",
    "    \"자연어 처리를 공부합니다\",\n",
    "    \"자연어는 컴퓨터 언어가 아니라 인간의 언어입니다\", \n",
    "    \"자연어 수업 시간에 자연어 처리 방법을 배우고 있습니다\"\n",
    "]\n",
    "\n",
    "# BoW 벡터화\n",
    "def create_bow_vectors(texts):\n",
    "    # 토큰화된 텍스트로 변환\n",
    "    tokenized_texts = []\n",
    "    for text in texts:\n",
    "        tokens = tokenize_with_kiwi(text)\n",
    "        token_words = [token.form for token in tokens if token.tag not in ['SF', 'SP']]  # 구두점 제외\n",
    "        tokenized_texts.append(' '.join(token_words))\n",
    "    \n",
    "    # BoW 벡터화\n",
    "    vectorizer = CountVectorizer()\n",
    "    bow_matrix = vectorizer.fit_transform(tokenized_texts)\n",
    "    \n",
    "    return bow_matrix, vectorizer, tokenized_texts\n",
    "\n",
    "bow_matrix, vectorizer, tokenized_texts = create_bow_vectors(texts)"
   ]
  },
  {
   "cell_type": "code",
   "execution_count": 13,
   "metadata": {},
   "outputs": [
    {
     "data": {
      "text/html": [
       "<div>\n",
       "<style scoped>\n",
       "    .dataframe tbody tr th:only-of-type {\n",
       "        vertical-align: middle;\n",
       "    }\n",
       "\n",
       "    .dataframe tbody tr th {\n",
       "        vertical-align: top;\n",
       "    }\n",
       "\n",
       "    .dataframe thead th {\n",
       "        text-align: right;\n",
       "    }\n",
       "</style>\n",
       "<table border=\"1\" class=\"dataframe\">\n",
       "  <thead>\n",
       "    <tr style=\"text-align: right;\">\n",
       "      <th></th>\n",
       "      <th>ᆸ니다</th>\n",
       "      <th>공부</th>\n",
       "      <th>방법</th>\n",
       "      <th>배우</th>\n",
       "      <th>수업</th>\n",
       "      <th>습니다</th>\n",
       "      <th>시간</th>\n",
       "      <th>아니</th>\n",
       "      <th>언어</th>\n",
       "      <th>인간</th>\n",
       "      <th>자연어</th>\n",
       "      <th>처리</th>\n",
       "      <th>컴퓨터</th>\n",
       "    </tr>\n",
       "  </thead>\n",
       "  <tbody>\n",
       "    <tr>\n",
       "      <th>문서1</th>\n",
       "      <td>1</td>\n",
       "      <td>1</td>\n",
       "      <td>0</td>\n",
       "      <td>0</td>\n",
       "      <td>0</td>\n",
       "      <td>0</td>\n",
       "      <td>0</td>\n",
       "      <td>0</td>\n",
       "      <td>0</td>\n",
       "      <td>0</td>\n",
       "      <td>1</td>\n",
       "      <td>1</td>\n",
       "      <td>0</td>\n",
       "    </tr>\n",
       "    <tr>\n",
       "      <th>문서2</th>\n",
       "      <td>1</td>\n",
       "      <td>0</td>\n",
       "      <td>0</td>\n",
       "      <td>0</td>\n",
       "      <td>0</td>\n",
       "      <td>0</td>\n",
       "      <td>0</td>\n",
       "      <td>1</td>\n",
       "      <td>2</td>\n",
       "      <td>1</td>\n",
       "      <td>1</td>\n",
       "      <td>0</td>\n",
       "      <td>1</td>\n",
       "    </tr>\n",
       "    <tr>\n",
       "      <th>문서3</th>\n",
       "      <td>0</td>\n",
       "      <td>0</td>\n",
       "      <td>1</td>\n",
       "      <td>1</td>\n",
       "      <td>1</td>\n",
       "      <td>1</td>\n",
       "      <td>1</td>\n",
       "      <td>0</td>\n",
       "      <td>0</td>\n",
       "      <td>0</td>\n",
       "      <td>2</td>\n",
       "      <td>1</td>\n",
       "      <td>0</td>\n",
       "    </tr>\n",
       "  </tbody>\n",
       "</table>\n",
       "</div>"
      ],
      "text/plain": [
       "     ᆸ니다  공부  방법  배우  수업  습니다  시간  아니  언어  인간  자연어  처리  컴퓨터\n",
       "문서1    1   1   0   0   0    0   0   0   0   0    1   1    0\n",
       "문서2    1   0   0   0   0    0   0   1   2   1    1   0    1\n",
       "문서3    0   0   1   1   1    1   1   0   0   0    2   1    0"
      ]
     },
     "execution_count": 13,
     "metadata": {},
     "output_type": "execute_result"
    }
   ],
   "source": [
    "# 결과 정리\n",
    "feature_names = vectorizer.get_feature_names_out()\n",
    "bow_df = pd.DataFrame(bow_matrix.toarray(), \n",
    "                     columns=feature_names,\n",
    "                     index=[f'문서{i+1}' for i in range(len(texts))])\n",
    "\n",
    "bow_df"
   ]
  },
  {
   "cell_type": "code",
   "execution_count": 14,
   "metadata": {},
   "outputs": [
    {
     "name": "stdout",
     "output_type": "stream",
     "text": [
      "어휘 사전 크기: 13개\n"
     ]
    }
   ],
   "source": [
    "print(f\"어휘 사전 크기: {len(feature_names)}개\")"
   ]
  },
  {
   "cell_type": "markdown",
   "metadata": {},
   "source": [
    "#### 2.1.2 TF-IDF (Term Frequency-Inverse Document Frequency)\n",
    "\n",
    "**특징:**\n",
    "- 단어의 중요도를 고려한 가중치 부여\n",
    "- 희귀한 단어에 높은 가중치 부여\n",
    "- 문서 집합 내에서 단어의 상대적 중요성 측정"
   ]
  },
  {
   "cell_type": "code",
   "execution_count": 15,
   "metadata": {},
   "outputs": [
    {
     "name": "stdout",
     "output_type": "stream",
     "text": [
      "tokenize_with_kiwi 실행 시간: 0.0010초\n",
      "tokenize_with_kiwi 실행 시간: 0.0027초\n",
      "tokenize_with_kiwi 실행 시간: 0.0015초\n"
     ]
    }
   ],
   "source": [
    "from sklearn.feature_extraction.text import TfidfVectorizer\n",
    "\n",
    "def create_tfidf_vectors(texts):\n",
    "    # 토큰화\n",
    "    tokenized_texts = []\n",
    "    for text in texts:\n",
    "        tokens = tokenize_with_kiwi(text)\n",
    "        token_words = [token.form for token in tokens if token.tag not in ['SF', 'SP']]\n",
    "        tokenized_texts.append(' '.join(token_words))\n",
    "    \n",
    "    # TF-IDF 벡터화\n",
    "    tfidf = TfidfVectorizer()\n",
    "    tfidf_matrix = tfidf.fit_transform(tokenized_texts)\n",
    "    \n",
    "    return tfidf_matrix, tfidf, tokenized_texts\n",
    "\n",
    "tfidf_matrix, tfidf, _ = create_tfidf_vectors(texts)"
   ]
  },
  {
   "cell_type": "code",
   "execution_count": 16,
   "metadata": {},
   "outputs": [
    {
     "data": {
      "text/html": [
       "<div>\n",
       "<style scoped>\n",
       "    .dataframe tbody tr th:only-of-type {\n",
       "        vertical-align: middle;\n",
       "    }\n",
       "\n",
       "    .dataframe tbody tr th {\n",
       "        vertical-align: top;\n",
       "    }\n",
       "\n",
       "    .dataframe thead th {\n",
       "        text-align: right;\n",
       "    }\n",
       "</style>\n",
       "<table border=\"1\" class=\"dataframe\">\n",
       "  <thead>\n",
       "    <tr style=\"text-align: right;\">\n",
       "      <th></th>\n",
       "      <th>ᆸ니다</th>\n",
       "      <th>공부</th>\n",
       "      <th>방법</th>\n",
       "      <th>배우</th>\n",
       "      <th>수업</th>\n",
       "      <th>습니다</th>\n",
       "      <th>시간</th>\n",
       "      <th>아니</th>\n",
       "      <th>언어</th>\n",
       "      <th>인간</th>\n",
       "      <th>자연어</th>\n",
       "      <th>처리</th>\n",
       "      <th>컴퓨터</th>\n",
       "    </tr>\n",
       "  </thead>\n",
       "  <tbody>\n",
       "    <tr>\n",
       "      <th>문서1</th>\n",
       "      <td>0.48</td>\n",
       "      <td>0.632</td>\n",
       "      <td>0.000</td>\n",
       "      <td>0.000</td>\n",
       "      <td>0.000</td>\n",
       "      <td>0.000</td>\n",
       "      <td>0.000</td>\n",
       "      <td>0.000</td>\n",
       "      <td>0.00</td>\n",
       "      <td>0.000</td>\n",
       "      <td>0.373</td>\n",
       "      <td>0.480</td>\n",
       "      <td>0.000</td>\n",
       "    </tr>\n",
       "    <tr>\n",
       "      <th>문서2</th>\n",
       "      <td>0.27</td>\n",
       "      <td>0.000</td>\n",
       "      <td>0.000</td>\n",
       "      <td>0.000</td>\n",
       "      <td>0.000</td>\n",
       "      <td>0.000</td>\n",
       "      <td>0.000</td>\n",
       "      <td>0.355</td>\n",
       "      <td>0.71</td>\n",
       "      <td>0.355</td>\n",
       "      <td>0.210</td>\n",
       "      <td>0.000</td>\n",
       "      <td>0.355</td>\n",
       "    </tr>\n",
       "    <tr>\n",
       "      <th>문서3</th>\n",
       "      <td>0.00</td>\n",
       "      <td>0.000</td>\n",
       "      <td>0.379</td>\n",
       "      <td>0.379</td>\n",
       "      <td>0.379</td>\n",
       "      <td>0.379</td>\n",
       "      <td>0.379</td>\n",
       "      <td>0.000</td>\n",
       "      <td>0.00</td>\n",
       "      <td>0.000</td>\n",
       "      <td>0.447</td>\n",
       "      <td>0.288</td>\n",
       "      <td>0.000</td>\n",
       "    </tr>\n",
       "  </tbody>\n",
       "</table>\n",
       "</div>"
      ],
      "text/plain": [
       "      ᆸ니다     공부     방법     배우     수업    습니다     시간     아니    언어     인간  \\\n",
       "문서1  0.48  0.632  0.000  0.000  0.000  0.000  0.000  0.000  0.00  0.000   \n",
       "문서2  0.27  0.000  0.000  0.000  0.000  0.000  0.000  0.355  0.71  0.355   \n",
       "문서3  0.00  0.000  0.379  0.379  0.379  0.379  0.379  0.000  0.00  0.000   \n",
       "\n",
       "       자연어     처리    컴퓨터  \n",
       "문서1  0.373  0.480  0.000  \n",
       "문서2  0.210  0.000  0.355  \n",
       "문서3  0.447  0.288  0.000  "
      ]
     },
     "execution_count": 16,
     "metadata": {},
     "output_type": "execute_result"
    }
   ],
   "source": [
    "# 결과 정리\n",
    "feature_names = tfidf.get_feature_names_out()\n",
    "tfidf_df = pd.DataFrame(tfidf_matrix.toarray(), \n",
    "                       columns=feature_names,\n",
    "                       index=[f'문서{i+1}' for i in range(len(texts))])\n",
    "\n",
    "tfidf_df.round(3)"
   ]
  },
  {
   "cell_type": "markdown",
   "metadata": {},
   "source": [
    "#### 2.1.3 Word2Vec\n",
    "\n",
    "**특징:**\n",
    "- 단어의 의미적 관계를 벡터 공간에 표현\n",
    "- 문맥을 고려한 단어 표현\n",
    "- CBOW와 Skip-gram 두 가지 아키텍처\n",
    "- 임베딩 프로젝터: https://projector.tensorflow.org/\n",
    "- 참조: https://ko.wikipedia.org/wiki/Gensim\n",
    "- 설치: pip install gensim 또는 uv add gensim"
   ]
  },
  {
   "cell_type": "code",
   "execution_count": 17,
   "metadata": {},
   "outputs": [],
   "source": [
    "from gensim.models import Word2Vec \n",
    "import matplotlib.pyplot as plt\n",
    "from sklearn.manifold import TSNE\n",
    "\n",
    "def train_word2vec_model(texts, vector_size=100, window=3, min_count=1):\n",
    "    \"\"\"Word2Vec 모델 훈련\"\"\"\n",
    "    # 토큰화\n",
    "    tokenized_corpus = []\n",
    "    for text in texts:\n",
    "        tokens = tokenize_with_kiwi(text)\n",
    "        token_words = [token.form for token in tokens if len(token.form) > 1]  # 한 글자 단어 제외\n",
    "        tokenized_corpus.append(token_words)\n",
    "    \n",
    "    # 모델 훈련 (Skip-gram)\n",
    "    model = Word2Vec(\n",
    "        sentences=tokenized_corpus,\n",
    "        vector_size=vector_size,\n",
    "        window=window,\n",
    "        min_count=min_count,\n",
    "        workers=4,\n",
    "        sg=1,  # 1: Skip-gram, 0: CBOW\n",
    "        epochs=100\n",
    "    )\n",
    "    \n",
    "    return model, tokenized_corpus"
   ]
  },
  {
   "cell_type": "code",
   "execution_count": 18,
   "metadata": {},
   "outputs": [
    {
     "name": "stdout",
     "output_type": "stream",
     "text": [
      "tokenize_with_kiwi 실행 시간: 0.0031초\n",
      "tokenize_with_kiwi 실행 시간: 0.0013초\n",
      "tokenize_with_kiwi 실행 시간: 0.0026초\n",
      "tokenize_with_kiwi 실행 시간: 0.0000초\n",
      "tokenize_with_kiwi 실행 시간: 0.0015초\n",
      "어휘 사전 크기: 24개\n",
      "벡터 차원: 100차원\n"
     ]
    }
   ],
   "source": [
    "# 더 큰 코퍼스로 테스트\n",
    "word2vec_texts = [\n",
    "    \"자연어 처리는 인공지능의 중요한 분야입니다\",\n",
    "    \"머신러닝과 딥러닝이 자연어 처리에 활용됩니다\",\n",
    "    \"컴퓨터가 인간의 언어를 이해하는 기술입니다\",\n",
    "    \"텍스트 데이터를 분석하고 처리하는 방법을 학습합니다\",\n",
    "    \"단어의 의미와 문맥을 파악하는 것이 중요합니다\"\n",
    "]\n",
    "\n",
    "word2vec_model, tokenized_corpus = train_word2vec_model(word2vec_texts)\n",
    "\n",
    "print(f\"어휘 사전 크기: {len(word2vec_model.wv.key_to_index)}개\")\n",
    "print(f\"벡터 차원: {word2vec_model.vector_size}차원\")"
   ]
  },
  {
   "cell_type": "code",
   "execution_count": 19,
   "metadata": {},
   "outputs": [
    {
     "data": {
      "text/plain": [
       "[['자연어 처리', '인공', '지능', '중요', '분야', 'ᆸ니다'],\n",
       " ['머신', '러닝', '러닝', '자연어 처리', '활용', 'ᆸ니다'],\n",
       " ['컴퓨터', '인간', '언어', '이해', '기술', 'ᆸ니다'],\n",
       " ['텍스트', '데이터', '분석', '처리', '방법', '학습', 'ᆸ니다'],\n",
       " ['단어', '의미', '문맥', '파악', '중요', 'ᆸ니다']]"
      ]
     },
     "execution_count": 19,
     "metadata": {},
     "output_type": "execute_result"
    }
   ],
   "source": [
    "tokenized_corpus"
   ]
  },
  {
   "cell_type": "code",
   "execution_count": 20,
   "metadata": {},
   "outputs": [
    {
     "name": "stdout",
     "output_type": "stream",
     "text": [
      "'자연어 처리' 벡터 (처음 10차원): [-0.009  0.004  0.005  0.006  0.007 -0.006  0.001  0.006 -0.003 -0.006]\n",
      "'언어' 벡터 (처음 10차원): [-0.002 -0.006  0.008 -0.007 -0.009 -0.002 -0.008  0.001  0.002 -0.003]\n",
      "'데이터' 벡터 (처음 10차원): [ 0.001 -0.01   0.005 -0.     0.006  0.002 -0.003  0.008  0.001 -0.   ]\n",
      "'컴퓨터' 벡터 (처음 10차원): [ 0.007 -0.001  0.008 -0.01  -0.008 -0.007 -0.004  0.005 -0.004 -0.009]\n"
     ]
    }
   ],
   "source": [
    "# 단어별 임베딩 확인\n",
    "test_words = ['자연어 처리', '언어', '데이터', '컴퓨터']\n",
    "available_words = [word for word in test_words if word in word2vec_model.wv]\n",
    "\n",
    "for word in available_words:  \n",
    "    vector = word2vec_model.wv[word]\n",
    "    print(f\"'{word}' 벡터 (처음 10차원): {vector[:10].round(3)}\")"
   ]
  },
  {
   "cell_type": "code",
   "execution_count": 21,
   "metadata": {},
   "outputs": [
    {
     "name": "stdout",
     "output_type": "stream",
     "text": [
      "\n",
      "'자연어 처리'와 유사한 단어들:\n",
      "  의미: 0.192\n",
      "  기술: 0.168\n",
      "  처리: 0.165\n",
      "------------------------------\n",
      "\n",
      "'언어'와 유사한 단어들:\n",
      "  기술: 0.189\n",
      "  단어: 0.161\n",
      "  이해: 0.158\n",
      "------------------------------\n",
      "\n",
      "'데이터'와 유사한 단어들:\n",
      "  ᆸ니다: 0.243\n",
      "  분야: 0.188\n",
      "  지능: 0.177\n",
      "------------------------------\n",
      "\n",
      "'컴퓨터'와 유사한 단어들:\n",
      "  파악: 0.137\n",
      "  인간: 0.134\n",
      "  분야: 0.127\n",
      "------------------------------\n"
     ]
    }
   ],
   "source": [
    "# 유사 단어 찾기\n",
    "def find_similar_words(word):\n",
    "    try:\n",
    "        similar_words = word2vec_model.wv.most_similar(word, topn=3)\n",
    "        print(f\"\\n'{word}'와 유사한 단어들:\")\n",
    "        for similar_word, similarity in similar_words:\n",
    "            print(f\"  {similar_word}: {similarity:.3f}\")\n",
    "    except:\n",
    "        print(f\"'{word}'의 유사 단어를 찾을 수 없습니다.\")\n",
    "\n",
    "for word in available_words:\n",
    "    find_similar_words(word)\n",
    "    print(\"-\" * 30)"
   ]
  },
  {
   "cell_type": "markdown",
   "metadata": {},
   "source": [
    "### 2.2 **문장 임베딩 (Sentence Embedding)**\n",
    "\n",
    "\n",
    "- 개념:\n",
    "    - 단어 임베딩의 개념을 확장하여 문장 전체를 하나의 벡터로 표현하는 기술\n",
    "    - 문장의 의미적 특성을 보존하면서 고정된 크기의 벡터로 변환\n",
    "    - 비슷한 의미를 가진 문장들은 벡터 공간에서 서로 가까운 거리에 위치\n",
    "\n",
    "- 실습: \n",
    "    - **Option1**: Word2Vec 모델을 사용하여 단어를 벡터로 변환 -> 문장을 구성하는 단어 벡터를 평균 \n",
    "    - **Option2**: Sentence-BERT(SBERT) 등 문장 임베딩 모델을 사용하여 문장을 벡터로 변환"
   ]
  },
  {
   "cell_type": "markdown",
   "metadata": {},
   "source": [
    "#### 2.2.1 평균 기반 문장 임베딩"
   ]
  },
  {
   "cell_type": "code",
   "execution_count": 22,
   "metadata": {},
   "outputs": [
    {
     "name": "stdout",
     "output_type": "stream",
     "text": [
      "tokenize_with_kiwi 실행 시간: 0.0010초\n",
      "문장: '자연어 처리를 공부합니다'\n",
      "임베딩 차원: 100\n",
      "임베딩 벡터 (처음 10차원): [-0.005  0.002  0.005  0.007 -0.001 -0.007  0.004  0.008 -0.004 -0.005]\n"
     ]
    }
   ],
   "source": [
    "def create_sentence_embedding_avg(sentence, word2vec_model):\n",
    "    \"\"\"Word2Vec 평균을 이용한 문장 임베딩\"\"\"\n",
    "    import numpy as np\n",
    "    tokens = tokenize_with_kiwi(sentence)\n",
    "    token_words = [token.form for token in tokens if token.form in word2vec_model.wv]\n",
    "    \n",
    "    if not token_words:\n",
    "        return np.zeros(word2vec_model.vector_size)\n",
    "    \n",
    "    # 단어 벡터들의 평균 계산\n",
    "    sentence_vector = np.zeros(word2vec_model.vector_size)\n",
    "    for word in token_words:\n",
    "        sentence_vector += word2vec_model.wv[word]\n",
    "    \n",
    "    return sentence_vector / len(token_words)\n",
    "\n",
    "# 문장 임베딩 생성\n",
    "test_sentence = \"자연어 처리를 공부합니다\"\n",
    "sentence_embed = create_sentence_embedding_avg(test_sentence, word2vec_model)\n",
    "\n",
    "print(f\"문장: '{test_sentence}'\")\n",
    "print(f\"임베딩 차원: {len(sentence_embed)}\")\n",
    "print(f\"임베딩 벡터 (처음 10차원): {sentence_embed[:10].round(3)}\")"
   ]
  },
  {
   "cell_type": "markdown",
   "metadata": {},
   "source": [
    "#### 2.2.2 SBERT (Sentence-BERT) \n",
    "\n",
    "- 문장 임베딩 모델을 사용: 문장 텍스트를 벡터로 직접 변환\n",
    "- SBERT : https://sbert.net/\n",
    "- 설치 pip install sentence_transformers 또는 uv add sentence_transformers"
   ]
  },
  {
   "cell_type": "code",
   "execution_count": 23,
   "metadata": {},
   "outputs": [
    {
     "name": "stdout",
     "output_type": "stream",
     "text": [
      "WARNING:tensorflow:From C:\\Users\\skssk\\AppData\\Roaming\\Python\\Python312\\site-packages\\tf_keras\\src\\losses.py:2976: The name tf.losses.sparse_softmax_cross_entropy is deprecated. Please use tf.compat.v1.losses.sparse_softmax_cross_entropy instead.\n",
      "\n"
     ]
    },
    {
     "data": {
      "application/vnd.jupyter.widget-view+json": {
       "model_id": "5f8fd68f248b44a0bc57728c87566e57",
       "version_major": 2,
       "version_minor": 0
      },
      "text/plain": [
       "modules.json:   0%|          | 0.00/229 [00:00<?, ?B/s]"
      ]
     },
     "metadata": {},
     "output_type": "display_data"
    },
    {
     "data": {
      "application/vnd.jupyter.widget-view+json": {
       "model_id": "d90ef6fb7ac949fa9bc002e76315d02e",
       "version_major": 2,
       "version_minor": 0
      },
      "text/plain": [
       "config_sentence_transformers.json:   0%|          | 0.00/123 [00:00<?, ?B/s]"
      ]
     },
     "metadata": {},
     "output_type": "display_data"
    },
    {
     "data": {
      "application/vnd.jupyter.widget-view+json": {
       "model_id": "4fea6af3f6124867bb85c11c31761500",
       "version_major": 2,
       "version_minor": 0
      },
      "text/plain": [
       "README.md: 0.00B [00:00, ?B/s]"
      ]
     },
     "metadata": {},
     "output_type": "display_data"
    },
    {
     "data": {
      "application/vnd.jupyter.widget-view+json": {
       "model_id": "c4aa64c36ef44499af1374ce83bfa65f",
       "version_major": 2,
       "version_minor": 0
      },
      "text/plain": [
       "sentence_bert_config.json:   0%|          | 0.00/53.0 [00:00<?, ?B/s]"
      ]
     },
     "metadata": {},
     "output_type": "display_data"
    },
    {
     "data": {
      "application/vnd.jupyter.widget-view+json": {
       "model_id": "3d88c63e8da64134960ce600918e33e1",
       "version_major": 2,
       "version_minor": 0
      },
      "text/plain": [
       "config.json:   0%|          | 0.00/744 [00:00<?, ?B/s]"
      ]
     },
     "metadata": {},
     "output_type": "display_data"
    },
    {
     "name": "stderr",
     "output_type": "stream",
     "text": [
      "Xet Storage is enabled for this repo, but the 'hf_xet' package is not installed. Falling back to regular HTTP download. For better performance, install the package with: `pip install huggingface_hub[hf_xet]` or `pip install hf_xet`\n"
     ]
    },
    {
     "data": {
      "application/vnd.jupyter.widget-view+json": {
       "model_id": "480902c30c8d444389cfe6c44779a66f",
       "version_major": 2,
       "version_minor": 0
      },
      "text/plain": [
       "pytorch_model.bin:   0%|          | 0.00/443M [00:00<?, ?B/s]"
      ]
     },
     "metadata": {},
     "output_type": "display_data"
    },
    {
     "data": {
      "application/vnd.jupyter.widget-view+json": {
       "model_id": "dcd2c67112164eb096303e0a58beb462",
       "version_major": 2,
       "version_minor": 0
      },
      "text/plain": [
       "tokenizer_config.json:   0%|          | 0.00/585 [00:00<?, ?B/s]"
      ]
     },
     "metadata": {},
     "output_type": "display_data"
    },
    {
     "data": {
      "application/vnd.jupyter.widget-view+json": {
       "model_id": "af4fa727aa0447318ac204ac47c63e33",
       "version_major": 2,
       "version_minor": 0
      },
      "text/plain": [
       "vocab.txt: 0.00B [00:00, ?B/s]"
      ]
     },
     "metadata": {},
     "output_type": "display_data"
    },
    {
     "name": "stderr",
     "output_type": "stream",
     "text": [
      "Xet Storage is enabled for this repo, but the 'hf_xet' package is not installed. Falling back to regular HTTP download. For better performance, install the package with: `pip install huggingface_hub[hf_xet]` or `pip install hf_xet`\n"
     ]
    },
    {
     "data": {
      "application/vnd.jupyter.widget-view+json": {
       "model_id": "668ff77673074d14b12337afa8899dfa",
       "version_major": 2,
       "version_minor": 0
      },
      "text/plain": [
       "tokenizer.json: 0.00B [00:00, ?B/s]"
      ]
     },
     "metadata": {},
     "output_type": "display_data"
    },
    {
     "data": {
      "application/vnd.jupyter.widget-view+json": {
       "model_id": "6525a394c679440088da824a79ff8ce7",
       "version_major": 2,
       "version_minor": 0
      },
      "text/plain": [
       "model.safetensors:   0%|          | 0.00/442M [00:00<?, ?B/s]"
      ]
     },
     "metadata": {},
     "output_type": "display_data"
    },
    {
     "data": {
      "application/vnd.jupyter.widget-view+json": {
       "model_id": "7aee657ed54440dc87d5afe95eeff7fa",
       "version_major": 2,
       "version_minor": 0
      },
      "text/plain": [
       "special_tokens_map.json:   0%|          | 0.00/156 [00:00<?, ?B/s]"
      ]
     },
     "metadata": {},
     "output_type": "display_data"
    },
    {
     "data": {
      "application/vnd.jupyter.widget-view+json": {
       "model_id": "77496035513d4467b930c512c1113ed9",
       "version_major": 2,
       "version_minor": 0
      },
      "text/plain": [
       "config.json:   0%|          | 0.00/190 [00:00<?, ?B/s]"
      ]
     },
     "metadata": {},
     "output_type": "display_data"
    },
    {
     "name": "stdout",
     "output_type": "stream",
     "text": [
      "모델 로드 완료: jhgan/ko-sroberta-multitask\n"
     ]
    },
    {
     "data": {
      "text/plain": [
       "SentenceTransformer(\n",
       "  (0): Transformer({'max_seq_length': 128, 'do_lower_case': False, 'architecture': 'RobertaModel'})\n",
       "  (1): Pooling({'word_embedding_dimension': 768, 'pooling_mode_cls_token': False, 'pooling_mode_mean_tokens': True, 'pooling_mode_max_tokens': False, 'pooling_mode_mean_sqrt_len_tokens': False, 'pooling_mode_weightedmean_tokens': False, 'pooling_mode_lasttoken': False, 'include_prompt': True})\n",
       ")"
      ]
     },
     "execution_count": 23,
     "metadata": {},
     "output_type": "execute_result"
    }
   ],
   "source": [
    "from sentence_transformers import SentenceTransformer\n",
    "import warnings\n",
    "warnings.filterwarnings('ignore')\n",
    "\n",
    "# 한국어 최적화 모델들\n",
    "korean_models = {\n",
    "    'ko-sroberta': 'jhgan/ko-sroberta-multitask',  \n",
    "    'bge-m3': 'BAAI/bge-m3'\n",
    "}\n",
    "\n",
    "def load_sentence_transformer(model_key='ko-sroberta'):\n",
    "    \"\"\"SBERT 모델 로딩\"\"\"\n",
    "    try:\n",
    "        model_name = korean_models[model_key]\n",
    "        model = SentenceTransformer(model_name)\n",
    "        print(f\"모델 로드 완료: {model_name}\")\n",
    "        return model\n",
    "    except Exception as e:\n",
    "        print(f\"모델 로딩 오류: {e}\")\n",
    "        return None\n",
    "\n",
    "@measure_time\n",
    "def create_sentence_embeddings(sentences, model):\n",
    "    \"\"\"배치 문장 임베딩 생성\"\"\"\n",
    "    try:\n",
    "        embeddings = model.encode(sentences, convert_to_tensor=False)\n",
    "        return embeddings\n",
    "    except Exception as e:\n",
    "        print(f\"임베딩 생성 오류: {e}\")\n",
    "        return None\n",
    "    \n",
    "# ko-sroberta 모델 로드\n",
    "sbert_model = load_sentence_transformer('ko-sroberta')\n",
    "sbert_model"
   ]
  },
  {
   "cell_type": "code",
   "execution_count": 24,
   "metadata": {},
   "outputs": [
    {
     "name": "stdout",
     "output_type": "stream",
     "text": [
      "create_sentence_embeddings 실행 시간: 0.3468초\n",
      "임베딩 형태: (4, 768)\n",
      "임베딩 차원: 768\n",
      "\n",
      "첫 번째 문장 임베딩 (처음 10차원):\n",
      "'자연어 처리는 인공지능의 핵심 기술입니다'\n",
      "[ 0.031  0.567 -0.285 -0.219 -0.286 -0.005 -0.125 -0.039 -0.244 -0.52 ]\n"
     ]
    }
   ],
   "source": [
    "# 테스트 문장들\n",
    "test_sentences = [\n",
    "    \"자연어 처리는 인공지능의 핵심 기술입니다\",\n",
    "    \"머신러닝을 이용해서 텍스트를 분석합니다\",\n",
    "    \"오늘 날씨가 정말 좋네요\",\n",
    "    \"컴퓨터가 인간의 언어를 이해하는 방법을 연구합니다\"\n",
    "]\n",
    "\n",
    "# 임베딩 생성\n",
    "sbert_embeddings = create_sentence_embeddings(test_sentences, sbert_model)\n",
    "\n",
    "print(f\"임베딩 형태: {sbert_embeddings.shape}\")\n",
    "print(f\"임베딩 차원: {sbert_embeddings.shape[1]}\")\n",
    "\n",
    "# 첫 번째 문장의 임베딩 일부 출력\n",
    "print(f\"\\n첫 번째 문장 임베딩 (처음 10차원):\")\n",
    "print(f\"'{test_sentences[0]}'\")\n",
    "print(f\"{sbert_embeddings[0][:10].round(3)}\")"
   ]
  },
  {
   "cell_type": "code",
   "execution_count": 25,
   "metadata": {},
   "outputs": [
    {
     "data": {
      "application/vnd.jupyter.widget-view+json": {
       "model_id": "877835fd3d9b475fafada95d727afa16",
       "version_major": 2,
       "version_minor": 0
      },
      "text/plain": [
       "modules.json:   0%|          | 0.00/349 [00:00<?, ?B/s]"
      ]
     },
     "metadata": {},
     "output_type": "display_data"
    },
    {
     "data": {
      "application/vnd.jupyter.widget-view+json": {
       "model_id": "0e569033ee2247d5a4ea3262e6c6256f",
       "version_major": 2,
       "version_minor": 0
      },
      "text/plain": [
       "config_sentence_transformers.json:   0%|          | 0.00/123 [00:00<?, ?B/s]"
      ]
     },
     "metadata": {},
     "output_type": "display_data"
    },
    {
     "data": {
      "application/vnd.jupyter.widget-view+json": {
       "model_id": "e175dc85acaf4b1fbaf2428cb2c735a8",
       "version_major": 2,
       "version_minor": 0
      },
      "text/plain": [
       "README.md: 0.00B [00:00, ?B/s]"
      ]
     },
     "metadata": {},
     "output_type": "display_data"
    },
    {
     "data": {
      "application/vnd.jupyter.widget-view+json": {
       "model_id": "79c69374e972463885ec8a60ce380aa4",
       "version_major": 2,
       "version_minor": 0
      },
      "text/plain": [
       "sentence_bert_config.json:   0%|          | 0.00/54.0 [00:00<?, ?B/s]"
      ]
     },
     "metadata": {},
     "output_type": "display_data"
    },
    {
     "data": {
      "application/vnd.jupyter.widget-view+json": {
       "model_id": "885313512e834ad791632ce501148475",
       "version_major": 2,
       "version_minor": 0
      },
      "text/plain": [
       "config.json:   0%|          | 0.00/191 [00:00<?, ?B/s]"
      ]
     },
     "metadata": {},
     "output_type": "display_data"
    },
    {
     "name": "stdout",
     "output_type": "stream",
     "text": [
      "모델 로드 완료: BAAI/bge-m3\n"
     ]
    },
    {
     "data": {
      "text/plain": [
       "SentenceTransformer(\n",
       "  (0): Transformer({'max_seq_length': 8192, 'do_lower_case': False, 'architecture': 'XLMRobertaModel'})\n",
       "  (1): Pooling({'word_embedding_dimension': 1024, 'pooling_mode_cls_token': True, 'pooling_mode_mean_tokens': False, 'pooling_mode_max_tokens': False, 'pooling_mode_mean_sqrt_len_tokens': False, 'pooling_mode_weightedmean_tokens': False, 'pooling_mode_lasttoken': False, 'include_prompt': True})\n",
       "  (2): Normalize()\n",
       ")"
      ]
     },
     "execution_count": 25,
     "metadata": {},
     "output_type": "execute_result"
    }
   ],
   "source": [
    "# BGE-M3 모델 로드\n",
    "bge_model = load_sentence_transformer('bge-m3')\n",
    "bge_model"
   ]
  },
  {
   "cell_type": "code",
   "execution_count": 26,
   "metadata": {},
   "outputs": [
    {
     "name": "stdout",
     "output_type": "stream",
     "text": [
      "create_sentence_embeddings 실행 시간: 0.6043초\n",
      "임베딩 형태: (4, 1024)\n",
      "임베딩 차원: 1024\n",
      "\n",
      "첫 번째 문장 임베딩 (처음 10차원):\n",
      "'자연어 처리는 인공지능의 핵심 기술입니다'\n",
      "[ 0.001  0.003  0.006 -0.023 -0.026 -0.001 -0.017 -0.007 -0.002 -0.002]\n"
     ]
    }
   ],
   "source": [
    "# 임베딩 생성\n",
    "bge_embeddings = create_sentence_embeddings(test_sentences, bge_model)  \n",
    "\n",
    "print(f\"임베딩 형태: {bge_embeddings.shape}\")\n",
    "print(f\"임베딩 차원: {bge_embeddings.shape[1]}\")\n",
    "\n",
    "# 첫 번째 문장의 임베딩 일부 출력\n",
    "print(f\"\\n첫 번째 문장 임베딩 (처음 10차원):\")\n",
    "print(f\"'{test_sentences[0]}'\")\n",
    "print(f\"{bge_embeddings[0][:10].round(3)}\")"
   ]
  },
  {
   "cell_type": "markdown",
   "metadata": {},
   "source": [
    "---\n",
    "\n",
    "## 3. 텍스트 유사도 비교\n",
    "\n",
    "### 유사도 메트릭 비교표\n",
    "\n",
    "| 메트릭 | 수식 | 범위 | 해석 | 특징 | 주요 용도 |\n",
    "|--------|------|------|------|------|----------|\n",
    "| 유클리드 거리 | $\\sqrt{\\sum(a_i-b_i)^2}$ | [0, ∞) | 낮을수록 유사 | 절대 거리 | 클러스터링 |\n",
    "| 코사인 유사도 | $\\frac{a \\cdot b}{\\\\|a\\\\|\\\\|b\\\\|}$ | [-1, 1] | 1에 가까울수록 유사 | 방향성 중시 | 문서 검색 |\n",
    "| 내적 | $\\sum a_i \\cdot b_i$ | (-∞, ∞) | 클수록 유사 | 크기+방향 | 추천 시스템 |"
   ]
  },
  {
   "cell_type": "markdown",
   "metadata": {},
   "source": [
    "### 3.1 유사도 비교 함수"
   ]
  },
  {
   "cell_type": "code",
   "execution_count": 27,
   "metadata": {},
   "outputs": [],
   "source": [
    "from sklearn.metrics.pairwise import euclidean_distances, cosine_similarity\n",
    "import matplotlib.pyplot as plt\n",
    "import seaborn as sns\n",
    "\n",
    "class SimilarityCalculator:\n",
    "    \"\"\"텍스트 유사도 계산 클래스\"\"\"\n",
    "    \n",
    "    def __init__(self, sbert_model):\n",
    "        self.model = sbert_model\n",
    "    \n",
    "    def calculate_all_similarities(self, sentence1, sentence2):\n",
    "        \"\"\"모든 유사도 메트릭 계산\"\"\"\n",
    "        import numpy as np\n",
    "        \n",
    "        # 임베딩 생성\n",
    "        embeddings = self.model.encode([sentence1, sentence2])\n",
    "        emb1, emb2 = embeddings[0], embeddings[1]\n",
    "        \n",
    "        # 각종 유사도 계산\n",
    "        euclidean_dist = euclidean_distances([emb1], [emb2])[0][0]\n",
    "        cosine_sim = cosine_similarity([emb1], [emb2])[0][0]\n",
    "        dot_product = np.dot(emb1, emb2)\n",
    "        \n",
    "        # 정규화된 유클리드 거리 (0~1 범위)\n",
    "        normalized_euclidean = euclidean_dist / (np.linalg.norm(emb1) + np.linalg.norm(emb2))\n",
    "        \n",
    "        return {\n",
    "            'euclidean_distance': euclidean_dist,\n",
    "            'normalized_euclidean': normalized_euclidean,\n",
    "            'cosine_similarity': cosine_sim,\n",
    "            'dot_product': dot_product,\n",
    "            'embeddings': (emb1, emb2)\n",
    "        }\n",
    "    \n",
    "    def compare_sentence_pairs(self, sentence_pairs):\n",
    "        \"\"\"여러 문장 쌍 비교\"\"\"\n",
    "        results = []\n",
    "        \n",
    "        for pair in sentence_pairs:\n",
    "            sent1, sent2 = pair\n",
    "            similarities = self.calculate_all_similarities(sent1, sent2)\n",
    "            \n",
    "            result = {\n",
    "                'sentence1': sent1,\n",
    "                'sentence2': sent2,\n",
    "                'euclidean': similarities['euclidean_distance'],\n",
    "                'cosine': similarities['cosine_similarity'], \n",
    "                'dot_product': similarities['dot_product']\n",
    "            }\n",
    "            results.append(result)\n",
    "        \n",
    "        return results"
   ]
  },
  {
   "cell_type": "code",
   "execution_count": 28,
   "metadata": {},
   "outputs": [
    {
     "name": "stdout",
     "output_type": "stream",
     "text": [
      "\n",
      "1. 문장 비교:\n",
      "   A: 학생이 학교에서 공부한다\n",
      "   B: 학생이 도서관에서 공부한다\n",
      "   유클리드 거리: 9.1853\n",
      "   코사인 유사도: 0.7056\n",
      "   내적: 101.1005\n",
      "\n",
      "2. 문장 비교:\n",
      "   A: 자연어 처리를 배운다\n",
      "   B: 컴퓨터로 언어를 분석한다\n",
      "   유클리드 거리: 11.8214\n",
      "   코사인 유사도: 0.4919\n",
      "   내적: 67.6478\n",
      "\n",
      "3. 문장 비교:\n",
      "   A: 오늘 날씨가 좋다\n",
      "   B: 내일 비가 올 예정이다\n",
      "   유클리드 거리: 13.1881\n",
      "   코사인 유사도: 0.3953\n",
      "   내적: 56.8384\n",
      "\n",
      "4. 문장 비교:\n",
      "   A: 영화가 재미있다\n",
      "   B: 수학 문제를 푼다\n",
      "   유클리드 거리: 16.2850\n",
      "   코사인 유사도: 0.0807\n",
      "   내적: 11.6306\n"
     ]
    }
   ],
   "source": [
    "# sbert 모델 유사도 계산기 생성\n",
    "sbert_similarity_calc = SimilarityCalculator(sbert_model)\n",
    "\n",
    "# 테스트 문장 쌍들\n",
    "sentence_pairs = [\n",
    "    (\"학생이 학교에서 공부한다\", \"학생이 도서관에서 공부한다\"),    # 유사\n",
    "    (\"자연어 처리를 배운다\", \"컴퓨터로 언어를 분석한다\"),        # 유사  \n",
    "    (\"오늘 날씨가 좋다\", \"내일 비가 올 예정이다\"),             # 관련\n",
    "    (\"영화가 재미있다\", \"수학 문제를 푼다\")                   # 무관\n",
    "]\n",
    "\n",
    "# 유사도 비교 실행\n",
    "sbert_comparison_results = sbert_similarity_calc.compare_sentence_pairs(sentence_pairs)\n",
    "\n",
    "# 결과 출력\n",
    "for i, result in enumerate(sbert_comparison_results, 1):\n",
    "    print(f\"\\n{i}. 문장 비교:\")\n",
    "    print(f\"   A: {result['sentence1']}\")\n",
    "    print(f\"   B: {result['sentence2']}\")\n",
    "    print(f\"   유클리드 거리: {result['euclidean']:.4f}\")\n",
    "    print(f\"   코사인 유사도: {result['cosine']:.4f}\")\n",
    "    print(f\"   내적: {result['dot_product']:.4f}\")"
   ]
  },
  {
   "cell_type": "code",
   "execution_count": 29,
   "metadata": {},
   "outputs": [
    {
     "name": "stdout",
     "output_type": "stream",
     "text": [
      "\n",
      "1. 문장 비교:\n",
      "   A: 학생이 학교에서 공부한다\n",
      "   B: 학생이 도서관에서 공부한다\n",
      "   유클리드 거리: 0.5074\n",
      "   코사인 유사도: 0.8713\n",
      "   내적: 0.8713\n",
      "\n",
      "2. 문장 비교:\n",
      "   A: 자연어 처리를 배운다\n",
      "   B: 컴퓨터로 언어를 분석한다\n",
      "   유클리드 거리: 0.7779\n",
      "   코사인 유사도: 0.6975\n",
      "   내적: 0.6975\n",
      "\n",
      "3. 문장 비교:\n",
      "   A: 오늘 날씨가 좋다\n",
      "   B: 내일 비가 올 예정이다\n",
      "   유클리드 거리: 0.7633\n",
      "   코사인 유사도: 0.7087\n",
      "   내적: 0.7087\n",
      "\n",
      "4. 문장 비교:\n",
      "   A: 영화가 재미있다\n",
      "   B: 수학 문제를 푼다\n",
      "   유클리드 거리: 0.8183\n",
      "   코사인 유사도: 0.6652\n",
      "   내적: 0.6652\n"
     ]
    }
   ],
   "source": [
    "# bge-m3 모델 유사도 계산기 생성\n",
    "bge_similarity_calc = SimilarityCalculator(bge_model)\n",
    "\n",
    "# 유사도 비교 실행\n",
    "bge_comparison_results = bge_similarity_calc.compare_sentence_pairs(sentence_pairs)\n",
    "\n",
    "# 결과 출력\n",
    "for i, result in enumerate(bge_comparison_results, 1):\n",
    "    print(f\"\\n{i}. 문장 비교:\")\n",
    "    print(f\"   A: {result['sentence1']}\")\n",
    "    print(f\"   B: {result['sentence2']}\")\n",
    "    print(f\"   유클리드 거리: {result['euclidean']:.4f}\")\n",
    "    print(f\"   코사인 유사도: {result['cosine']:.4f}\")\n",
    "    print(f\"   내적: {result['dot_product']:.4f}\")"
   ]
  },
  {
   "cell_type": "markdown",
   "metadata": {},
   "source": [
    "### 3.2 유사도 시각화\n"
   ]
  },
  {
   "cell_type": "code",
   "execution_count": 30,
   "metadata": {},
   "outputs": [],
   "source": [
    "import matplotlib.pyplot as plt\n",
    "import seaborn as sns\n",
    "\n",
    "# 한글 폰트 인식 - Windows\n",
    "import matplotlib \n",
    "font_name = matplotlib.font_manager.FontProperties(fname=\"c:/Windows/Fonts/malgun.ttf\").get_name()\n",
    "matplotlib.rc('font', family=font_name)\n",
    "\n",
    "# 한글 폰트 인식 - Mac\n",
    "#import matplotlib\n",
    "#matplotlib.rc('font', family='AppleGothic')\n",
    "\n",
    "# 마이너스 부호 인식\n",
    "matplotlib.rc(\"axes\", unicode_minus = False)"
   ]
  },
  {
   "cell_type": "code",
   "execution_count": 31,
   "metadata": {},
   "outputs": [],
   "source": [
    "def plot_similarity_comparison(results):\n",
    "    \"\"\"유사도 비교 시각화\"\"\"\n",
    "    fig, axes = plt.subplots(1, 3, figsize=(15, 5))\n",
    "    \n",
    "    # 데이터 준비\n",
    "    labels = [f\"쌍{i+1}\" for i in range(len(results))]\n",
    "    euclidean_scores = [r['euclidean'] for r in results]\n",
    "    cosine_scores = [r['cosine'] for r in results]\n",
    "    dot_scores = [r['dot_product'] for r in results]\n",
    "    \n",
    "    # 유클리드 거리 (낮을수록 유사)\n",
    "    axes[0].bar(labels, euclidean_scores, color='skyblue', alpha=0.7)\n",
    "    axes[0].set_title('유클리드 거리 (낮을수록 유사)')\n",
    "    axes[0].set_ylabel('거리')\n",
    "    axes[0].grid(True, alpha=0.3)\n",
    "    \n",
    "    # 코사인 유사도 (높을수록 유사)\n",
    "    axes[1].bar(labels, cosine_scores, color='lightgreen', alpha=0.7)\n",
    "    axes[1].set_title('코사인 유사도 (높을수록 유사)')\n",
    "    axes[1].set_ylabel('유사도')\n",
    "    axes[1].set_ylim(0, 1)\n",
    "    axes[1].grid(True, alpha=0.3)\n",
    "    \n",
    "    # 내적 (높을수록 유사)\n",
    "    axes[2].bar(labels, dot_scores, color='salmon', alpha=0.7)\n",
    "    axes[2].set_title('내적 (높을수록 유사)')\n",
    "    axes[2].set_ylabel('내적값')\n",
    "    axes[2].grid(True, alpha=0.3)\n",
    "    \n",
    "    plt.tight_layout()\n",
    "    plt.show()"
   ]
  },
  {
   "cell_type": "code",
   "execution_count": 32,
   "metadata": {},
   "outputs": [
    {
     "data": {
      "image/png": "[encoded data removed]",
      "text/plain": [
       "<Figure size 1500x500 with 3 Axes>"
      ]
     },
     "metadata": {},
     "output_type": "display_data"
    }
   ],
   "source": [
    "# sbert 모델 결과 시각화\n",
    "plot_similarity_comparison(sbert_comparison_results)"
   ]
  },
  {
   "cell_type": "code",
   "execution_count": 33,
   "metadata": {},
   "outputs": [
    {
     "data": {
      "image/png": "[encoded data removed]",
      "text/plain": [
       "<Figure size 1500x500 with 3 Axes>"
      ]
     },
     "metadata": {},
     "output_type": "display_data"
    }
   ],
   "source": [
    "# bge-m3 모델 결과 시각화\n",
    "plot_similarity_comparison(bge_comparison_results)"
   ]
  },
  {
   "cell_type": "markdown",
   "metadata": {},
   "source": [
    "---\n",
    "\n",
    "# **[실습 프로젝트]**\n",
    "\n",
    "### **문제: 문서 유사도 비교 시스템 구현**\n",
    "\n",
    "**목표**: 주어진 문서들을 토큰화하고 임베딩한 후 유사도를 비교하는 시스템 구현"
   ]
  },
  {
   "cell_type": "markdown",
   "metadata": {},
   "source": [
    "\n",
    "\n",
    "**예상 결과**:\n"
   ]
  },
  {
   "cell_type": "code",
   "execution_count": null,
   "metadata": {},
   "outputs": [],
   "source": [
    "# 예시 결과 포맷\n",
    "{\n",
    "    'most_similar_pair': ('문서1', '문서2'),\n",
    "    'similarity_score': 0.85,\n",
    "    'similarity_matrix': [[1.0, 0.8, ...], [...]]\n",
    "}"
   ]
  },
  {
   "cell_type": "code",
   "execution_count": null,
   "metadata": {},
   "outputs": [],
   "source": [
    "from sklearn.feature_extraction.text import CountVectorizer\n",
    "from sklearn.metrics.pairwise import cosine_similarity\n",
    "import numpy as np\n",
    "from sentence_transformers import SentenceTransformer\n",
    "\n",
    "# 테스트용 샘플 문서\n",
    "documents = [\n",
    "    \"인공지능은 컴퓨터 과학의 중요한 분야입니다.\",\n",
    "    \"머신러닝은 인공지능의 하위 분야입니다.\",\n",
    "    \"딥러닝은 머신러닝의 한 종류입니다.\",\n",
    "    \"자연어 처리는 텍스트 데이터를 다룹니다.\"\n",
    "]\n",
    "\n",
    "\n",
    "# 문제 1: 문서를 토큰화하고 BoW 벡터로 변환하시오\n",
    "def tokenize_documents(docs):\n",
    "    # 이 부분을 구현하세요\n",
    "    pass\n",
    "\n",
    "# 문제 2: 문서를 임베딩으로 변환하시오\n",
    "def create_embeddings(docs):\n",
    "    # 이 부분을 구현하세요\n",
    "    pass\n",
    "\n",
    "# 문제 3: 문서들 간의 유사도를 계산하시오\n",
    "def calculate_similarity(embeddings):\n",
    "    # 이 부분을 구현하세요\n",
    "    pass\n",
    "\n",
    "# 문제 4: 가장 유사한 문서 쌍을 찾으시오\n",
    "def find_most_similar_pair(similarities, docs):\n",
    "    # 이 부분을 구현하세요\n",
    "    pass"
   ]
  }
 ],
 "metadata": {
  "colab": {
   "authorship_tag": "ABX9TyNZEEAyNjgZJ4QQC2TsgHFB",
   "mount_file_id": "1H4ZNal5I8Do5dJ2hma7tKNChye0lsRrE",
   "provenance": []
  },
  "kernelspec": {
   "display_name": "ml_basic",
   "language": "python",
   "name": "python3"
  },
  "language_info": {
   "codemirror_mode": {
    "name": "ipython",
    "version": 3
   },
   "file_extension": ".py",
   "mimetype": "text/x-python",
   "name": "python",
   "nbconvert_exporter": "python",
   "pygments_lexer": "ipython3",
   "version": "3.12.11"
  }
 },
 "nbformat": 4,
 "nbformat_minor": 0
}
