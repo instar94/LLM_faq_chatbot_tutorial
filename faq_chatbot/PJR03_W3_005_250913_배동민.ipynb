{
 "cells": [
  {
   "cell_type": "markdown",
   "metadata": {},
   "source": [
    "---\n",
    "\n",
    "# **[실습] 주택청약 FAQ 시스템 구현**\n",
    "\n",
    "### **문제 설명**\n",
    "이전 코드를 기반으로 주택청약 FAQ 시스템을 다음 요구사항에 맞춰 개선합니다. \n",
    "\n",
    "1. 응답 품질 향상 (1개 이상)\n",
    "   - 생성된 답변의 품질을 평가 (답변이 불충분한 경우 예외 처리)\n",
    "   - 관련성 높은 FAQ 문서 검색 (임베딩 모델, 청크 크기, 벡터 검색 방법 등)\n",
    "\n",
    "2. 사용자 경험 개선 (1개 이상)\n",
    "   - 대화 이력 관리 기능 추가 (요약, 트리밍 기능 등 고려)\n",
    "   - 최근 대화 기반 컨텍스트 구성 \n",
    "   - 사용자 프로필 기반 맞춤 응답\n",
    "\n",
    "### **제약 조건**\n",
    "- Gradio ChatInterface 사용\n",
    "- RAG 구조 유지"
   ]
  },
  {
   "cell_type": "code",
   "execution_count": null,
   "metadata": {},
   "outputs": [],
   "source": [
    "## 문제 해결 방향 \n",
    "### 응답  품질 향상 \n",
    "#### 1) 임베딩 모델 변경 \n",
    "- 한국어 사용에 강점이 있는 모델로 변경 \n",
    "\n",
    "#### 2) 벡터 검색 방법 변경 \n",
    "- mmr 파라미터 조절 및 메타데이터 필터링 적용\n",
    "\n",
    "### 사용자 경험 개선 "
   ]
  },
  {
   "cell_type": "markdown",
   "metadata": {},
   "source": [
    "# 환경 설정 및 준비"
   ]
  },
  {
   "cell_type": "markdown",
   "metadata": {},
   "source": [
    "`(1) Env 환경변수`"
   ]
  },
  {
   "cell_type": "code",
   "execution_count": 1,
   "metadata": {},
   "outputs": [
    {
     "data": {
      "text/plain": [
       "True"
      ]
     },
     "execution_count": 1,
     "metadata": {},
     "output_type": "execute_result"
    }
   ],
   "source": [
    "from dotenv import load_dotenv\n",
    "load_dotenv()"
   ]
  },
  {
   "cell_type": "markdown",
   "metadata": {},
   "source": [
    "`(2) 기본 라이브러리`"
   ]
  },
  {
   "cell_type": "code",
   "execution_count": 2,
   "metadata": {},
   "outputs": [],
   "source": [
    "import os\n",
    "from glob import glob\n",
    "\n",
    "from pprint import pprint\n",
    "import json"
   ]
  },
  {
   "cell_type": "markdown",
   "metadata": {},
   "source": [
    "`(3) LLM 설정`"
   ]
  },
  {
   "cell_type": "code",
   "execution_count": 3,
   "metadata": {},
   "outputs": [],
   "source": [
    "from langchain_openai import ChatOpenAI\n",
    "\n",
    "llm = ChatOpenAI(\n",
    "    model='gpt-4.1-mini',\n",
    "    temperature=0.1,\n",
    "    top_p=0.9, \n",
    ")"
   ]
  },
  {
   "cell_type": "markdown",
   "metadata": {},
   "source": [
    "# 문서 로드"
   ]
  },
  {
   "cell_type": "markdown",
   "metadata": {},
   "source": [
    "- `TextLoader`를 이용한 텍스트 문서 로드"
   ]
  },
  {
   "cell_type": "code",
   "execution_count": 5,
   "metadata": {},
   "outputs": [
    {
     "name": "stdout",
     "output_type": "stream",
     "text": [
      "Q1 경기도 과천시에서 공급되는 주택의 해당 주택건설지역의 범위는?\n",
      "A 해당 주택건설지역이란 특별시ㆍ광역시ㆍ특별자치시ㆍ특별자치도(관할 구역 안에 지방자치단체인 시ㆍ군이 없는 특별자치도를 말한다) 또는 시ㆍ군의 행정구역을 말합니다. 따라서, 경기도 과천시에서 공급하는 주택의 경우 과천시가 해당 주택건설지역에 해당됩니다. \n",
      "참고로, 서울특별시에서 공급되는 주택의 경우 서울특별시 전역, 인천광역시의 경우 인천광역시 전역이 해당 주택건설지역에 해당됩니다.\n",
      "\n",
      "Q2 해당 주택건설지역에 거주하고 있지 않다면 청약신청이 불가능한지?\n",
      "A 해당 주택건설지역에 거주하고 있지 않더라도 청약가능지역에서 공급되는 주택에 청약신청이 가능하나, 같은 순위에서는 해당 주택건설지역의 거주자가 우선하여 주택을 공급받게 됩니다.\n",
      "* 서울·인천·경기도 / 대전·세종·충남 / 충북 / 광주·전남 / 전북 / 대구·경북 / 부산·울산·경남 / 강원\n",
      "다만, 수도권 대규모 택지개발지구 등에서 주택이 공급되는 경우 일정 비율의 \n"
     ]
    }
   ],
   "source": [
    "from langchain_community.document_loaders import TextLoader\n",
    "\n",
    "### 파일 경로 설정\n",
    "faq_text_file = \"data/housing_faq.txt\"\n",
    "\n",
    "### 파일 로더 초기화 \n",
    "txt_loader = TextLoader(faq_text_file, encoding=\"utf-8\")\n",
    "\n",
    "### 로딩 \n",
    "docs = txt_loader.load()\n",
    "\n",
    "# 문서 확인\n",
    "print(docs[0].page_content[:500])"
   ]
  },
  {
   "cell_type": "markdown",
   "metadata": {},
   "source": [
    "- 문서 전처리"
   ]
  },
  {
   "cell_type": "code",
   "execution_count": 6,
   "metadata": {},
   "outputs": [],
   "source": [
    "import re\n",
    "\n",
    "def extract_qa_pairs(text):\n",
    "    qa_pairs = []\n",
    "    \n",
    "    # 텍스트를 라인별로 분리하고 각 라인의 앞뒤 공백 제거\n",
    "    lines = [line.strip() for line in text.split('\\n')]\n",
    "    current_question = None\n",
    "    current_answer = []\n",
    "    current_number = None\n",
    "    in_answer = False\n",
    "    \n",
    "    for i, line in enumerate(lines):\n",
    "        if not line:  # 빈 라인 처리\n",
    "            if in_answer and current_answer and i + 1 < len(lines) and lines[i + 1].startswith('Q'):\n",
    "                # 다음 질문이 시작되기 전 빈 줄이면 현재 QA 쌍 저장\n",
    "                qa_pairs.append({\n",
    "                    'number': current_number,\n",
    "                    'question': current_question,\n",
    "                    'answer': ' '.join(current_answer).strip()\n",
    "                })\n",
    "                in_answer = False\n",
    "                current_answer = []\n",
    "            continue\n",
    "            \n",
    "        # 새로운 질문 확인 (Q 다음에 숫자가 오는 패턴)\n",
    "        q_match = re.match(r'Q(\\d+)\\s+(.*)', line)\n",
    "        if q_match:\n",
    "            # 이전 QA 쌍이 있으면 저장\n",
    "            if current_question is not None and current_answer:\n",
    "                qa_pairs.append({\n",
    "                    'number': current_number,\n",
    "                    'question': current_question,\n",
    "                    'answer': ' '.join(current_answer).strip()\n",
    "                })\n",
    "            \n",
    "            # 새로운 질문 시작\n",
    "            current_number = int(q_match.group(1))\n",
    "            current_question = q_match.group(2).strip().rstrip('?') + '?'  # 질문 마크 정규화\n",
    "            current_answer = []\n",
    "            in_answer = False\n",
    "            \n",
    "        # 답변 시작 확인\n",
    "        elif line.startswith('A ') or (current_question and not current_answer and line):\n",
    "            in_answer = True\n",
    "            current_answer.append(line.lstrip('A '))\n",
    "            \n",
    "        # 기존 답변에 내용 추가\n",
    "        elif current_question is not None and (in_answer or not line.startswith('Q')):\n",
    "            if in_answer or (current_answer and not line.startswith('Q')):\n",
    "                current_answer.append(line)\n",
    "    \n",
    "    # 마지막 QA 쌍 처리\n",
    "    if current_question is not None and current_answer:\n",
    "        qa_pairs.append({\n",
    "            'number': current_number,\n",
    "            'question': current_question,\n",
    "            'answer': ' '.join(current_answer).strip()\n",
    "        })\n",
    "    \n",
    "    # 번호 순서대로 정렬\n",
    "    qa_pairs.sort(key=lambda x: x['number'])\n",
    "    \n",
    "    return qa_pairs"
   ]
  },
  {
   "cell_type": "code",
   "execution_count": 7,
   "metadata": {},
   "outputs": [
    {
     "name": "stdout",
     "output_type": "stream",
     "text": [
      "추출된 QA 쌍 개수: 50\n",
      "추출된 첫번째 QA: \n",
      "{'number': 1, 'question': '경기도 과천시에서 공급되는 주택의 해당 주택건설지역의 범위는?', 'answer': '해당 주택건설지역이란 특별시ㆍ광역시ㆍ특별자치시ㆍ특별자치도(관할 구역 안에 지방자치단체인 시ㆍ군이 없는 특별자치도를 말한다) 또는 시ㆍ군의 행정구역을 말합니다. 따라서, 경기도 과천시에서 공급하는 주택의 경우 과천시가 해당 주택건설지역에 해당됩니다. 참고로, 서울특별시에서 공급되는 주택의 경우 서울특별시 전역, 인천광역시의 경우 인천광역시 전역이 해당 주택건설지역에 해당됩니다.'}\n"
     ]
    }
   ],
   "source": [
    "# QA 쌍 추출\n",
    "qa_pairs = extract_qa_pairs(docs[0].page_content) \n",
    "\n",
    "print(f\"추출된 QA 쌍 개수: {len(qa_pairs)}\")\n",
    "print(f\"추출된 첫번째 QA: \\n{qa_pairs[0]}\")"
   ]
  },
  {
   "cell_type": "markdown",
   "metadata": {},
   "source": [
    "- QA 쌍을 문자열 포맷팅 후 문서 객체로 변환 "
   ]
  },
  {
   "cell_type": "code",
   "execution_count": 9,
   "metadata": {},
   "outputs": [
    {
     "name": "stdout",
     "output_type": "stream",
     "text": [
      "키워드: 해당 주택건설지역\n",
      "요약: 경기도 과천시에서 공급되는 주택의 해당 주택건설지역은 과천시 행정구역 전체를 의미한다.\n"
     ]
    }
   ],
   "source": [
    "from langchain_core.prompts import ChatPromptTemplate\n",
    "from langchain_openai import ChatOpenAI\n",
    "from pydantic import BaseModel, Field\n",
    "from typing import List\n",
    "\n",
    "# 출력 형식 정의\n",
    "class KeywordOutput(BaseModel):\n",
    "    keyword: str = Field(description=\"텍스트에서 추출한 가장 중요한 키워드(법률용어, 주제 등))\")\n",
    "    summary: str = Field(description=\"텍스트의 간단한 요약\")\n",
    "\n",
    "# 프롬프트 템플릿 정의\n",
    "prompt = ChatPromptTemplate.from_messages([\n",
    "    (\"system\", \"\"\"당신은 텍스트 분석 전문가입니다. \n",
    "주어진 텍스트에서 중요한 키워드를 추출하고, 텍스트의 간단한 요약을 작성하는 것이 당신의 역할입니다.\n",
    "\n",
    "## 추출 지침:\n",
    "- 텍스트의 맥락을 고려하여 핵심 용어나 전문 용어를 추출합니다\n",
    "- 주요 아이디어나 원리, 개념을 포함합니다\n",
    "- 가장 중요한 키워드를 1개 추출합니다\n",
    "- 요약은 1문장으로 간결하게 작성합니다\n",
    "\n",
    "## 출력 형식:\n",
    "- keyword: 가장 중요한 키워드 \n",
    "- summary: 텍스트의 간단한 요약\"\"\"),\n",
    "    \n",
    "    (\"user\", \"다음 텍스트를 분석해주세요:\\n\\n{input_text}\")\n",
    "])\n",
    "\n",
    "# LCEL 체인 구성\n",
    "llm_with_structure = llm.with_structured_output(KeywordOutput) \n",
    "keyword_extractor = prompt | llm_with_structure\n",
    "\n",
    "# 텍스트 추출 테스트     \n",
    "result = keyword_extractor.invoke(qa_pairs[0]['question']+qa_pairs[0]['answer'])\n",
    "print(\"키워드:\", result.keyword)\n",
    "print(\"요약:\", result.summary)"
   ]
  },
  {
   "cell_type": "code",
   "execution_count": 10,
   "metadata": {},
   "outputs": [
    {
     "name": "stdout",
     "output_type": "stream",
     "text": [
      "포맷팅된 문서 개수: 50\n",
      "[1]\n",
      "질문: 경기도 과천시에서 공급되는 주택의 해당 주택건설지역의 범위는?\n",
      "답변: 해당 주택건설지역이란 특별시ㆍ광역시ㆍ특별자치시ㆍ특별자치도(관할 구역 안에 지방자치단체인 시ㆍ군이 없는 특별자치도를 말한다) 또는 시ㆍ군의 행정구역을 말합니다. 따라서, 경기도 과천시에서 공급하는 주택의 경우 과천시가 해당 주택건설지역에 해당됩니다. 참고로, 서울특별시에서 공급되는 주택의 경우 서울특별시 전역, 인천광역시의 경우 인천광역시 전역이 해당 주택건설지역에 해당됩니다.\n",
      "\n",
      "--------------------------------------------------------------------------------------------------------------------------------------------------------------------------------------------------------\n",
      "{'answer': '해당 주택건설지역이란 특별시ㆍ광역시ㆍ특별자치시ㆍ특별자치도(관할 구역 안에 지방자치단체인 시ㆍ군이 없는 특별자치도를 '\n",
      "           '말한다) 또는 시ㆍ군의 행정구역을 말합니다. 따라서, 경기도 과천시에서 공급하는 주택의 경우 과천시가 해당 '\n",
      "           '주택건설지역에 해당됩니다. 참고로, 서울특별시에서 공급되는 주택의 경우 서울특별시 전역, 인천광역시의 경우 인천광역시 '\n",
      "           '전역이 해당 주택건설지역에 해당됩니다.',\n",
      " 'keyword': '해당 주택건설지역',\n",
      " 'question': '경기도 과천시에서 공급되는 주택의 해당 주택건설지역의 범위는?',\n",
      " 'question_id': 1,\n",
      " 'summary': '경기도 과천시에서 공급되는 주택의 해당 주택건설지역은 과천시 행정구역 전체를 의미한다.'}\n"
     ]
    }
   ],
   "source": [
    "from langchain_core.documents import Document\n",
    "\n",
    "def format_qa_pairs(qa_pairs):\n",
    "    \"\"\"\n",
    "    추출된 QA 쌍을 포맷팅하여 문서 객체로 변환\n",
    "    \"\"\"\n",
    "    processed_docs = []\n",
    "    for pair in qa_pairs:\n",
    "\n",
    "        # QA 쌍을 포맷팅\n",
    "        formatted_output = (\n",
    "            f\"[{pair['number']}]\\n\"\n",
    "            f\"질문: {pair['question']}\\n\"\n",
    "            f\"답변: {pair['answer']}\\n\"\n",
    "        )\n",
    "\n",
    "        # 키워드와 요약 추출\n",
    "        result = keyword_extractor.invoke(pair['question']+\"\\n\\n\"+pair['answer'])\n",
    "\n",
    "        # 문서 객체 생성\n",
    "        doc = Document(\n",
    "            page_content=formatted_output,\n",
    "            metadata={\n",
    "                'question_id': int(pair['number']),\n",
    "                'question': pair['question'],\n",
    "                'answer': pair['answer'],\n",
    "                'keyword': result.keyword,\n",
    "                'summary': result.summary\n",
    "            }\n",
    "        )\n",
    "        processed_docs.append(doc)\n",
    "\n",
    "    return processed_docs\n",
    "\n",
    "\n",
    "# QA 쌍 포맷팅\n",
    "formatted_docs = format_qa_pairs(qa_pairs)\n",
    "print(f\"포맷팅된 문서 개수: {len(formatted_docs)}\")\n",
    "\n",
    "# 문서 확인\n",
    "print(formatted_docs[0].page_content)\n",
    "print(\"-\" * 200)\n",
    "# 문서 메타데이터 확인\n",
    "pprint(formatted_docs[0].metadata)"
   ]
  },
  {
   "cell_type": "markdown",
   "metadata": {},
   "source": [
    "- 문서 객체 포맷팅 구성"
   ]
  },
  {
   "cell_type": "code",
   "execution_count": 11,
   "metadata": {},
   "outputs": [],
   "source": [
    "from langchain_core.documents import Document\n",
    "\n",
    "def format_qa_pairs_with_summary(qa_pairs):\n",
    "    \"\"\"\n",
    "    추출된 QA 쌍을 포맷팅하여 문서 객체로 변환\n",
    "    \"\"\"\n",
    "    processed_docs = []\n",
    "    for pair in qa_pairs:\n",
    "\n",
    "        # 키워드와 요약 추출\n",
    "        result = keyword_extractor.invoke(pair['question']+\"\\n\\n\"+pair['answer'])\n",
    "\n",
    "        # 문서 객체 생성\n",
    "        doc = Document(\n",
    "            page_content=result.summary,\n",
    "            metadata={\n",
    "                'question_id': int(pair['number']),\n",
    "                'question': pair['question'],\n",
    "                'answer': pair['answer'],\n",
    "                'keyword': result.keyword,\n",
    "            }\n",
    "        )\n",
    "        processed_docs.append(doc)\n",
    "\n",
    "    return processed_docs\n"
   ]
  },
  {
   "cell_type": "code",
   "execution_count": 12,
   "metadata": {},
   "outputs": [
    {
     "name": "stdout",
     "output_type": "stream",
     "text": [
      "포맷팅된 문서 개수: 50\n",
      "경기도 과천시에서 공급되는 주택의 해당 주택건설지역은 과천시 행정구역 전체를 의미한다.\n",
      "--------------------------------------------------------------------------------------------------------------------------------------------------------------------------------------------------------\n",
      "{'answer': '해당 주택건설지역이란 특별시ㆍ광역시ㆍ특별자치시ㆍ특별자치도(관할 구역 안에 지방자치단체인 시ㆍ군이 없는 특별자치도를 '\n",
      "           '말한다) 또는 시ㆍ군의 행정구역을 말합니다. 따라서, 경기도 과천시에서 공급하는 주택의 경우 과천시가 해당 '\n",
      "           '주택건설지역에 해당됩니다. 참고로, 서울특별시에서 공급되는 주택의 경우 서울특별시 전역, 인천광역시의 경우 인천광역시 '\n",
      "           '전역이 해당 주택건설지역에 해당됩니다.',\n",
      " 'keyword': '해당 주택건설지역',\n",
      " 'question': '경기도 과천시에서 공급되는 주택의 해당 주택건설지역의 범위는?',\n",
      " 'question_id': 1}\n"
     ]
    }
   ],
   "source": [
    "# QA 쌍 포맷팅\n",
    "summary_formatted_docs = format_qa_pairs_with_summary(qa_pairs) \n",
    "print(f\"포맷팅된 문서 개수: {len(summary_formatted_docs)}\")\n",
    "\n",
    "# 문서 확인\n",
    "print(summary_formatted_docs[0].page_content)\n",
    "print(\"-\" * 200)\n",
    "# 문서 메타데이터 확인\n",
    "pprint(summary_formatted_docs[0].metadata)"
   ]
  },
  {
   "cell_type": "markdown",
   "metadata": {},
   "source": [
    "## 벡터 저장\n",
    "- OpenAI 모델에서 허깅페이스로 변경 \n",
    "  - AS-IS : text-embedding-3-small\n",
    "  - TO-BE : jhgan/ko-sroberta-multitask\n",
    "  \n",
    "### 모델 선정 이유 \n",
    "- 한국어 처리에 강점이 있는 모델 "
   ]
  },
  {
   "cell_type": "code",
   "execution_count": null,
   "metadata": {},
   "outputs": [],
   "source": [
    "from langchain_chroma import Chroma\n",
    "from langchain_community.embeddings import HuggingFaceEmbeddings\n",
    "\n",
    "embeddings = HuggingFaceEmbeddings(model_name=\"jhgan/ko-sroberta-multitask\")\n",
    "\n",
    "# 문서 벡터 저장\n",
    "vector_store = Chroma.from_documents(  \n",
    "    documents=formatted_docs,\n",
    "    embedding=embeddings,\n",
    "    collection_name=\"enhance_housing_faq_db\",\n",
    "    persist_directory=\"./chroma_db\",\n",
    ")"
   ]
  },
  {
   "cell_type": "code",
   "execution_count": 16,
   "metadata": {},
   "outputs": [
    {
     "name": "stdout",
     "output_type": "stream",
     "text": [
      "포맷팅된 문서를 data/housing_faq_formatted.json에 저장했습니다.\n"
     ]
    }
   ],
   "source": [
    "output_file = \"data/housing_faq_formatted.json\"\n",
    "\n",
    "with open(output_file, 'w', encoding='utf-8-sig') as f:\n",
    "    json.dump([doc.model_dump() for doc in formatted_docs], f, indent=2, ensure_ascii=False)  # 한글이 유니코드로 변환되지 않도록 설정\n",
    "print(f\"포맷팅된 문서를 {output_file}에 저장했습니다.\")"
   ]
  },
  {
   "cell_type": "markdown",
   "metadata": {},
   "source": [
    "-  벡터 저장소 로드"
   ]
  },
  {
   "cell_type": "code",
   "execution_count": 19,
   "metadata": {},
   "outputs": [],
   "source": [
    "from langchain_chroma import Chroma\n",
    "from langchain_community.embeddings import HuggingFaceEmbeddings\n",
    "\n",
    "embeddings = HuggingFaceEmbeddings(model_name=\"jhgan/ko-sroberta-multitask\")\n",
    "\n",
    "# 벡터 저장소 로드\n",
    "vector_store = Chroma(\n",
    "    collection_name=\"enhance_housing_faq_db\",\n",
    "    persist_directory=\"./chroma_db\", \n",
    "    embedding_function=embeddings,\n",
    ")"
   ]
  },
  {
   "cell_type": "code",
   "execution_count": 20,
   "metadata": {},
   "outputs": [
    {
     "name": "stdout",
     "output_type": "stream",
     "text": [
      "벡터 저장소에 저장된 문서 개수: 50\n"
     ]
    }
   ],
   "source": [
    "print(f\"벡터 저장소에 저장된 문서 개수: {vector_store._collection.count()}\")"
   ]
  },
  {
   "cell_type": "markdown",
   "metadata": {},
   "source": [
    "### 검색기 생성 "
   ]
  },
  {
   "cell_type": "markdown",
   "metadata": {},
   "source": [
    "- search_kwargs 변경 \n",
    "  - 검색 결과간 다양성을 위해 `fetch_k` 파라미터 증가 "
   ]
  },
  {
   "cell_type": "code",
   "execution_count": 27,
   "metadata": {},
   "outputs": [],
   "source": [
    "# 테스트 질문\n",
    "target_keyword = \"청약통장\"\n",
    "query = \"청약통장에 대한 정보를 찾아주세요\""
   ]
  },
  {
   "cell_type": "code",
   "execution_count": 29,
   "metadata": {},
   "outputs": [],
   "source": [
    "mmr_retriever = vector_store.as_retriever(\n",
    "    search_type=\"mmr\",\n",
    "    search_kwargs={\n",
    "        \"k\": 3, \n",
    "        \"fetch_k\": 10, \n",
    "        \"lambda_mult\": 0.7,\n",
    "        \"filter\":{\"keyword\":{\"$eq\": target_keyword}} \n",
    "        }\n",
    ")"
   ]
  },
  {
   "cell_type": "code",
   "execution_count": 30,
   "metadata": {},
   "outputs": [
    {
     "name": "stdout",
     "output_type": "stream",
     "text": [
      "[43]\n",
      "질문: 청약통장이 압류 등으로 사용에 제한이 있거나, 청약통장 담보대출을 받고 있는 경우에도 해당 통장을 이용하여 당첨이 가능한지?\n",
      "답변: 압류 등의 상태라고 하더라도 청약통장이 해지되지 않고 유지 중이라면 청약신청이 가능합니다. 청약통장 담보대출을 받은 경우에도 청약신청이 가능합니다. 다만, 담보대출 연체 등으로 해당 은행에서 청약통장을 해지하고 담보대출 상환처리하는 경우 새로 청약통장을 가입하여 청약 신청해야 하는 점 유의하시길 바랍니다.\n",
      "\n",
      "--------------------------------------------------\n",
      "청약통장\n",
      "43\n",
      "청약통장이 압류 등으로 사용에 제한이 있거나, 청약통장 담보대출을 받고 있는 경우에도 해당 통장을 이용하여 당첨이 가능한지?\n",
      "압류 등의 상태라고 하더라도 청약통장이 해지되지 않고 유지 중이라면 청약신청이 가능합니다. 청약통장 담보대출을 받은 경우에도 청약신청이 가능합니다. 다만, 담보대출 연체 등으로 해당 은행에서 청약통장을 해지하고 담보대출 상환처리하는 경우 새로 청약통장을 가입하여 청약 신청해야 하는 점 유의하시길 바랍니다.\n",
      "==================================================\n"
     ]
    }
   ],
   "source": [
    "### mmr 검색 테스트\n",
    "results = mmr_retriever.invoke(query)\n",
    "for result in results:\n",
    "    print(result.page_content)\n",
    "    print(\"-\" * 50)\n",
    "    print(result.metadata['keyword'])\n",
    "    print(result.metadata['question_id'])\n",
    "    print(result.metadata['question'])\n",
    "    print(result.metadata['answer'])\n",
    "    print(\"=\" * 50)"
   ]
  },
  {
   "cell_type": "markdown",
   "metadata": {},
   "source": [
    "### RAG Chain 구성 \n",
    "- 참조된 문서를 기반으로 답변"
   ]
  },
  {
   "cell_type": "code",
   "execution_count": 42,
   "metadata": {},
   "outputs": [],
   "source": [
    "from langchain_core.prompts import ChatPromptTemplate\n",
    "\n",
    "template =\"\"\"Answer all the question in Korean(한국어). \n",
    "당신은 주택청약 전문가입니다. \n",
    "제공되는 '참고 문서'의 내용만을 사용하여 사용자의 질문에 답변해야 합니다.\n",
    "\n",
    "[참고 문서]\n",
    "{context}\n",
    "\n",
    "[질문]\n",
    "{question}\n",
    "\n",
    "[답변]\n",
    "\"\"\"\n",
    "\n",
    "prompt = ChatPromptTemplate.from_template(template)\n"
   ]
  },
  {
   "cell_type": "markdown",
   "metadata": {},
   "source": [
    "- 문서 포맷팅 함수 "
   ]
  },
  {
   "cell_type": "code",
   "execution_count": 43,
   "metadata": {},
   "outputs": [],
   "source": [
    "def format_docs(docs):\n",
    "    return '\\n\\n'.join([d.page_content for d in docs])"
   ]
  },
  {
   "cell_type": "markdown",
   "metadata": {},
   "source": [
    "- 작동 확인 테스트"
   ]
  },
  {
   "cell_type": "code",
   "execution_count": 44,
   "metadata": {},
   "outputs": [
    {
     "data": {
      "text/plain": [
       "'청약 통장에 대해 설명드리겠습니다.\\n\\n청약 통장은 주택을 분양받기 위해 가입하는 저축통장으로, 종류에 따라 국민주택, 민영주택 등 청약 가능한 주택 유형과 조건이 다릅니다.\\n\\n1. **주택청약종합저축**  \\n- 국민주택과 민영주택 모두 청약할 수 있는 통장입니다.  \\n- 기존 청년우대형 주택청약종합저축 가입자는 별도 신청 없이 청년주택드림청약통장으로 자동 전환됩니다.  \\n- 일반 주택청약종합저축 가입자는 은행 방문 후 전환 신청이 필요하며, 당첨계좌인 경우에는 재가입해야 합니다.\\n\\n2. **청약저축**  \\n- 2003년 이전에는 국민주택 청약을 위한 저축이었으며, 민영주택 청약은 불가능했습니다.  \\n- 다만, 청약저축 가입자가 민영주택에 청약하려면 청약예금으로 1회에 한해 전환할 수 있습니다.  \\n- 전환 조건은 청약저축 납입인정금액이 민영주택 청약 예치기준금액 이상이어야 하며, 전환은 입주자모집공고일 전일까지 은행에서 완료해야 합니다.  \\n- 전환 후에는 청약저축으로 재전환할 수 없습니다.\\n\\n3. **청약예금 및 청약부금**  \\n- 민영주택 청약 시 입주자모집공고일 기준으로 해당 주택 전용면적에 맞는 예치기준 금액 이상이 납입되어 있어야 청약이 인정됩니다.  \\n- 청약예금 가입자는 입주자모집공고일 전일까지 주택면적 변경이 가능하며, 변경 후 면적으로 청약 신청할 수 있습니다.  \\n- 청약부금 가입자가 85㎡ 초과 민영주택에 청약하려면 입주자모집공고일 전일까지 청약예금으로 전환해야 합니다.\\n\\n4. **기타**  \\n- 청약저축에서 민영주택 청약예금으로 전환은 은행 영업점 방문이 필수이며, 인터넷 신청은 불가능합니다.  \\n- 통장 예치금은 입주자모집공고일 기준으로 납입되어 있어야 인정됩니다.\\n\\n요약하면, 청약 통장은 주택 유형과 가입 시기에 따라 청약 가능한 주택과 전환 조건이 다르므로, 청약하려는 주택 유형과 시기에 맞게 통장 종류와 납입금액을 확인하고 관리하는 것이 중요합니다.'"
      ]
     },
     "execution_count": 44,
     "metadata": {},
     "output_type": "execute_result"
    }
   ],
   "source": [
    "from langchain_core.output_parsers import StrOutputParser\n",
    "from langchain_core.runnables import RunnablePassthrough\n",
    "\n",
    "# Chain 구성\n",
    "test_retriever = vector_store.as_retriever(\n",
    "    search_kwargs={\"k\": 3},\n",
    ")\n",
    "\n",
    "rag_chain = (\n",
    "    {'context': test_retriever | format_docs, 'question': RunnablePassthrough()}\n",
    "    | prompt\n",
    "    | llm\n",
    "    | StrOutputParser()\n",
    ")\n",
    "\n",
    "# Chain 실행\n",
    "query = \"청약 통장에 대해서 알려주세요\"\n",
    "rag_chain.invoke(query)"
   ]
  },
  {
   "cell_type": "markdown",
   "metadata": {},
   "source": [
    "- 문서와 포맷팅된 컨텍스트를 반환하는 함수"
   ]
  },
  {
   "cell_type": "code",
   "execution_count": 50,
   "metadata": {},
   "outputs": [],
   "source": [
    "from typing import Dict\n",
    "\n",
    "def get_context_and_docs(question: str) -> Dict:\n",
    "    \"\"\"문서와 포맷팅된 컨텍스트를 함께 반환\n",
    "    \n",
    "    Args:\n",
    "        question: 검색할 질문\n",
    "\n",
    "    Returns:\n",
    "        Dict: 문서와 포맷팅된 컨텍스트, 검색된 문서 리스트\n",
    "    \"\"\"\n",
    "    docs = mmr_retriever.invoke(question)\n",
    "    return {\n",
    "        \"question\": question,  # 질문\n",
    "        \"context\": format_docs(docs),   # 문서 포맷팅된 컨텍스트\n",
    "        \"source_documents\": docs   # 검색된 문서 리스트\n",
    "    }"
   ]
  },
  {
   "cell_type": "markdown",
   "metadata": {},
   "source": [
    "- 컨텍스트와 질문을 받아 답변 생성"
   ]
  },
  {
   "cell_type": "code",
   "execution_count": 51,
   "metadata": {},
   "outputs": [],
   "source": [
    "def prompt_and_generate_answer(input_data: Dict) -> Dict:\n",
    "    \"\"\"컨텍스트와 질문을 입력으로 받아 답변을 생성\n",
    "\n",
    "    Args:\n",
    "        input_data (Dict): 컨텍스트와 질문이 포함된 딕셔너리\n",
    "\n",
    "    Returns:\n",
    "        Dict: 생성된 답변과 소스 문서 정보가 포함된 딕셔너리\n",
    "    \"\"\"\n",
    "\n",
    "    # LCEL 체인 구성 (StrOutputParser 사용)\n",
    "    answer_chain = prompt | llm | StrOutputParser()\n",
    "    answer = answer_chain.invoke(input_data)\n",
    "\n",
    "    return {\n",
    "        \"answer\": answer,  # 생성된 답변 (answer_chain 결과)\n",
    "        \"source_documents\": input_data[\"source_documents\"]  # 소스 문서 정보 (input_data에서 가져옴)\n",
    "    }"
   ]
  },
  {
   "cell_type": "markdown",
   "metadata": {},
   "source": [
    "- RAG 체인 구성"
   ]
  },
  {
   "cell_type": "code",
   "execution_count": 52,
   "metadata": {},
   "outputs": [],
   "source": [
    "from langchain_core.runnables import RunnableLambda, RunnablePassthrough\n",
    "from operator import itemgetter\n",
    "\n",
    "# Chain 구성\n",
    "rag_chain = (\n",
    "    RunnableLambda(get_context_and_docs) |  # 문서와 컨텍스트 가져오기 \n",
    "    {\n",
    "        'response': RunnableLambda(prompt_and_generate_answer),  # 답변 생성\n",
    "        'question': itemgetter(\"question\"),\n",
    "        \"source_documents\": itemgetter(\"source_documents\")  # 소스 반환\n",
    "    }\n",
    ")"
   ]
  },
  {
   "cell_type": "code",
   "execution_count": 53,
   "metadata": {},
   "outputs": [
    {
     "name": "stdout",
     "output_type": "stream",
     "text": [
      "답변: [답변]  \n",
      "참고 문서에 수원시의 주택건설지역에 관한 내용이 포함되어 있지 않아 정확한 답변을 드리기 어렵습니다. 추가적인 자료나 해당 지자체의 공식 정보를 참고하시길 권장합니다.\n",
      "\n",
      "참조 문서:\n",
      "\n",
      "문서 1:\n",
      "내용: [43]\n",
      "질문: 청약통장이 압류 등으로 사용에 제한이 있거나, 청약통장 담보대출을 받고 있는 경우에도 해당 통장을 이용하여 당첨이 가능한지?\n",
      "답변: 압류 등의 상태라고 하더라도 청약통장이 해지되지 않고 유지 중이라면 청약신청이 가능합니다. 청약통장 담보대출을 받은 경우에도 청약신청이 가능합니다. 다만, 담보대출 연체 등으로 해당 은행에서 청약통장을 해지하고 담보대출 상환처리하는 경우 새로 청약통장을 가입하여 청약 신청해야 하는 점 유의하시길 바랍니다.\n",
      "\n"
     ]
    }
   ],
   "source": [
    "query = \"수원시의 주택건설지역은 어디에 해당하나요?\"\n",
    "result = rag_chain.invoke(query)\n",
    "\n",
    "# 결과 출력\n",
    "print(\"답변:\", result[\"response\"][\"answer\"])\n",
    "print(\"\\n참조 문서:\")\n",
    "for i, doc in enumerate(result[\"source_documents\"], 1):\n",
    "    print(f\"\\n문서 {i}:\")\n",
    "    print(f\"내용: {doc.page_content}\")"
   ]
  },
  {
   "cell_type": "code",
   "execution_count": 54,
   "metadata": {},
   "outputs": [
    {
     "name": "stdout",
     "output_type": "stream",
     "text": [
      "\n",
      "문서 1:\n",
      "내용: [43]\n",
      "질문: 청약통장이 압류 등으로 사용에 제한이 있거나, 청약통장 담보대출을 받고 있는 경우에도 해당 통장을 이용하여 당첨이 가능한지?\n",
      "답변: 압류 등의 상태라고 하더라도 청약통장이 해지되지 않고 유지 중이라면 청약신청이 가능합니다. 청약통장 담보대출을 받은 경우에도 청약신청이 가능합니다. 다만, 담보대출 연체 등으로 해당 은행에서 청약통장을 해지하고 담보대출 상환처리하는 경우 새로 청약통장을 가입하여 청약 신청해야 하는 점 유의하시길 바랍니다.\n",
      "\n",
      "평가 결과: no\n"
     ]
    }
   ],
   "source": [
    "# 검색 문서의 질문 관련성 평가\n",
    "\n",
    "prompt = ChatPromptTemplate.from_messages([\n",
    "    (\"system\", \"\"\"주어진 컨텍스트가 질문에 답변하는데 필요한 정보를 포함하고 있는지 논리적으로 평가하세요.\n",
    "단계적으로 진행하며, 평가결과에 대한 검증을 수행하세요.\n",
    "\n",
    "다음 기준 중 하나 이상을 충족할 경우 'Yes'로 답변하고, 모두 충족하지 못하면 'No'로 답변하세요:\n",
    "\n",
    "1. 컨텍스트가 질문에 답변하는데 필요한 정보를 직접적으로 포함하고 있는가?\n",
    "2. 컨텍스트의 정보로부터 답변에 필요한 내용을 논리적으로 추론할 수 있는가?\n",
    "3. 컨텍스트의 정보가 질문에 대한 답변을 제공할 수 있는가?\n",
    "\n",
    "'Yes' 또는 'No'로만 답변하세요.\"\"\"),\n",
    "    (\"human\", \"\"\"[컨텍스트]\n",
    "{context}\n",
    "\n",
    "[질문]\n",
    "{question}\"\"\")\n",
    "])\n",
    "\n",
    "chain = prompt | llm | StrOutputParser()    # gpt-4.1-mini 모델 사용\n",
    "\n",
    "for i, doc in enumerate(result[\"source_documents\"], 1):\n",
    "    print(f\"\\n문서 {i}:\")\n",
    "    print(f\"내용: {doc.page_content}\")\n",
    "    relevance = chain.invoke({\n",
    "        \"context\": doc.page_content,\n",
    "        \"question\": query\n",
    "    }).lower()\n",
    "\n",
    "    print(f\"평가 결과: {relevance}\")"
   ]
  },
  {
   "cell_type": "code",
   "execution_count": null,
   "metadata": {},
   "outputs": [],
   "source": []
  }
 ],
 "metadata": {
  "kernelspec": {
   "display_name": "faq_chatbot",
   "language": "python",
   "name": "python3"
  },
  "language_info": {
   "codemirror_mode": {
    "name": "ipython",
    "version": 3
   },
   "file_extension": ".py",
   "mimetype": "text/x-python",
   "name": "python",
   "nbconvert_exporter": "python",
   "pygments_lexer": "ipython3",
   "version": "3.12.11"
  }
 },
 "nbformat": 4,
 "nbformat_minor": 2
}
