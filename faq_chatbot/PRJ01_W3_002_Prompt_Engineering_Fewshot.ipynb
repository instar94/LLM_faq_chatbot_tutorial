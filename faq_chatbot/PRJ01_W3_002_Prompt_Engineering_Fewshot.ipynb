{
 "cells": [
  {
   "cell_type": "markdown",
   "metadata": {},
   "source": [
    "#  프롬프트 엔지니어링 \n",
    "- Zero-shot, Few-shot\n",
    "\n",
    "### **학습 목표:**  Zero-shot과 Few-shot 프롬프팅 기법의 특징과 적용 방법을 실습한다\n",
    "\n",
    "---"
   ]
  },
  {
   "cell_type": "markdown",
   "metadata": {},
   "source": [
    "# 환경 설정 및 준비"
   ]
  },
  {
   "cell_type": "markdown",
   "metadata": {},
   "source": [
    "`(1) Env 환경변수`"
   ]
  },
  {
   "cell_type": "code",
   "execution_count": 1,
   "metadata": {},
   "outputs": [
    {
     "data": {
      "text/plain": [
       "True"
      ]
     },
     "execution_count": 1,
     "metadata": {},
     "output_type": "execute_result"
    }
   ],
   "source": [
    "from dotenv import load_dotenv\n",
    "load_dotenv()"
   ]
  },
  {
   "cell_type": "markdown",
   "metadata": {},
   "source": [
    "`(2) 기본 라이브러리`"
   ]
  },
  {
   "cell_type": "code",
   "execution_count": 2,
   "metadata": {},
   "outputs": [],
   "source": [
    "import os\n",
    "from glob import glob\n",
    "\n",
    "from pprint import pprint\n",
    "import json"
   ]
  },
  {
   "cell_type": "markdown",
   "metadata": {},
   "source": [
    "`(3) LLM 설정`"
   ]
  },
  {
   "cell_type": "code",
   "execution_count": 3,
   "metadata": {},
   "outputs": [],
   "source": [
    "from langchain_openai import ChatOpenAI\n",
    "\n",
    "llm = ChatOpenAI(\n",
    "    model='gpt-4.1-mini',\n",
    "    temperature=0.3,\n",
    "    top_p=0.9\n",
    ")"
   ]
  },
  {
   "cell_type": "markdown",
   "metadata": {},
   "source": [
    "# **Zero-shot** 프롬프팅\n",
    "\n",
    "- **Zero-shot 프롬프팅**은 예시 없이 AI가 즉시 작업을 수행하는 기법입니다\n",
    "\n",
    "- 명확한 **지시사항**만으로 원하는 결과를 얻을 수 있어 **사용이 간단**합니다\n",
    "\n",
    "- 단순하고 직관적인 작업에 적합한 프롬프팅 방식이지만, 작업의 **복잡도에 따라 선택적 사용**이 필요합니다"
   ]
  },
  {
   "cell_type": "code",
   "execution_count": 4,
   "metadata": {},
   "outputs": [
    {
     "name": "stdout",
     "output_type": "stream",
     "text": [
      "인공지능 반도체 시장에서 삼성전자의 주요 경쟁업체는 다음과 같습니다:\n",
      "\n",
      "1. **엔비디아 (NVIDIA)**  \n",
      "   - 인공지능 및 딥러닝 분야에서 가장 선도적인 GPU 제조업체입니다. 특히 AI 학습과 추론에 최적화된 GPU 아키텍처와 소프트웨어 생태계를 갖추고 있어 시장 점유율이 매우 높습니다.\n",
      "\n",
      "2. **인텔 (Intel)**  \n",
      "   - CPU뿐만 아니라 AI 가속기, FPGA, 그리고 최근에는 AI 전용 칩(예: Habana Labs 인수)을 통해 AI 반도체 시장에 적극 진출하고 있습니다.\n",
      "\n",
      "3. **구글 (Google)**  \n",
      "   - 자체 개발한 TPU(Tensor Processing Unit)를 통해 클라우드 기반 AI 연산에 특화된 반도체를 공급하며, AI 서비스와 하드웨어를 통합하는 전략을 펼치고 있습니다.\n",
      "\n",
      "4. **AMD**  \n",
      "   - 고성능 GPU와 CPU를 기반으로 AI 연산에 적합한 제품을 제공하며, 엔비디아와 경쟁하고 있습니다.\n",
      "\n",
      "5. **화웨이 (Huawei)**  \n",
      "   - 자체 개발한 AI 칩셋(예: Ascend 시리즈)을 통해 중국 및 글로벌 시장에서 AI 반도체 경쟁력을 강화하고 있습니다.\n",
      "\n",
      "6. **미디어텍 (MediaTek)**  \n",
      "   - 모바일 및 임베디드 AI 칩셋 분야에서 강점을 가지며, AI 기능이 내장된 SoC를 공급합니다.\n",
      "\n",
      "이 외에도 다양한 스타트업과 반도체 기업들이 AI 반도체 시장에 진출하고 있으며, 삼성전자도 자체 AI 반도체 개발 및 생산 역량을 강화하여 경쟁력을 높이고 있습니다.\n"
     ]
    }
   ],
   "source": [
    "from langchain_core.prompts import PromptTemplate\n",
    "from langchain_core.output_parsers import StrOutputParser\n",
    "\n",
    "# Zero-shot 프롬프트 템플릿 생성\n",
    "zero_shot_prompt = PromptTemplate(\n",
    "    input_variables=[\"topic\"],\n",
    "    template=\"다음 시장에서 삼성전자의 경쟁업체를 설명해주세요: {topic}\"\n",
    ")\n",
    "\n",
    "# 체인 생성\n",
    "chain = zero_shot_prompt | llm | StrOutputParser()\n",
    "\n",
    "# Zero-shot 실행\n",
    "topic = \"인공지능 반도체\"\n",
    "zero_shot_result = chain.invoke(input={\"topic\": topic}) \n",
    "\n",
    "print(zero_shot_result)"
   ]
  },
  {
   "cell_type": "code",
   "execution_count": 5,
   "metadata": {},
   "outputs": [
    {
     "name": "stdout",
     "output_type": "stream",
     "text": [
      "[답변]  \n",
      "인공지능 반도체 시장에서 삼성전자의 주요 경쟁업체는 현재 지배적인 위치를 차지하고 있는 엔비디아(NVIDIA)입니다. 뉴스에 따르면 삼성전자는 내년 초 자체 개발한 AI 가속기를 처음 출시하며, 엔비디아의 독점적 지위에 도전하려는 의지를 보이고 있습니다. 따라서 엔비디아가 삼성전자의 가장 큰 경쟁자로 볼 수 있습니다.\n"
     ]
    }
   ],
   "source": [
    "# Zero-shot 프롬프팅 - 컨텍스트(Context) 제공 \n",
    "zero_shot_prompt = PromptTemplate(\n",
    "    input_variables=[\"context\", \"topic\"],\n",
    "    template=\"\"\"{topic} 시장에서 삼성전자의 경쟁업체를 설명해주세요. \n",
    "    반드시 다음 제시된 뉴스에 근거해서 답변하세요:\n",
    "\n",
    "    [뉴스]\n",
    "    {context}\n",
    "    \n",
    "    [답변]\n",
    "    \"\"\"\n",
    ")\n",
    "\n",
    "\n",
    "# 체인 생성\n",
    "chain = zero_shot_prompt | llm | StrOutputParser()\n",
    "\n",
    "# Zero-shot 실행\n",
    "context = \"\"\"삼성전자가 내년 초에 자체적으로 개발한 인공지능(AI) 가속기를 처음으로 출시할 예정이다. \n",
    "이는 AI 반도체 시장에서 지배적인 위치를 차지하고 있는 엔비디아의 독점을 도전하고, \n",
    "세계 최고의 반도체 제조업체로서의 지위를 다시 확립하려는 삼성전자의 노력으로 해석된다.\n",
    "\"\"\"\n",
    "\n",
    "topic = \"인공지능 반도체\"\n",
    "zero_shot_result = chain.invoke(input={\"context\": context, \"topic\": topic})\n",
    "\n",
    "print(zero_shot_result)"
   ]
  },
  {
   "cell_type": "markdown",
   "metadata": {},
   "source": [
    "# **One-shot** 프롬프팅\n",
    "\n",
    "- **One-shot 프롬프팅**은 하나의 예시를 통해 AI가 작업 패턴을 학습하는 기법입니다\n",
    "\n",
    "- **Zero-shot** 방식보다 더 나은 성능을 제공하며, **형식화된 작업**에 특히 효과적입니다\n",
    "\n",
    "- 단일 예시로 **품질 향상**이 가능하나, 해당 예시에 **과의존**할 수 있는 한계가 있습니다"
   ]
  },
  {
   "cell_type": "code",
   "execution_count": 6,
   "metadata": {},
   "outputs": [],
   "source": [
    "### One-shot 프롬프트 템플릿 생성\n",
    "# 1. Zero-shot 프롬프트 템플릿에 예시(example)를 포함하도록 수정\n",
    "# 2. input_variables에 example_topic과 example_response 추가\n",
    "\n",
    "from langchain_core.prompts import PromptTemplate\n",
    "from langchain_core.output_parsers import StrOutputParser\n",
    "\n",
    "one_shot_prompt = PromptTemplate(\n",
    "    input_variables=[\"example_topic\", \"example_response\", \"topic\"],\n",
    "    template=\"\"\"다음은 특정 시장에서 삼성전자의 경쟁업체를 설명하는 예시이다:\n",
    "\n",
    "시장: {example_topic}\n",
    "경쟁업체: {example_response}\n",
    "\n",
    "이제 다음 시장에서 삼성전자의 경쟁업체를 설명해주세요:\n",
    "시장: {topic}\"\"\"\n",
    ")\n",
    "\n",
    "# Example 데이터 설정\n",
    "example_topic = \"스마트폰\"\n",
    "example_response = \"\"\"애플: 프리미엄 시장에서 주요 경쟁사로, iPhone 시리즈로 경쟁\n",
    "샤오미: 중저가 시장에서 강세를 보이며 글로벌 시장 점유율 확대\n",
    "구글: Pixel 시리즈로 프리미엄 시장 진출, AI 기능 강조\"\"\""
   ]
  },
  {
   "cell_type": "markdown",
   "metadata": {},
   "source": [
    "`(1) PromptTemplate 그대로 사용`"
   ]
  },
  {
   "cell_type": "code",
   "execution_count": 7,
   "metadata": {},
   "outputs": [
    {
     "name": "stdout",
     "output_type": "stream",
     "text": [
      "one_shot_result:\n",
      "시장: 인공지능 반도체  \n",
      "경쟁업체:  \n",
      "- 엔비디아(NVIDIA): AI 연산에 최적화된 GPU를 기반으로 시장을 선도하며, 데이터센터 및 자율주행 등 다양한 AI 응용 분야에서 강력한 입지 확보  \n",
      "- AMD: 고성능 GPU와 CPU를 결합한 솔루션으로 AI 및 머신러닝 워크로드에 대응하며, 엔비디아와 경쟁 구도 형성  \n",
      "- 구글(Google): 자체 개발한 TPU(Tensor Processing Unit)를 통해 클라우드 기반 AI 연산에 특화된 반도체 제공, AI 서비스 최적화에 집중  \n",
      "- 인텔(Intel): AI 가속기 및 FPGA 등 다양한 AI 반도체 제품군을 보유하며, 데이터센터 및 엣지 컴퓨팅 시장 공략  \n",
      "- 화웨이(Huawei): 자체 개발한 AI 칩셋인 Ascend 시리즈로 중국 및 글로벌 시장에서 AI 반도체 경쟁력 강화  \n",
      "\n",
      "이들 기업은 AI 연산 성능, 전력 효율성, 생태계 구축 등에서 삼성전자와 경쟁하며 인공지능 반도체 시장을 주도하고 있습니다.\n"
     ]
    }
   ],
   "source": [
    "# one_shot_prompt 적용한 체인 생성\n",
    "chain = one_shot_prompt | llm | StrOutputParser()\n",
    "\n",
    "# One-shot 실행\n",
    "topic = \"인공지능 반도체\"\n",
    "one_shot_result = chain.invoke(\n",
    "    input={\n",
    "        \"example_topic\": example_topic,\n",
    "        \"example_response\": example_response,\n",
    "        \"topic\": topic\n",
    "    }\n",
    ")\n",
    "\n",
    "print(f\"one_shot_result:\")\n",
    "print(one_shot_result)"
   ]
  },
  {
   "cell_type": "markdown",
   "metadata": {},
   "source": [
    "`(2) partial 메소드 사용`"
   ]
  },
  {
   "cell_type": "code",
   "execution_count": 8,
   "metadata": {},
   "outputs": [
    {
     "name": "stdout",
     "output_type": "stream",
     "text": [
      "partial_prompt:\n",
      "input_variables=['topic'] input_types={} partial_variables={'example_topic': '스마트폰', 'example_response': '애플: 프리미엄 시장에서 주요 경쟁사로, iPhone 시리즈로 경쟁\\n샤오미: 중저가 시장에서 강세를 보이며 글로벌 시장 점유율 확대\\n구글: Pixel 시리즈로 프리미엄 시장 진출, AI 기능 강조'} template='다음은 특정 시장에서 삼성전자의 경쟁업체를 설명하는 예시이다:\\n\\n시장: {example_topic}\\n경쟁업체: {example_response}\\n\\n이제 다음 시장에서 삼성전자의 경쟁업체를 설명해주세요:\\n시장: {topic}'\n",
      "one_shot_result:\n",
      "시장: 인공지능 반도체  \n",
      "경쟁업체:  \n",
      "- 엔비디아(NVIDIA): AI 연산에 최적화된 GPU 시장을 선도하며, 데이터센터 및 자율주행 등 다양한 AI 응용 분야에서 강력한 입지 확보  \n",
      "- AMD: 고성능 GPU 및 CPU를 기반으로 AI 및 머신러닝 워크로드에 대응, 엔비디아와 경쟁 구도 형성  \n",
      "- 구글(Google): 자체 개발한 TPU(Tensor Processing Unit)를 통해 클라우드 AI 서비스 및 내부 AI 연구에 특화된 반도체 제공  \n",
      "- 인텔(Intel): AI 가속기 및 FPGA, Habana Labs 인수 등을 통해 AI 반도체 시장 확대 중  \n",
      "- 화웨이(Huawei): 자체 개발한 AI 칩셋인 Ascend 시리즈로 중국 및 글로벌 시장 공략, AI 컴퓨팅 역량 강화\n"
     ]
    }
   ],
   "source": [
    "# Example 데이터를 반영한 부분 프롬프트 출력 \n",
    "partial_prompt = one_shot_prompt.partial(\n",
    "    example_topic=example_topic,\n",
    "    example_response=example_response,\n",
    ")\n",
    "\n",
    "print(f\"partial_prompt:\")\n",
    "print(partial_prompt)\n",
    "\n",
    "# 체인 생성\n",
    "chain = partial_prompt | llm | StrOutputParser()\n",
    "\n",
    "# One-shot 실행\n",
    "topic = \"인공지능 반도체\"\n",
    "one_shot_result = chain.invoke(input={\"topic\": topic})\n",
    "\n",
    "print(f\"one_shot_result:\")\n",
    "print(one_shot_result)"
   ]
  },
  {
   "cell_type": "markdown",
   "metadata": {},
   "source": [
    "# **Few-shot** 프롬프팅\n",
    "\n",
    "- **Few-shot 프롬프팅**은 AI 모델에게 2-5개의 예시를 제공하여 학습시키는 방법입니다\n",
    "\n",
    "- 이 방식은 **Zero-shot**이나 **One-shot** 프롬프팅보다 더 우수한 성능을 보여주며, 복잡한 작업에서 특히 효과적입니다\n",
    "\n",
    "- Few-shot 프롬프팅은 높은 성능을 제공하지만, 긴 프롬프트로 인한 **비용 증가**를 고려해야 합니다"
   ]
  },
  {
   "cell_type": "markdown",
   "metadata": {},
   "source": [
    "`(1) PromptTemplate 사용`"
   ]
  },
  {
   "cell_type": "code",
   "execution_count": 20,
   "metadata": {},
   "outputs": [
    {
     "name": "stdout",
     "output_type": "stream",
     "text": [
      "- 엔비디아(미국): GPU 기반 AI 칩 시장 선도  \n",
      "- AMD(미국): 고성능 컴퓨팅용 AI 칩 개발  \n",
      "- 화웨이(중국): 자체 AI 칩 'Ascend'로 중국 내 강세  \n",
      "- 텐센트(중국): AI 칩 및 클라우드 AI 서비스 확대  \n",
      "- 인텔(미국): AI 가속기 및 FPGA 기반 솔루션 제공\n"
     ]
    }
   ],
   "source": [
    "from langchain_core.prompts import PromptTemplate\n",
    "from langchain_core.output_parsers import StrOutputParser\n",
    "\n",
    "# Few-shot 프롬프트 템플릿 생성 \n",
    "few_shot_prompt = PromptTemplate(\n",
    "   input_variables=[\"examples\", \"topic\"],\n",
    "   template=\"\"\"다음은 여러 시장에서 삼성전자의 경쟁업체를 설명하는 예시들이다:\n",
    "\n",
    "{examples}\n",
    "\n",
    "## 가이드라인\n",
    "- 인트로, 부가 설명 없이 바로 경쟁업체 나열\n",
    "- 간결하게 핵심 키워드 중심으로 표현\n",
    "\n",
    "이제 다음 시장에서 삼성전자의 경쟁업체를 설명해주세요:\n",
    "시장: {topic}\n",
    "경쟁업체: \"\"\"\n",
    ")\n",
    "\n",
    "# Example 데이터 준비\n",
    "examples = \"\"\"\n",
    "시장: 스마트폰\n",
    "경쟁업체: \n",
    "- 애플(미국): 프리미엄 시장 주도, iPhone으로 경쟁\n",
    "- 샤오미(중국): 중저가 시장 강세, 글로벌 확장중\n",
    "- 구글(미국): Pixel로 AI 기능 강조\n",
    "\n",
    "시장: TV\n",
    "경쟁업체:\n",
    "- LG전자(한국): OLED 기술 경쟁\n",
    "- Sony(일본): 프리미엄 시장 경쟁\n",
    "- TCL(중국): 중저가 시장 공략\n",
    "\n",
    "시장: 디스플레이\n",
    "경쟁업체:\n",
    "- LG디스플레이(한국): OLED 기술에서 강력한 경쟁자\n",
    "- BOE(중국): 저가형 디스플레이 패널로 시장 점유율 확대\n",
    "- 삼성디스플레이(한국): QLED 기술로 프리미엄 시장 주도\n",
    "\"\"\"\n",
    "\n",
    "# 체인 생성 및 실행\n",
    "chain = few_shot_prompt | llm | StrOutputParser()\n",
    "result = chain.invoke({\n",
    "   \"examples\": examples,\n",
    "   \"topic\": \"인공지능 반도체\"\n",
    "})\n",
    "\n",
    "print(result)"
   ]
  },
  {
   "cell_type": "markdown",
   "metadata": {},
   "source": [
    "`(2) partial 메소드 사용`"
   ]
  },
  {
   "cell_type": "code",
   "execution_count": 10,
   "metadata": {},
   "outputs": [
    {
     "name": "stdout",
     "output_type": "stream",
     "text": [
      "partial_prompt:\n",
      "input_variables=['topic'] input_types={} partial_variables={'examples': '\\n시장: 스마트폰\\n경쟁업체: \\n- 애플(미국): 프리미엄 시장 주도, iPhone으로 경쟁\\n- 샤오미(중국): 중저가 시장 강세, 글로벌 확장중\\n- 구글(미국): Pixel로 AI 기능 강조\\n\\n시장: TV\\n경쟁업체:\\n- LG전자(한국): OLED 기술 경쟁\\n- Sony(일본): 프리미엄 시장 경쟁\\n- TCL(중국): 중저가 시장 공략\\n'} template='다음은 여러 시장에서 삼성전자의 경쟁업체를 설명하는 예시들이다:\\n\\n{examples}\\n\\n이제 다음 시장에서 삼성전자의 경쟁업체를 설명해주세요:\\n시장: {topic}'\n"
     ]
    }
   ],
   "source": [
    "# partial 메서드를 사용하여 Few-shot 프롬프트 템플릿 생성\n",
    "partial_prompt = few_shot_prompt.partial(\n",
    "    examples=examples\n",
    ")\n",
    "\n",
    "print(f\"partial_prompt:\")\n",
    "print(partial_prompt)"
   ]
  },
  {
   "cell_type": "code",
   "execution_count": 11,
   "metadata": {},
   "outputs": [
    {
     "name": "stdout",
     "output_type": "stream",
     "text": [
      "few_shot_result:\n",
      "시장: 인공지능 반도체  \n",
      "경쟁업체:  \n",
      "- 엔비디아(미국): GPU 기반 AI 연산 시장 선도, 데이터센터 및 자율주행용 칩 강점  \n",
      "- AMD(미국): 고성능 GPU 및 AI 가속기 개발, 서버용 AI 칩 확장 중  \n",
      "- 화웨이(중국): 자체 AI 칩 'Ascend' 시리즈로 중국 및 글로벌 시장 공략  \n",
      "- 텐센트(중국): AI 칩 개발 및 클라우드 AI 서비스 강화  \n",
      "- 인텔(미국): AI 전용 가속기 및 FPGA 기반 솔루션 제공, 데이터센터 AI 시장 확대 노력\n"
     ]
    }
   ],
   "source": [
    "# 체인 생성\n",
    "chain = partial_prompt | llm | StrOutputParser()\n",
    "\n",
    "# Few-shot 실행\n",
    "topic = \"인공지능 반도체\"\n",
    "few_shot_result = chain.invoke(input={\"topic\": topic})\n",
    "\n",
    "print(f\"few_shot_result:\")\n",
    "print(few_shot_result)"
   ]
  },
  {
   "cell_type": "markdown",
   "metadata": {},
   "source": [
    "`(3) FewShotChatMessagePromptTemplate 사용`\n",
    "\n",
    "* FewShotChatMessagePromptTemplate는 LangChain에서 제공하는 템플릿으로, **미리 정의된 고정된 예제들(Fixed Examples)** 을 프롬프트에 포함시켜 모델이 일관된 형식과 품질의 응답을 생성할 수 있도록 돕습니다.\n",
    "\n",
    "* 이 방식은 특히 특정 형식이나 구조를 가진 출력이 필요한 경우(예: JSON 형식, 특정 분석 리포트 형식 등) 매우 유용하며, 예제들이 고정되어 있어 결과의 일관성을 보장할 수 있습니다.\n",
    "\n",
    "* 단, 고정된 예제를 사용하기 때문에 상황에 따라 유연하게 대응하기 어려울 수 있으며, 모든 케이스를 커버하기 위해서는 신중한 예제 선택이 필요합니다."
   ]
  },
  {
   "cell_type": "code",
   "execution_count": 23,
   "metadata": {},
   "outputs": [
    {
     "name": "stdout",
     "output_type": "stream",
     "text": [
      "[HumanMessage(content='\\n정부는 의과대학 입학 정원을 2000명 증가시킬 계획의 세부사항을 이달 20일에 공개할 예정이다. \\n지역별 의료 서비스 향상과 소규모 의과대학의 발전을 목표로, 지역 중심의 국립대학 및 소형 의과대학의 \\n입학 정원이 최소한 두 배 가량 확대될 것으로 보인다.\\n', additional_kwargs={}, response_metadata={}),\n",
      " AIMessage(content='의대 | 정원 | 확대', additional_kwargs={}, response_metadata={}),\n",
      " HumanMessage(content='\\n세계보건기구(WHO)는 최근 새로운 건강 위기에 대응하기 위해 국제 협력의 중요성을 강조했다. \\n전염병 대응 역량의 강화와 글로벌 보건 시스템의 개선이 필요하다고 발표했다.\\n', additional_kwargs={}, response_metadata={}),\n",
      " AIMessage(content='세계보건기구 | 건강위기 | 국제', additional_kwargs={}, response_metadata={})]\n"
     ]
    }
   ],
   "source": [
    "from langchain_core.prompts import ChatPromptTemplate, FewShotChatMessagePromptTemplate\n",
    "from textwrap import dedent # text의 모든 줄에서 같은 선행 공백을 제거하는 함수\n",
    "\n",
    "# 예시 데이터 정의 : 뉴스 텍스트(input) + 키워드 추출 결과 (output)\n",
    "examples = [\n",
    "    {\n",
    "        \"input\": dedent(\"\"\"\n",
    "                        정부는 의과대학 입학 정원을 2000명 증가시킬 계획의 세부사항을 이달 20일에 공개할 예정이다. \n",
    "                        지역별 의료 서비스 향상과 소규모 의과대학의 발전을 목표로, 지역 중심의 국립대학 및 소형 의과대학의 \n",
    "                        입학 정원이 최소한 두 배 가량 확대될 것으로 보인다.\n",
    "                        \"\"\"),\n",
    "        \"output\": \"의대 | 정원 | 확대\"\n",
    "    },\n",
    "    {\n",
    "        \"input\": dedent(\"\"\"\n",
    "                        세계보건기구(WHO)는 최근 새로운 건강 위기에 대응하기 위해 국제 협력의 중요성을 강조했다. \n",
    "                        전염병 대응 역량의 강화와 글로벌 보건 시스템의 개선이 필요하다고 발표했다.\n",
    "                        \"\"\"),\n",
    "        \"output\": \"세계보건기구 | 건강위기 | 국제\"\n",
    "    }\n",
    "]\n",
    "\n",
    "# 각 예시를 포맷팅할 프롬프트 템플릿\n",
    "example_prompt = ChatPromptTemplate.from_messages([\n",
    "    (\"human\", \"{input}\"),\n",
    "    (\"assistant\", \"{output}\")\n",
    "])\n",
    "\n",
    "# Few-shot 프롬프트 템플릿 생성\n",
    "few_shot_prompt = FewShotChatMessagePromptTemplate(\n",
    "    example_prompt=example_prompt,      # 예시 포맷팅 템플릿\n",
    "    examples=examples                   # 예시 데이터 리스트 -> 예시 포맷팅 템플릿에 적용\n",
    ")\n",
    "\n",
    "pprint(few_shot_prompt.invoke({}).to_messages())"
   ]
  },
  {
   "cell_type": "code",
   "execution_count": 25,
   "metadata": {},
   "outputs": [
    {
     "name": "stdout",
     "output_type": "stream",
     "text": [
      "[SystemMessage(content='당신은 뉴스 분석 전문가 입니다.', additional_kwargs={}, response_metadata={}),\n",
      " HumanMessage(content='\\n정부는 의과대학 입학 정원을 2000명 증가시킬 계획의 세부사항을 이달 20일에 공개할 예정이다. \\n지역별 의료 서비스 향상과 소규모 의과대학의 발전을 목표로, 지역 중심의 국립대학 및 소형 의과대학의 \\n입학 정원이 최소한 두 배 가량 확대될 것으로 보인다.\\n', additional_kwargs={}, response_metadata={}),\n",
      " AIMessage(content='의대 | 정원 | 확대', additional_kwargs={}, response_metadata={}),\n",
      " HumanMessage(content='\\n세계보건기구(WHO)는 최근 새로운 건강 위기에 대응하기 위해 국제 협력의 중요성을 강조했다. \\n전염병 대응 역량의 강화와 글로벌 보건 시스템의 개선이 필요하다고 발표했다.\\n', additional_kwargs={}, response_metadata={}),\n",
      " AIMessage(content='세계보건기구 | 건강위기 | 국제', additional_kwargs={}, response_metadata={}),\n",
      " HumanMessage(content='## 뉴스 기사 분석\\n 에서 뉴스의 키워드를 3개 추출합니다. 뉴스 기사입니다', additional_kwargs={}, response_metadata={})]\n"
     ]
    }
   ],
   "source": [
    "# 최종 프롬프트 템플릿 생성\n",
    "final_prompt = ChatPromptTemplate.from_messages([\n",
    "    (\"system\", \"당신은 뉴스 분석 전문가 입니다.\"),\n",
    "    few_shot_prompt,\n",
    "    (\"human\", \"## 뉴스 기사 분석\\n 에서 뉴스의 키워드를 3개 추출합니다. {input}\")\n",
    "])\n",
    "\n",
    "# 프롬프트 템플릿 출력\n",
    "pprint(final_prompt.invoke({\"input\": \"뉴스 기사입니다\"}).to_messages())"
   ]
  },
  {
   "cell_type": "code",
   "execution_count": 26,
   "metadata": {},
   "outputs": [
    {
     "name": "stdout",
     "output_type": "stream",
     "text": [
      "삼성전자 | AI 가속기 | 반도체\n"
     ]
    }
   ],
   "source": [
    "# 키워드 추출 체인 생성\n",
    "chain = final_prompt | llm | StrOutputParser()\n",
    "\n",
    "# 키워드 추출 체인 실행\n",
    "result = chain.invoke({\n",
    "    \"input\": dedent(\"\"\"삼성전자가 내년 초에 자체적으로 개발한 인공지능(AI) 가속기를 처음으로 출시할 예정이다. \n",
    "                    이는 AI 반도체 시장에서 지배적인 위치를 차지하고 있는 엔비디아의 독점을 도전하고, \n",
    "                    세계 최고의 반도체 제조업체로서의 지위를 다시 확립하려는 삼성전자의 노력으로 해석된다.\"\"\")\n",
    "})\n",
    "\n",
    "print(result)"
   ]
  },
  {
   "cell_type": "markdown",
   "metadata": {},
   "source": [
    "`(4) Dynamic Few-Shot Prompting`\n",
    "\n",
    "* **Dynamic Few-Shot Prompting**은 상황에 따라 적절한 예시를 동적으로 선택하여 사용하는 고급 프롬프팅 기법으로, **BaseExampleSelector**를 통해 입력값과 가장 연관성이 높은 예시들을 자동으로 선별합니다.\n",
    "\n",
    "* 대표적으로 **SemanticSimilarityExampleSelector**는 의미적 유사도를 기반으로 예시를 선택하며, 이를 통해 주어진 입력 상황에 가장 적합한 예시들만을 효율적으로 활용할 수 있습니다.\n",
    "\n",
    "* **example_prompt**를 통해 선택된 예시들을 AI 시스템이 이해하기 쉬운 형태(예: human-AI 대화 , human-function call)로 변환하여 더 효과적인 학습과 응답 생성이 가능하게 합니다.\n",
    "\n",
    "\n",
    "- **장점**\n",
    "\n",
    "    - 상황에 맞는 가장 연관성 높은 예시만을 선택적으로 활용할 수 있다\n",
    "    - 프롬프트의 길이를 효율적으로 관리할 수 있다\n",
    "    - 응답의 일관성과 품질을 향상시킬 수 있다"
   ]
  },
  {
   "cell_type": "code",
   "execution_count": 15,
   "metadata": {},
   "outputs": [
    {
     "name": "stdout",
     "output_type": "stream",
     "text": [
      "VectorStore에 저장된 Document 개수: 4\n"
     ]
    }
   ],
   "source": [
    "from langchain_ollama import OllamaEmbeddings \n",
    "from langchain_core.vectorstores import InMemoryVectorStore # type: ignore\n",
    "\n",
    "# 고객 문의 유형별 응대 예시를 준비\n",
    "examples = [\n",
    "    {\n",
    "        \"input\": \"환불 절차가 어떻게 되나요?\",\n",
    "        \"output\": \"환불 절차는 다음과 같습니다:\\n1. 구매내역에서 환불을 신청해주세요\\n2. 반품 상품을 발송해주세요\\n3. 상품 검수 후 3-5일 내 환불이 완료됩니다\"\n",
    "    },\n",
    "    {\n",
    "        \"input\": \"배송이 늦어지고 있어요\", \n",
    "        \"output\": \"불편을 드려 죄송합니다. 주문번호를 알려주시면 배송 상태를 즉시 확인해드리겠습니다.\"\n",
    "    },\n",
    "    {\n",
    "        \"input\": \"옷 사이즈가 안 맞아요\",\n",
    "        \"output\": \"사이즈 교환은 무료로 진행됩니다. 교환 신청 후 동일 상품의 다른 사이즈로 발송해드리겠습니다.\"\n",
    "    },\n",
    "    {\n",
    "        \"input\": \"제품이 불량이에요\",\n",
    "        \"output\": \"불편을 드려 대단히 죄송합니다. 불량 부분 사진과 함께 1:1 문의에 접수해주시면 빠르게 처리해드리겠습니다.\"\n",
    "    }\n",
    "]\n",
    "\n",
    "# 예시 데이터를 벡터화할 텍스트로 변환\n",
    "to_vectorize = [\" \".join(example.values()) for example in examples]\n",
    "\n",
    "# Ollama 임베딩 모델 생성\n",
    "embeddings = OllamaEmbeddings(model=\"bge-m3\")\n",
    "\n",
    "# 벡터 스토어 생성\n",
    "vector_store = InMemoryVectorStore.from_texts(\n",
    "    to_vectorize,    # 벡터화할 텍스트 리스트\n",
    "    embeddings,      # 임베딩 모델\n",
    "    metadatas=examples    # 메타데이터: 예시 데이터\n",
    "    )\n",
    "\n",
    "# VectorStore에 저장된 Document 개수 확인\n",
    "print(f\"VectorStore에 저장된 Document 개수: {len(vector_store.store.keys())}\")"
   ]
  },
  {
   "cell_type": "code",
   "execution_count": 16,
   "metadata": {},
   "outputs": [
    {
     "name": "stdout",
     "output_type": "stream",
     "text": [
      "[{'input': '제품이 불량이에요',\n",
      "  'output': '불편을 드려 대단히 죄송합니다. 불량 부분 사진과 함께 1:1 문의에 접수해주시면 빠르게 처리해드리겠습니다.'},\n",
      " {'input': '환불 절차가 어떻게 되나요?',\n",
      "  'output': '환불 절차는 다음과 같습니다:\\n'\n",
      "            '1. 구매내역에서 환불을 신청해주세요\\n'\n",
      "            '2. 반품 상품을 발송해주세요\\n'\n",
      "            '3. 상품 검수 후 3-5일 내 환불이 완료됩니다'}]\n"
     ]
    }
   ],
   "source": [
    "from langchain_core.example_selectors import SemanticSimilarityExampleSelector\n",
    "\n",
    "# 유사한 2개의 예시를 선택하는 selector 생성\n",
    "example_selector = SemanticSimilarityExampleSelector(\n",
    "    vectorstore=vector_store,\n",
    "    k=2\n",
    ")\n",
    "\n",
    "# 선택된 예시 확인\n",
    "selected_examples = example_selector.select_examples({\"input\":\"상품이 파손되어 왔어요\"})\n",
    "pprint(selected_examples)"
   ]
  },
  {
   "cell_type": "code",
   "execution_count": 17,
   "metadata": {},
   "outputs": [
    {
     "name": "stdout",
     "output_type": "stream",
     "text": [
      "[HumanMessage(content='제품이 불량이에요', additional_kwargs={}, response_metadata={}),\n",
      " AIMessage(content='불편을 드려 대단히 죄송합니다. 불량 부분 사진과 함께 1:1 문의에 접수해주시면 빠르게 처리해드리겠습니다.', additional_kwargs={}, response_metadata={}),\n",
      " HumanMessage(content='환불 절차가 어떻게 되나요?', additional_kwargs={}, response_metadata={}),\n",
      " AIMessage(content='환불 절차는 다음과 같습니다:\\n1. 구매내역에서 환불을 신청해주세요\\n2. 반품 상품을 발송해주세요\\n3. 상품 검수 후 3-5일 내 환불이 완료됩니다', additional_kwargs={}, response_metadata={})]\n"
     ]
    }
   ],
   "source": [
    "# 챗봇 프롬프트 템플릿 생성\n",
    "few_shot_prompt = FewShotChatMessagePromptTemplate(\n",
    "    input_variables=[\"input\"],\n",
    "    example_selector=example_selector,\n",
    "    example_prompt=ChatPromptTemplate.from_messages([\n",
    "        (\"human\", \"{input}\"),\n",
    "        (\"assistant\", \"{output}\")\n",
    "    ])\n",
    ")\n",
    "\n",
    "pprint(few_shot_prompt.invoke({\"input\": \"상품이 파손되어 왔어요\"}).to_messages())"
   ]
  },
  {
   "cell_type": "code",
   "execution_count": 18,
   "metadata": {},
   "outputs": [
    {
     "name": "stdout",
     "output_type": "stream",
     "text": [
      "[SystemMessage(content='당신은 친절하고 전문적인 고객 서비스 담당자입니다.', additional_kwargs={}, response_metadata={}),\n",
      " HumanMessage(content='제품이 불량이에요', additional_kwargs={}, response_metadata={}),\n",
      " AIMessage(content='불편을 드려 대단히 죄송합니다. 불량 부분 사진과 함께 1:1 문의에 접수해주시면 빠르게 처리해드리겠습니다.', additional_kwargs={}, response_metadata={}),\n",
      " HumanMessage(content='환불 절차가 어떻게 되나요?', additional_kwargs={}, response_metadata={}),\n",
      " AIMessage(content='환불 절차는 다음과 같습니다:\\n1. 구매내역에서 환불을 신청해주세요\\n2. 반품 상품을 발송해주세요\\n3. 상품 검수 후 3-5일 내 환불이 완료됩니다', additional_kwargs={}, response_metadata={}),\n",
      " HumanMessage(content='상품이 파손되어 왔어요', additional_kwargs={}, response_metadata={})]\n"
     ]
    }
   ],
   "source": [
    "# 최종 프롬프트 생성 \n",
    "final_prompt = ChatPromptTemplate.from_messages([\n",
    "    (\"system\", \"당신은 친절하고 전문적인 고객 서비스 담당자입니다.\"),\n",
    "    few_shot_prompt,\n",
    "    (\"human\", \"{input}\")\n",
    "])\n",
    "\n",
    "pprint(final_prompt.invoke({\"input\": \"상품이 파손되어 왔어요\"}).to_messages())"
   ]
  },
  {
   "cell_type": "code",
   "execution_count": 19,
   "metadata": {},
   "outputs": [
    {
     "name": "stdout",
     "output_type": "stream",
     "text": [
      "'상품 파손으로 불편을 드려 죄송합니다. 파손된 부분의 사진을 1:1 문의로 보내주시면 신속히 교환 또는 환불 절차를 안내해드리겠습니다.'\n"
     ]
    }
   ],
   "source": [
    "# 챗봇 체인 생성\n",
    "chain = final_prompt | llm | StrOutputParser()\n",
    "\n",
    "# 체인 실행\n",
    "response = chain.invoke({\n",
    "    \"input\": \"상품이 파손되어 왔어요\"\n",
    "})\n",
    "\n",
    "pprint(response)"
   ]
  },
  {
   "cell_type": "markdown",
   "metadata": {},
   "source": [
    "# [실습 프로젝트]"
   ]
  },
  {
   "cell_type": "markdown",
   "metadata": {},
   "source": [
    "### 감정 분석기 만들기\n",
    "\n",
    "- Zero-shot 방식으로 텍스트의 감정(긍정/부정)을 분류하는 프롬프트를 작성합니다.\n",
    "- Few-shot 방식으로 3개의 예시를 포함하여 같은 작업을 수행하는 프롬프트를 작성합니다.\n",
    "- LLM 체인을 구성하여 두 방식의 출력 결과를 비교합니다."
   ]
  },
  {
   "cell_type": "code",
   "execution_count": 5,
   "metadata": {},
   "outputs": [],
   "source": [
    "from langchain_openai import ChatOpenAI\n",
    "\n",
    "llm = ChatOpenAI(\n",
    "    model='gpt-4.1-mini',\n",
    "    temperature=0.3,\n",
    "    top_p=0.9\n",
    ")"
   ]
  },
  {
   "cell_type": "code",
   "execution_count": 9,
   "metadata": {},
   "outputs": [],
   "source": [
    "emotion = \"이 키보드는 가격이 비싸지만 키캡 퀄리티나 스위치 윤활감이 좋다. 그러나 디자인이 살짝 촌스러운 느낌도 있다. 그럼에도 노브까진 달린 키보드가 흔치 않다.\""
   ]
  },
  {
   "cell_type": "code",
   "execution_count": 10,
   "metadata": {},
   "outputs": [
    {
     "name": "stdout",
     "output_type": "stream",
     "text": [
      "이 텍스트의 감정은 긍정적입니다.  \n",
      "가격이 비싸고 디자인이 약간 촌스럽다는 부정적인 부분도 있지만, 키캡 퀄리티와 스위치 윤활감이 좋고, 노브가 달린 점을 긍정적으로 평가하고 있기 때문입니다. 전반적으로 긍정적인 요소가 더 많다고 볼 수 있습니다.\n"
     ]
    }
   ],
   "source": [
    "# Zero-shot 방식 프롬프트: 여기에 코드를 작성하세요.\n",
    "from langchain_core.prompts import PromptTemplate\n",
    "from langchain_core.output_parsers import StrOutputParser\n",
    "\n",
    "emotion_zero_shot_prompt = PromptTemplate(\n",
    "    input_variables=[\"emotion\"],\n",
    "    template=\"다음 텍스트의 감정이 긍정적인지 부정적인지 분류해주세요.: {emotion}\"\n",
    ")\n",
    "\n",
    "# 체인 생성\n",
    "chain = emotion_zero_shot_prompt | llm | StrOutputParser()\n",
    "\n",
    "# Zero-shot 실행\n",
    "zero_shot_result = chain.invoke(input={\"emotion\": emotion}) \n",
    "\n",
    "print(zero_shot_result)"
   ]
  },
  {
   "cell_type": "code",
   "execution_count": 12,
   "metadata": {},
   "outputs": [
    {
     "name": "stdout",
     "output_type": "stream",
     "text": [
      "감정 분석: 긍정  \n",
      "긍정 (70%) 부정 (30%)  \n",
      "핵심 분석: 키캡 퀄리티, 스위치 윤활감, 노브 장점 / 가격 비쌈, 디자인 촌스러움 단점\n"
     ]
    }
   ],
   "source": [
    "# Few-shot 방식 프롬프트: 여기에 코드를 작성하세요.\n",
    "from langchain_core.prompts import PromptTemplate\n",
    "from langchain_core.output_parsers import StrOutputParser\n",
    "\n",
    "emotion_few_shot_prompt = PromptTemplate(\n",
    "   input_variables=[\"examples\", \"emotion\"],\n",
    "   template=\"\"\"다음은 텍스트의 긍정과 부정을 분류하는 예시들이다:\n",
    "\n",
    "{examples}\n",
    "\n",
    "## 가이드라인\n",
    "- 해당 텍스트의 감정이 긍정적인지 부정적인지 분류\n",
    "- 긍정적인 감정과 부정적인 감정이 얼마나 포함되어 있는지 백분위로 각각 표현\n",
    "- 간결하게 핵심 키워드 중심으로 표현\n",
    "\n",
    "이제 다음 텍스트에서 분류를 해주세요:\n",
    "문장: {emotion}\n",
    "감정분석: \"\"\"\n",
    ")\n",
    "\n",
    "# Example 데이터 준비\n",
    "examples = \"\"\"\n",
    "문장: 이 식당 음식은 정말 맛있고 서비스도 최고예요.\n",
    "감정 분석: 긍정\n",
    "긍정 (100%) 부정 (0%)\n",
    "핵심 분석: 음식의 맛과 서비스에 대한 극찬\n",
    "\n",
    "문장: 이 영화는 정말 지루하고 시간 낭비예요.\n",
    "감정 분석: 부정\n",
    "긍정 (0%) 부정 (100%)\n",
    "핵심 분석: 영화에 대한 강한 불만\n",
    "\n",
    "문장: 영화의 영상미는 아름다웠지만, 스토리가 너무 지루했어요.\n",
    "감정 분석: 부정\n",
    "긍정 (30%) 부정 (70%)\n",
    "핵심 분석: 영상미는 긍정적이나, 지루한 스토리가 단점\n",
    "\"\"\"\n",
    "\n",
    "chain = emotion_few_shot_prompt | llm | StrOutputParser()\n",
    "result = chain.invoke({\n",
    "   \"examples\": examples,\n",
    "   \"emotion\": emotion\n",
    "})\n",
    "\n",
    "print(result)"
   ]
  }
 ],
 "metadata": {
  "kernelspec": {
   "display_name": "faq_chatbot",
   "language": "python",
   "name": "python3"
  },
  "language_info": {
   "codemirror_mode": {
    "name": "ipython",
    "version": 3
   },
   "file_extension": ".py",
   "mimetype": "text/x-python",
   "name": "python",
   "nbconvert_exporter": "python",
   "pygments_lexer": "ipython3",
   "version": "3.12.11"
  }
 },
 "nbformat": 4,
 "nbformat_minor": 2
}
