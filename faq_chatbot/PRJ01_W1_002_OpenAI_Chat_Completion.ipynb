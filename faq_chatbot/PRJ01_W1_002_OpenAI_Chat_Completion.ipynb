{
 "cells": [
  {
   "cell_type": "markdown",
   "metadata": {
    "id": "fV-Z1B-Pa4L1"
   },
   "source": [
    "# 🤖 LLM 원리 + OpenAI Chat Completion API 활용\n",
    "\n",
    "---\n",
    "\n",
    "## 1. LLM 기본 개념\n",
    "\n",
    "### 🧠 LLM(Large Language Model)의 생성 원리\n",
    "\n",
    "**LLM은 어떻게 작동하나요?**\n",
    "- **트랜스포머 구조**: 대화형 AI의 핵심 아키텍처\n",
    "- **토큰 예측**: 다음에 올 가장 적절한 단어를 예측\n",
    "- **학습 방식**: 인터넷의 방대한 텍스트 데이터로 사전 훈련\n",
    "\n",
    "**핵심 프로세스**\n",
    "1. **토큰화**: 텍스트를 작은 단위(토큰)로 분할\n",
    "2. **확률 계산**: 각 토큰이 다음에 올 확률 계산\n",
    "3. **토큰 생성**: 확률 분포에 따라 토큰 선택\n",
    "4. **반복**: 종료 조건까지 과정 반복\n",
    "\n",
    "\n",
    "**트랜스포머**:\n",
    "- **인코더-디코더 구조**: 입력과 출력을 동시에 처리\n",
    "- **어텐션 메커니즘**: 입력의 모든 부분을 동시에 고려하여 중요한 정보에 집중\n",
    "\n",
    "\n",
    "<div style=\"text-align: left; font-size: 12px;\">\n",
    "<div style=\"text-align: center;\">\n",
    "    <img src=\"https://upload.wikimedia.org/wikipedia/commons/thumb/3/34/Transformer%2C_full_architecture.png/440px-Transformer%2C_full_architecture.png\"\n",
    "        alt=\"Illustrations for the Transformer and attention mechanism showing the full Transformer architecture\"\n",
    "        width=\"600\"\n",
    "        style=\"border: 0;\">\n",
    "</div>\n",
    "\n",
    "**Image Title:** Transformer Architecture Illustration  \n",
    "**Source:** [GitHub - DL Visuals](https://github.com/dvgodoy/dl-visuals/?tab=readme-ov-file)  \n",
    "**License:** [Creative Commons Attribution 4.0 International License](https://creativecommons.org/licenses/by/4.0/)  \n",
    "**Author(s):** dvgodoy  \n",
    "\n",
    "</div>\n",
    "\n"
   ]
  },
  {
   "cell_type": "markdown",
   "metadata": {},
   "source": [
    "\n",
    "---\n",
    "\n",
    "## 2. OpenAI API 핵심 개념\n",
    "\n",
    "### 🔧 주요 구성 요소\n",
    "\n",
    "**1. 메시지 형식**\n",
    "\n",
    "  ```python\n",
    "  messages = [\n",
    "      {\"role\": \"system\", \"content\": \"당신은 도움이 되는 AI 어시스턴트입니다.\"},\n",
    "      {\"role\": \"user\", \"content\": \"파이썬에서 리스트를 정렬하는 방법을 알려주세요.\"},\n",
    "      {\"role\": \"assistant\", \"content\": \"sort() 메서드나 sorted() 함수를 사용할 수 있습니다.\"}\n",
    "  ]\n",
    "  ```\n",
    "\n",
    "**2. 현재 사용 가능한 주요 모델 (2025년 기준)**\n",
    "\n",
    "  - **gpt-4.1**: 최고 성능, 복잡한 작업용\n",
    "  - **gpt-4.1-mini**: 빠른 속도, 비용 효율적\n",
    "  - **gpt-4.1-nano**: 초고속, 최저 비용\n",
    "  - **o3, o4-mini**: 복잡한 추론 작업용\n",
    "  - **gpt-4o**: 멀티모달 (텍스트, 이미지, 오디오)\n",
    "\n",
    "**3. API 응답 구조**\n",
    "\n",
    "  ```json\n",
    "  {\n",
    "    \"id\": \"chatcmpl-...\",\n",
    "    \"object\": \"chat.completion\",\n",
    "    \"model\": \"gpt-4.1-mini\",\n",
    "    \"choices\": [\n",
    "      {\n",
    "        \"message\": {\n",
    "          \"role\": \"assistant\", \n",
    "          \"content\": \"생성된 텍스트\"\n",
    "        }\n",
    "      }\n",
    "    ],\n",
    "    \"usage\": {\n",
    "      \"prompt_tokens\": 10,\n",
    "      \"completion_tokens\": 50,\n",
    "      \"total_tokens\": 60\n",
    "    }\n",
    "  }\n",
    "  ```"
   ]
  },
  {
   "cell_type": "markdown",
   "metadata": {},
   "source": [
    "\n",
    "---\n",
    "\n",
    "## 3. 환경 설정\n",
    "\n",
    "\n",
    "### 🚀 uv 프로젝트 설정\n",
    "- **프로젝트 생성**: `uv init [프로젝트명]`\n",
    "- **가상환경 생성**: `uv venv --python=3.12`\n",
    "- **가상환경 활성화**: `.venv/bin/activate` (Unix) 또는 `.venv\\Scripts\\activate` (Windows)\n",
    "\n",
    "\n",
    "### 📦 패키지 설치\n",
    "```bash\n",
    "# uv 사용 (권장)\n",
    "uv add langchain langchain_openai python-dotenv ipykernel\n",
    "\n",
    "# pip 사용\n",
    "pip install langchain langchain_openai python-dotenv ipykernel\n",
    "```\n",
    "\n",
    "### 🔐 API 키 설정\n",
    "```python\n",
    "# .env 파일 생성\n",
    "OPENAI_API_KEY=your_api_key_here\n",
    "\n",
    "# Python에서 로드\n",
    "from dotenv import load_dotenv\n",
    "import os\n",
    "\n",
    "load_dotenv()\n",
    "OPENAI_API_KEY = os.getenv(\"OPENAI_API_KEY\")\n",
    "```\n"
   ]
  },
  {
   "cell_type": "markdown",
   "metadata": {},
   "source": [
    "\n",
    "---\n",
    "\n",
    "## 4. 기본 사용법"
   ]
  },
  {
   "cell_type": "markdown",
   "metadata": {},
   "source": [
    "### 텍스트 답변을 생성\n",
    "\n",
    "* OpenAI 클라이언트 설정\n",
    "  - `from openai import OpenAI`로 OpenAI 패키지를 임포트합니다\n",
    "  - `client = OpenAI()`로 API 클라이언트를 생성합니다\n",
    "  - API 키는 환경변수나 직접 설정을 통해 제공할 수 있습니다\n",
    "  - 보안을 위해 API 키는 `.env` 파일이나 환경변수를 통해 관리하는 것이 권장됩니다\n",
    "\n",
    "* Chat Completion 요청 구조\n",
    "  - `client.chat.completions.create()`를 통해 텍스트 생성을 요청합니다\n",
    "  - `model`: 사용할 모델을 지정 (예: \"gpt-4-mini\")\n",
    "  - `messages`: 대화 맥락을 리스트 형태로 전달\n",
    "    - `role`: \"developer\", \"user\" 등의 역할 지정\n",
    "    - `content`: 실제 메시지 내용\n",
    "  - `temperature`: 생성 텍스트의 무작위성 조절 (0~1)\n",
    "  - `max_tokens`: 생성될 최대 토큰 수 제한\n",
    "\n",
    "* 응답 처리\n",
    "  - API는 JSON 형태로 응답을 반환합니다\n",
    "  - `response.choices[0].message.content`: 생성된 분석 텍스트\n",
    "  - `response.usage`: 토큰 사용량 정보\n",
    "  - `response.id`: 응답의 고유 식별자\n",
    "  - `response.model`: 사용된 모델 정보\n"
   ]
  },
  {
   "cell_type": "markdown",
   "metadata": {},
   "source": [
    "- env 환경 변수를 읽기 위한 코드 추가"
   ]
  },
  {
   "cell_type": "code",
   "execution_count": 7,
   "metadata": {},
   "outputs": [
    {
     "data": {
      "text/plain": [
       "True"
      ]
     },
     "execution_count": 7,
     "metadata": {},
     "output_type": "execute_result"
    }
   ],
   "source": [
    "from dotenv import load_dotenv\n",
    "load_dotenv()"
   ]
  },
  {
   "cell_type": "code",
   "execution_count": 8,
   "metadata": {},
   "outputs": [
    {
     "name": "stdout",
     "output_type": "stream",
     "text": [
      "ChatCompletion(id='chatcmpl-CEsFc5Y1Nn428BdHsXLli4PcgsZTW', choices=[Choice(finish_reason='stop', index=0, logprobs=None, message=ChatCompletionMessage(content=\"파이썬에서 파일을 읽는 방법에는 여러 가지가 있지만, 가장 기본적인 방법은 `open()` 함수를 사용하여 파일을 열고, `read()` 또는 `readlines()` 메서드를 사용하는 것입니다. 예제를 통해 설명드릴게요.\\n\\n### 1. 파일 전체 내용을 한 번에 읽기\\n\\n```python\\nwith open('파일이름.txt', 'r', encoding='utf-8') as file:\\n    content = file.read()\\n    print(content)\\n```\\n\\n- `'r'`은 읽기 모드를 의미합니다.\\n- `encoding='utf-8'`은 파일 인코딩을 지정하는 것으로, 한글 등 문자가 깨지지 않게 하려면 보통 UTF-8을 사용합니다.\\n- `with` 문을 사용하면 파일을 자동으로 닫아주기 때문에 안전합니다.\\n\\n### 2. 파일을 한 줄씩 읽기\\n\\n```python\\nwith open('파일이름.txt', 'r', encoding='utf-8') as file:\\n    for line in file:\\n        print(line.strip())  # strip()은 줄바꿈 문자를 제거합니다.\\n```\\n\\n### 3. 파일의 모든 줄을 리스트로 읽기\\n\\n```python\\nwith open('파일이름.txt', 'r', encoding='utf-8') as file:\\n    lines = file.readlines()\\n\\nfor line in lines:\\n    print(line.strip())\\n```\\n\\n필요에 따라 위 방법 중 하나를 사용하시면 됩니다. 추가로 궁금한 점 있으면 말씀해 주세요!\", refusal=None, role='assistant', annotations=[], audio=None, function_call=None, tool_calls=None))], created=1757661168, model='gpt-4.1-mini-2025-04-14', object='chat.completion', service_tier='default', system_fingerprint='fp_6d7dcc9a98', usage=CompletionUsage(completion_tokens=321, prompt_tokens=32, total_tokens=353, completion_tokens_details=CompletionTokensDetails(accepted_prediction_tokens=0, audio_tokens=0, reasoning_tokens=0, rejected_prediction_tokens=0), prompt_tokens_details=PromptTokensDetails(audio_tokens=0, cached_tokens=0)))\n",
      "====================================================================================================\n",
      "id: chatcmpl-CEsFc5Y1Nn428BdHsXLli4PcgsZTW\n",
      "----------------------------------------------------------------------------------------------------\n",
      "model: gpt-4.1-mini-2025-04-14\n",
      "----------------------------------------------------------------------------------------------------\n",
      "text: 파이썬에서 파일을 읽는 방법에는 여러 가지가 있지만, 가장 기본적인 방법은 `open()` 함수를 사용하여 파일을 열고, `read()` 또는 `readlines()` 메서드를 사용하는 것입니다. 예제를 통해 설명드릴게요.\n",
      "\n",
      "### 1. 파일 전체 내용을 한 번에 읽기\n",
      "\n",
      "```python\n",
      "with open('파일이름.txt', 'r', encoding='utf-8') as file:\n",
      "    content = file.read()\n",
      "    print(content)\n",
      "```\n",
      "\n",
      "- `'r'`은 읽기 모드를 의미합니다.\n",
      "- `encoding='utf-8'`은 파일 인코딩을 지정하는 것으로, 한글 등 문자가 깨지지 않게 하려면 보통 UTF-8을 사용합니다.\n",
      "- `with` 문을 사용하면 파일을 자동으로 닫아주기 때문에 안전합니다.\n",
      "\n",
      "### 2. 파일을 한 줄씩 읽기\n",
      "\n",
      "```python\n",
      "with open('파일이름.txt', 'r', encoding='utf-8') as file:\n",
      "    for line in file:\n",
      "        print(line.strip())  # strip()은 줄바꿈 문자를 제거합니다.\n",
      "```\n",
      "\n",
      "### 3. 파일의 모든 줄을 리스트로 읽기\n",
      "\n",
      "```python\n",
      "with open('파일이름.txt', 'r', encoding='utf-8') as file:\n",
      "    lines = file.readlines()\n",
      "\n",
      "for line in lines:\n",
      "    print(line.strip())\n",
      "```\n",
      "\n",
      "필요에 따라 위 방법 중 하나를 사용하시면 됩니다. 추가로 궁금한 점 있으면 말씀해 주세요!\n",
      "----------------------------------------------------------------------------------------------------\n",
      "usage: CompletionUsage(completion_tokens=321, prompt_tokens=32, total_tokens=353, completion_tokens_details=CompletionTokensDetails(accepted_prediction_tokens=0, audio_tokens=0, reasoning_tokens=0, rejected_prediction_tokens=0), prompt_tokens_details=PromptTokensDetails(audio_tokens=0, cached_tokens=0))\n"
     ]
    }
   ],
   "source": [
    "# OpenAI API를 직접 사용하는 방법\n",
    "from openai import OpenAI\n",
    "\n",
    "# 통신을 위한 클라이언트 생성 (.env 파일을 사용하지 않는 경우에는 주석을 해제하고 api_key를 직접 입력)\n",
    "client = OpenAI(\n",
    "    # api_key = OPENAI_API_KEY,\n",
    ")\n",
    "\n",
    "# Completion 요청 (prompt -> completion)\n",
    "response = client.chat.completions.create(\n",
    "    model=\"gpt-4.1-mini\",\n",
    "    messages=[\n",
    "        # developer 역할 - 전반적인 동작 방식 정의\n",
    "        {\"role\": \"developer\", \"content\": \"You are a helpful programming assistant.\"},\n",
    "        # user 역할 - 실제 요청 내용\n",
    "        {\"role\": \"user\", \"content\": \"파이썬에서 파일을 읽는 방법을 알려주세요.\"},\n",
    "    ],\n",
    "    temperature=0.7,\n",
    "    max_tokens=1000,\n",
    ")\n",
    "\n",
    "# 결과 출력\n",
    "print(response)\n",
    "print(\"=\"*100)\n",
    "print(\"id:\", response.id)\n",
    "print(\"-\"*100)\n",
    "print('model:', response.model)\n",
    "print(\"-\"*100)\n",
    "print(\"text:\", response.choices[0].message.content)\n",
    "print(\"-\"*100)\n",
    "print(\"usage:\", response.usage)"
   ]
  },
  {
   "cell_type": "code",
   "execution_count": 9,
   "metadata": {},
   "outputs": [
    {
     "data": {
      "text/markdown": [
       "파이썬에서 파일을 읽는 방법에는 여러 가지가 있지만, 가장 기본적인 방법은 `open()` 함수를 사용하여 파일을 열고, `read()` 또는 `readlines()` 메서드를 사용하는 것입니다. 예제를 통해 설명드릴게요.\n",
       "\n",
       "### 1. 파일 전체 내용을 한 번에 읽기\n",
       "\n",
       "```python\n",
       "with open('파일이름.txt', 'r', encoding='utf-8') as file:\n",
       "    content = file.read()\n",
       "    print(content)\n",
       "```\n",
       "\n",
       "- `'r'`은 읽기 모드를 의미합니다.\n",
       "- `encoding='utf-8'`은 파일 인코딩을 지정하는 것으로, 한글 등 문자가 깨지지 않게 하려면 보통 UTF-8을 사용합니다.\n",
       "- `with` 문을 사용하면 파일을 자동으로 닫아주기 때문에 안전합니다.\n",
       "\n",
       "### 2. 파일을 한 줄씩 읽기\n",
       "\n",
       "```python\n",
       "with open('파일이름.txt', 'r', encoding='utf-8') as file:\n",
       "    for line in file:\n",
       "        print(line.strip())  # strip()은 줄바꿈 문자를 제거합니다.\n",
       "```\n",
       "\n",
       "### 3. 파일의 모든 줄을 리스트로 읽기\n",
       "\n",
       "```python\n",
       "with open('파일이름.txt', 'r', encoding='utf-8') as file:\n",
       "    lines = file.readlines()\n",
       "\n",
       "for line in lines:\n",
       "    print(line.strip())\n",
       "```\n",
       "\n",
       "필요에 따라 위 방법 중 하나를 사용하시면 됩니다. 추가로 궁금한 점 있으면 말씀해 주세요!"
      ],
      "text/plain": [
       "<IPython.core.display.Markdown object>"
      ]
     },
     "metadata": {},
     "output_type": "display_data"
    }
   ],
   "source": [
    "# 결과 출력 (Markdown)\n",
    "from IPython.display import Markdown, display\n",
    "\n",
    "display(Markdown(response.choices[0].message.content))"
   ]
  },
  {
   "cell_type": "markdown",
   "metadata": {},
   "source": [
    "---\n",
    "\n",
    "### 구조화된 JSON 출력\n",
    "\n",
    "구조화된 출력은 데이터 처리와 분석에 용이하며, API 응답의 일관성을 보장합니다.\n",
    "\n",
    "* JSON Schema 정의\n",
    "  - `response_format`을 통해 응답의 형식을 JSON으로 지정합니다\n",
    "  - `json_schema`에서 데이터 구조와 각 필드의 특성을 정의합니다\n",
    "    - `type`: 데이터 타입 (string, number 등)\n",
    "    - `description`: 각 필드에 대한 설명\n",
    "    - `required`: 필수 필드 지정\n",
    "    - `additionalProperties`: 추가 속성 허용 여부\n",
    "\n",
    "* 정보 추출 과정\n",
    "  - 입력된 텍스트에서 정규화된 형태로 정보를 추출\n",
    "  - 지정된 스키마에 맞춰 JSON 객체 구성\n",
    "  - 필수 필드가 누락되지 않도록 검증\n",
    "  - 가격과 같은 숫자 정보는 적절한 형식으로 변환"
   ]
  },
  {
   "cell_type": "code",
   "execution_count": 10,
   "metadata": {},
   "outputs": [
    {
     "name": "stdout",
     "output_type": "stream",
     "text": [
      "ChatCompletion(id='chatcmpl-CEsFijnQ93j2PB8PTdjOLMY4fXMr5', choices=[Choice(finish_reason='stop', index=0, logprobs=None, message=ChatCompletionMessage(content='{\"brand\":\"애플\",\"model\":\"아이폰 15 프로\",\"capacity\":\"256GB\",\"color\":\"블랙\",\"price\":1500000,\"category\":\"스마트폰\"}', refusal=None, role='assistant', annotations=[], audio=None, function_call=None, tool_calls=None))], created=1757661174, model='gpt-4.1-2025-04-14', object='chat.completion', service_tier='default', system_fingerprint='fp_daf5fcc80a', usage=CompletionUsage(completion_tokens=36, prompt_tokens=404, total_tokens=440, completion_tokens_details=CompletionTokensDetails(accepted_prediction_tokens=0, audio_tokens=0, reasoning_tokens=0, rejected_prediction_tokens=0), prompt_tokens_details=PromptTokensDetails(audio_tokens=0, cached_tokens=0)))\n",
      "====================================================================================================\n",
      "id: chatcmpl-CEsFijnQ93j2PB8PTdjOLMY4fXMr5\n",
      "----------------------------------------------------------------------------------------------------\n",
      "model: gpt-4.1-2025-04-14\n",
      "----------------------------------------------------------------------------------------------------\n",
      "text: {\"brand\":\"애플\",\"model\":\"아이폰 15 프로\",\"capacity\":\"256GB\",\"color\":\"블랙\",\"price\":1500000,\"category\":\"스마트폰\"}\n",
      "----------------------------------------------------------------------------------------------------\n",
      "usage: CompletionUsage(completion_tokens=36, prompt_tokens=404, total_tokens=440, completion_tokens_details=CompletionTokensDetails(accepted_prediction_tokens=0, audio_tokens=0, reasoning_tokens=0, rejected_prediction_tokens=0), prompt_tokens_details=PromptTokensDetails(audio_tokens=0, cached_tokens=0))\n"
     ]
    }
   ],
   "source": [
    "from openai import OpenAI\n",
    "client = OpenAI()\n",
    "\n",
    "response = client.chat.completions.create(\n",
    "    model=\"gpt-4.1\",\n",
    "    messages=[\n",
    "        {\n",
    "            \"role\": \"developer\",\n",
    "            \"content\": \"상품 정보를 구조화된 형태로 추출하고, 각 속성에 대해 자세히 설명합니다.\"\n",
    "        },\n",
    "        {\n",
    "            \"role\": \"user\",\n",
    "            \"content\": \"애플 아이폰 15 프로 256GB (블랙) - 1,500,000원\"\n",
    "        }\n",
    "    ],\n",
    "    response_format={\n",
    "        \"type\": \"json_schema\",\n",
    "        \"json_schema\": {\n",
    "            \"name\": \"product_schema\",\n",
    "            \"description\": \"상품의 상세 정보를 구조화하기 위한 스키마\",\n",
    "            \"schema\": {\n",
    "                \"type\": \"object\",\n",
    "                \"properties\": {\n",
    "                    \"brand\": {\n",
    "                        \"type\": \"string\",\n",
    "                        \"description\": \"제조사 또는 브랜드 이름 (예: 애플, 삼성, LG 등)\"\n",
    "                    },\n",
    "                    \"model\": {\n",
    "                        \"type\": \"string\",\n",
    "                        \"description\": \"제품의 모델명 또는 시리즈명\"\n",
    "                    },\n",
    "                    \"capacity\": {\n",
    "                        \"type\": \"string\",\n",
    "                        \"description\": \"저장 용량 또는 규격 (예: 256GB, 512GB 등)\"\n",
    "                    },\n",
    "                    \"color\": {\n",
    "                        \"type\": \"string\",\n",
    "                        \"description\": \"제품의 색상\"\n",
    "                    },\n",
    "                    \"price\": {\n",
    "                        \"type\": \"number\",\n",
    "                        \"description\": \"제품의 가격 (단위: 원)\",\n",
    "                        \"minimum\": 0\n",
    "                    },\n",
    "                    \"category\": {\n",
    "                        \"type\": \"string\",\n",
    "                        \"description\": \"제품의 카테고리 (예: 스마트폰, 노트북 등)\"\n",
    "                    },\n",
    "                },\n",
    "                \"required\": [\"brand\", \"model\", \"price\"],\n",
    "                \"additionalProperties\": False\n",
    "            }\n",
    "        }\n",
    "    }\n",
    ")\n",
    "\n",
    "# 결과 출력\n",
    "print(response)\n",
    "print(\"=\"*100)\n",
    "print(\"id:\", response.id)\n",
    "print(\"-\"*100)\n",
    "print('model:', response.model)\n",
    "print(\"-\"*100)\n",
    "print(\"text:\", response.choices[0].message.content)\n",
    "print(\"-\"*100)\n",
    "print(\"usage:\", response.usage)"
   ]
  },
  {
   "cell_type": "code",
   "execution_count": 11,
   "metadata": {},
   "outputs": [
    {
     "data": {
      "text/plain": [
       "{'brand': '애플',\n",
       " 'model': '아이폰 15 프로',\n",
       " 'capacity': '256GB',\n",
       " 'color': '블랙',\n",
       " 'price': 1500000,\n",
       " 'category': '스마트폰'}"
      ]
     },
     "execution_count": 11,
     "metadata": {},
     "output_type": "execute_result"
    }
   ],
   "source": [
    "import json\n",
    "\n",
    "data = json.loads(response.choices[0].message.content)\n",
    "data"
   ]
  },
  {
   "cell_type": "markdown",
   "metadata": {},
   "source": [
    "---\n",
    "\n",
    "### 이미지 분석 (멀티모달)\n",
    "\n",
    "OpenAI API를 사용한 이미지 분석(멀티모달 기능을 통해 이미지에 대한 상세 분석과 설명을 자연어로 얻을 수 있습니다.\n",
    "\n",
    "\n",
    "* 이미지 입력 방식\n",
    "  - URL 방식\n",
    "    - 웹상의 이미지 URL을 직접 전달\n",
    "    - `image_url` 파라미터를 통해 이미지 URL 지정\n",
    "    - 인터넷 접근이 가능한 이미지에 대해 사용\n",
    "  \n",
    "  - Base64 인코딩 방식\n",
    "    - 로컬 이미지 파일을 Base64 문자열로 변환\n",
    "    - `encode_image()` 함수로 이미지 파일을 Base64로 인코딩\n",
    "    - 인코딩된 문자열을 `data:image/jpeg;base64,` 형식으로 전달\n",
    "    - 로컬 이미지나 비공개 이미지 처리에 적합\n",
    "\n",
    "* API 요청 구조\n",
    "  - `messages` 배열에 멀티모달 컨텐츠 포함\n",
    "    - `type`: \"text\" 또는 \"image_url\"로 컨텐츠 유형 구분\n",
    "    - 텍스트와 이미지를 함께 전달 가능\n",
    "    - `role`을 통해 개발자/사용자 역할 지정\n"
   ]
  },
  {
   "cell_type": "markdown",
   "metadata": {},
   "source": [
    "`(1) 이미지 URL 사용`\n",
    "\n",
    "- uv add pillow"
   ]
  },
  {
   "cell_type": "code",
   "execution_count": 12,
   "metadata": {},
   "outputs": [
    {
     "ename": "ModuleNotFoundError",
     "evalue": "No module named 'PIL'",
     "output_type": "error",
     "traceback": [
      "\u001b[31m---------------------------------------------------------------------------\u001b[39m",
      "\u001b[31mModuleNotFoundError\u001b[39m                       Traceback (most recent call last)",
      "\u001b[36mCell\u001b[39m\u001b[36m \u001b[39m\u001b[32mIn[12]\u001b[39m\u001b[32m, line 3\u001b[39m\n\u001b[32m      1\u001b[39m \u001b[38;5;28;01mimport\u001b[39;00m\u001b[38;5;250m \u001b[39m\u001b[34;01mhttpx\u001b[39;00m\n\u001b[32m      2\u001b[39m \u001b[38;5;28;01mimport\u001b[39;00m\u001b[38;5;250m \u001b[39m\u001b[34;01masyncio\u001b[39;00m\n\u001b[32m----> \u001b[39m\u001b[32m3\u001b[39m \u001b[38;5;28;01mfrom\u001b[39;00m\u001b[38;5;250m \u001b[39m\u001b[34;01mPIL\u001b[39;00m\u001b[38;5;250m \u001b[39m\u001b[38;5;28;01mimport\u001b[39;00m Image\n\u001b[32m      4\u001b[39m \u001b[38;5;28;01mfrom\u001b[39;00m\u001b[38;5;250m \u001b[39m\u001b[34;01mio\u001b[39;00m\u001b[38;5;250m \u001b[39m\u001b[38;5;28;01mimport\u001b[39;00m BytesIO\n\u001b[32m      6\u001b[39m \u001b[38;5;28;01masync\u001b[39;00m \u001b[38;5;28;01mdef\u001b[39;00m\u001b[38;5;250m \u001b[39m\u001b[34mdownload_and_display_image\u001b[39m(image_url):\n",
      "\u001b[31mModuleNotFoundError\u001b[39m: No module named 'PIL'"
     ]
    }
   ],
   "source": [
    "import httpx\n",
    "import asyncio\n",
    "from PIL import Image\n",
    "from io import BytesIO\n",
    "\n",
    "async def download_and_display_image(image_url):\n",
    "    \"\"\"이미지를 비동기로 다운로드하고 표시하는 함수\"\"\"\n",
    "    \n",
    "    async with httpx.AsyncClient() as client:\n",
    "        # 비동기로 이미지 다운로드\n",
    "        response = await client.get(image_url)\n",
    "        \n",
    "        # 응답 상태 확인\n",
    "        response.raise_for_status()\n",
    "        \n",
    "        # 이미지 열기\n",
    "        img = Image.open(BytesIO(response.content))\n",
    "        \n",
    "        # 이미지 정보 출력\n",
    "        print(f\"이미지 크기: {img.size}\")\n",
    "        print(f\"이미지 모드: {img.mode}\")\n",
    "        print(f\"이미지 포맷: {img.format}\")\n",
    "        \n",
    "        # 이미지 출력\n",
    "        display(img)\n",
    "        \n",
    "        return img\n",
    "\n",
    "# 이미지 URL\n",
    "image_url = \"https://upload.wikimedia.org/wikipedia/commons/thumb/d/dd/Gfp-wisconsin-madison-the-nature-boardwalk.jpg/2560px-Gfp-wisconsin-madison-the-nature-boardwalk.jpg\"\n",
    "\n",
    "try:\n",
    "    img = await download_and_display_image(image_url)\n",
    "    print(\"이미지 다운로드 및 표시 완료!\")\n",
    "except httpx.HTTPError as e:\n",
    "    print(f\"HTTP 에러 발생: {e}\")\n",
    "except Exception as e:\n",
    "    print(f\"일반 에러 발생: {e}\")"
   ]
  },
  {
   "cell_type": "code",
   "execution_count": null,
   "metadata": {},
   "outputs": [],
   "source": [
    "from openai import OpenAI\n",
    "\n",
    "client = OpenAI()\n",
    "\n",
    "response = client.chat.completions.create(\n",
    "    model=\"gpt-4.1-mini\",\n",
    "    messages=[\n",
    "        {\n",
    "            \"role\": \"user\",\n",
    "            \"content\": [\n",
    "                {\n",
    "                    \"type\": \"text\",\n",
    "                    \"text\": \"What's in this image? Answer in 한국어.\"},\n",
    "                {\n",
    "                    \"type\": \"image_url\",\n",
    "                    \"image_url\": {\n",
    "                        \"url\": image_url,\n",
    "                    }\n",
    "                },\n",
    "            ],\n",
    "        }\n",
    "    ],\n",
    ")\n",
    "\n",
    "# 결과 출력\n",
    "print(response)\n",
    "print(\"=\"*100)\n",
    "print(\"id:\", response.id)\n",
    "print(\"-\"*100)\n",
    "print('model:', response.model)\n",
    "print(\"-\"*100)\n",
    "print(\"text:\", response.choices[0].message.content)\n",
    "print(\"-\"*100)\n",
    "print(\"usage:\", response.usage)"
   ]
  },
  {
   "cell_type": "markdown",
   "metadata": {},
   "source": [
    "`(2)  Base 64 encoded format 사용`"
   ]
  },
  {
   "cell_type": "code",
   "execution_count": null,
   "metadata": {},
   "outputs": [],
   "source": [
    "# 로컬 이미지 파일 경로\n",
    "image_path = \"data/celltrion_report_chart.jpg\"\n",
    "\n",
    "# 이미지 출력\n",
    "img = Image.open(image_path)\n",
    "display(img)"
   ]
  },
  {
   "cell_type": "code",
   "execution_count": null,
   "metadata": {},
   "outputs": [],
   "source": [
    "import base64\n",
    "from openai import OpenAI\n",
    "\n",
    "client = OpenAI()\n",
    "\n",
    "# 이미지를 base64로 인코딩하는 함수\n",
    "def encode_image(image_path):\n",
    "    with open(image_path, \"rb\") as image_file:\n",
    "        return base64.b64encode(image_file.read()).decode(\"utf-8\")\n",
    "\n",
    "# 이미지를 base64 포맷 문자열로 변환\n",
    "base64_image = encode_image(image_path)\n",
    "\n",
    "response = client.chat.completions.create(\n",
    "    model=\"gpt-4.1-mini\",\n",
    "    messages=[\n",
    "        {\n",
    "            \"role\": \"developer\",\n",
    "            \"content\": [\n",
    "                {\n",
    "                    \"type\": \"text\",\n",
    "                    \"text\": \"\"\"You are a financial chart analyst. For any chart:\n",
    "                            1. Identify the financial metrics being displayed\n",
    "                            2. Note key price levels, support/resistance areas\n",
    "                            3. Identify significant trends and pattern formations\n",
    "                            4. Calculate relevant indicators (if visible)\n",
    "                            5. Highlight trading volume patterns\n",
    "                            6. Point out any significant market events\n",
    "                            7. Provide technical analysis insights\n",
    "                            Be specific with price levels and dates. Answer in 한국어.\"\"\"\n",
    "                }\n",
    "            ]\n",
    "        },\n",
    "        {\n",
    "            \"role\": \"user\",\n",
    "            \"content\": [\n",
    "                {\n",
    "                    \"type\": \"text\",\n",
    "                    \"text\": \"What does this chart show?\"\n",
    "                },\n",
    "                {\n",
    "                    \"type\": \"image_url\",\n",
    "                    \"image_url\": {\n",
    "                        \"url\": f\"data:image/jpeg;base64,{base64_image}\"\n",
    "                    }\n",
    "                }\n",
    "            ]\n",
    "        }\n",
    "    ]\n",
    ")\n",
    "\n",
    "print(response.choices[0])"
   ]
  },
  {
   "cell_type": "code",
   "execution_count": null,
   "metadata": {},
   "outputs": [],
   "source": [
    "print(response.choices[0].message.content)"
   ]
  },
  {
   "cell_type": "markdown",
   "metadata": {},
   "source": [
    "---\n",
    "\n",
    "### 오디오 출력\n",
    "\n",
    "\n",
    "OpenAI API의 음성 생성(Text-to-Speech) 기능을 통해 텍스트 응답을 자연스러운 음성으로 변환하여 활용할 수 있습니다.\n",
    "\n",
    "* API 요청 설정\n",
    "  - `model`: \"gpt-4.1-mini-audio-preview\"와 같은 오디오 지원 모델 사용\n",
    "  - `modalities`: [\"text\", \"audio\"]로 텍스트와 오디오 모두 출력\n",
    "  - `audio` 파라미터 설정\n",
    "    - `voice`: 음성 종류 선택 (예: \"alloy\")\n",
    "    - `format`: 출력 포맷 지정 (예: \"wav\")\n",
    "\n",
    "* 음성 생성 과정\n",
    "  - API는 텍스트 응답과 함께 Base64로 인코딩된 오디오 데이터 반환\n",
    "  - 응답 구조:\n",
    "    - `completion.choices[0].message.content`: 텍스트 응답\n",
    "    - `completion.choices[0].message.audio.data`: Base64 인코딩된 오디오 데이터\n",
    "\n",
    "* 오디오 파일 저장\n",
    "  - Base64 디코딩\n",
    "    ```python\n",
    "        wav_bytes = base64.b64decode(completion.choices[0].message.audio.data)\n",
    "    ```\n",
    "  - 파일로 저장\n",
    "    ```python\n",
    "        with open(\"sample.wav\", \"wb\") as f:\n",
    "            f.write(wav_bytes)\n",
    "    ```"
   ]
  },
  {
   "cell_type": "code",
   "execution_count": null,
   "metadata": {},
   "outputs": [],
   "source": [
    "from openai import OpenAI\n",
    "\n",
    "client = OpenAI()\n",
    "\n",
    "completion = client.chat.completions.create(\n",
    "    model=\"gpt-4o-mini-audio-preview\",\n",
    "    modalities=[\"text\", \"audio\"],\n",
    "    audio={\"voice\": \"alloy\", \"format\": \"wav\"},\n",
    "    messages=[\n",
    "        {\n",
    "            \"role\": \"user\",\n",
    "            \"content\": \"안녕하세요. 대한민국의 수도는 어디인가요?\"\n",
    "        }\n",
    "    ]\n",
    ")\n",
    "\n",
    "print(completion.choices[0])"
   ]
  },
  {
   "cell_type": "code",
   "execution_count": null,
   "metadata": {},
   "outputs": [],
   "source": [
    "# 음성 파일 저장\n",
    "import base64\n",
    "\n",
    "wav_bytes = base64.b64decode(completion.choices[0].message.audio.data)\n",
    "with open(\"sample.wav\", \"wb\") as f:\n",
    "    f.write(wav_bytes)"
   ]
  },
  {
   "cell_type": "code",
   "execution_count": null,
   "metadata": {},
   "outputs": [],
   "source": [
    "# 토큰 사용량\n",
    "print(response.usage)"
   ]
  },
  {
   "cell_type": "markdown",
   "metadata": {},
   "source": [
    "---\n",
    "\n",
    "\n",
    "**[실습 1]**: OpenAI 클라이언트를 초기화하고 환경변수에서 API 키를 가져오도록 코드를 작성하세요.\n",
    "- `힌트: python-dotenv 패키지를 사용하세요.`\n"
   ]
  },
  {
   "cell_type": "code",
   "execution_count": null,
   "metadata": {},
   "outputs": [],
   "source": [
    "# 여기에 코드를 작성하세요\n"
   ]
  },
  {
   "cell_type": "markdown",
   "metadata": {},
   "source": [
    "**[실습 2]**: 주어진 프롬프트에 대해 OpenAI API(gpt-4.1-mini)로 응답을 생성하는 함수를 작성하세요."
   ]
  },
  {
   "cell_type": "code",
   "execution_count": null,
   "metadata": {},
   "outputs": [],
   "source": [
    "from openai import OpenAI\n",
    "\n",
    "def get_simple_completion(prompt: str) -> str:\n",
    "    client = OpenAI()\n",
    "    # 여기에 코드를 작성하세요\n",
    "\n",
    "    return response.choices[0].message.content\n",
    "\n",
    "\n",
    "# 테스트 코드\n",
    "print(get_simple_completion(\"What is the capital of the United States?\"))"
   ]
  },
  {
   "cell_type": "markdown",
   "metadata": {},
   "source": [
    "---\n",
    "\n",
    "## 5. 매개변수 최적화\n",
    "\n",
    "### ⚙️ 핵심 매개변수 가이드\n",
    "\n",
    "| 매개변수 | 범위 | 용도 | 추천값 |\n",
    "|---------|------|------|--------|\n",
    "| `temperature` | 0~2 | 창의성 조절 | 0.3 (정확성), 0.7 (균형), 1.2 (창의성) |\n",
    "| `top_p` | 0~1 | 응답 다양성 | 0.9 (기본), 0.3 (집중적) |\n",
    "| `max_tokens` | 1~8192+ | 최대 길이 | 작업에 따라 조절 |\n",
    "| `frequency_penalty` | -2~2 | 반복 억제 | 0.3~0.6 |\n",
    "| `presence_penalty` | -2~2 | 새 주제 도입 | 0.3~0.6 |"
   ]
  },
  {
   "cell_type": "markdown",
   "metadata": {},
   "source": [
    "### 🎨 시나리오별 설정\n"
   ]
  },
  {
   "cell_type": "markdown",
   "metadata": {},
   "source": [
    "**1. 정확한 정보 제공**"
   ]
  },
  {
   "cell_type": "code",
   "execution_count": null,
   "metadata": {},
   "outputs": [],
   "source": [
    "response = client.chat.completions.create(\n",
    "    model=\"gpt-4.1-mini\",\n",
    "    messages=[{\"role\": \"user\", \"content\": \"파이썬 딕셔너리 메서드들을 설명해주세요.\"}],\n",
    "    temperature=0.2,  # 낮은 창의성\n",
    "    top_p=0.3,        # 집중적 응답\n",
    "    max_tokens=500\n",
    ")\n",
    "\n",
    "print(response.choices[0].message.content)"
   ]
  },
  {
   "cell_type": "markdown",
   "metadata": {},
   "source": [
    "**2. 창의적 글쓰기**"
   ]
  },
  {
   "cell_type": "code",
   "execution_count": null,
   "metadata": {},
   "outputs": [],
   "source": [
    "response = client.chat.completions.create(\n",
    "    model=\"gpt-4.1\",\n",
    "    messages=[{\"role\": \"user\", \"content\": \"우주 정거장에서의 하루를 소설로 써주세요.\"}],\n",
    "    temperature=1.1,  # 높은 창의성\n",
    "    top_p=0.9,        # 다양한 표현\n",
    "    max_tokens=1000,\n",
    "    frequency_penalty=0.5  # 반복 방지\n",
    ")\n",
    "\n",
    "print(response.choices[0].message.content)"
   ]
  },
  {
   "cell_type": "markdown",
   "metadata": {},
   "source": [
    "**3. 코드 생성**"
   ]
  },
  {
   "cell_type": "code",
   "execution_count": null,
   "metadata": {},
   "outputs": [],
   "source": [
    "response = client.chat.completions.create(\n",
    "    model=\"gpt-4.1-mini\",\n",
    "    messages=[{\"role\": \"user\", \"content\": \"웹 스크래핑을 위한 Python 함수를 만들어주세요.\"}],\n",
    "    temperature=0.4,  # 약간의 창의성\n",
    "    max_tokens=800\n",
    ")\n",
    "\n",
    "print(response.choices[0].message.content)"
   ]
  },
  {
   "cell_type": "markdown",
   "metadata": {},
   "source": [
    "---\n",
    "\n",
    "## 7. 실습 문제\n",
    "\n",
    "**문제 1: 언어 번역기 만들기**"
   ]
  },
  {
   "cell_type": "code",
   "execution_count": null,
   "metadata": {},
   "outputs": [],
   "source": [
    "def translator(text, target_language):\n",
    "    # TODO: OpenAI API를 사용해서 번역 함수를 완성하세요\n",
    "    pass\n",
    "\n",
    "# 테스트\n",
    "result = translator(\"안녕하세요, 오늘 날씨가 좋네요!\", \"영어\")\n",
    "print(result)  # 예상 출력: Hello, the weather is nice today!"
   ]
  },
  {
   "cell_type": "markdown",
   "metadata": {},
   "source": [
    "**문제 2: 감정 분석기**"
   ]
  },
  {
   "cell_type": "code",
   "execution_count": null,
   "metadata": {},
   "outputs": [],
   "source": [
    "def analyze_sentiment(text):\n",
    "    # TODO: 텍스트의 감정을 분석하여 JSON 형태로 반환하는 함수를 만드세요\n",
    "    # 반환 형태: {\"sentiment\": \"positive/negative/neutral\", \"confidence\": 0.85}\n",
    "    # 힌트: client.chat.completions.create()를 사용하고 response_format으로 JSON 스키마를 정의하세요\n",
    "    pass\n",
    "\n",
    "# 테스트\n",
    "result = analyze_sentiment(\"오늘 시험을 잘 봤어요! 정말 기쁩니다.\")\n",
    "print(result)\n",
    "# 예상 출력: {'sentiment': 'positive', 'confidence': 0.95}\n"
   ]
  },
  {
   "cell_type": "markdown",
   "metadata": {},
   "source": [
    "\n",
    "---\n",
    "\n",
    "## 🔗 유용한 링크\n",
    "- [OpenAI API 공식 문서](https://platform.openai.com/docs)\n",
    "- [OpenAI 토큰 계산기](https://platform.openai.com/tokenizer)\n",
    "- [프롬프트 엔지니어링 가이드](https://platform.openai.com/docs/guides/prompt-engineering)\n",
    "\n",
    "---"
   ]
  }
 ],
 "metadata": {
  "colab": {
   "provenance": []
  },
  "kernelspec": {
   "display_name": "faq_chatbot",
   "language": "python",
   "name": "python3"
  },
  "language_info": {
   "codemirror_mode": {
    "name": "ipython",
    "version": 3
   },
   "file_extension": ".py",
   "mimetype": "text/x-python",
   "name": "python",
   "nbconvert_exporter": "python",
   "pygments_lexer": "ipython3",
   "version": "3.12.11"
  }
 },
 "nbformat": 4,
 "nbformat_minor": 0
}
