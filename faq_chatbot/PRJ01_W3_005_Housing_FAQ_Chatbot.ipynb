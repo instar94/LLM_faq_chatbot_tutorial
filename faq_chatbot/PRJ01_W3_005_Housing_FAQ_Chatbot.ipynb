{
 "cells": [
  {
   "cell_type": "markdown",
   "metadata": {},
   "source": [
    "#  주택청약 FAQ 시스템 챗봇 구현 \n",
    "- 문서 전처리 + RAG + Gradio ChatInterface\n",
    "\n",
    "### **학습 목표:**  RAG 기반의 주택청약 FAQ 시스템을 Gradio로 구현한다\n",
    "\n",
    "---"
   ]
  },
  {
   "cell_type": "markdown",
   "metadata": {},
   "source": [
    "# 환경 설정 및 준비"
   ]
  },
  {
   "cell_type": "markdown",
   "metadata": {},
   "source": [
    "`(1) Env 환경변수`"
   ]
  },
  {
   "cell_type": "code",
   "execution_count": 12,
   "metadata": {},
   "outputs": [
    {
     "data": {
      "text/plain": [
       "True"
      ]
     },
     "execution_count": 12,
     "metadata": {},
     "output_type": "execute_result"
    }
   ],
   "source": [
    "from dotenv import load_dotenv\n",
    "load_dotenv()"
   ]
  },
  {
   "cell_type": "markdown",
   "metadata": {},
   "source": [
    "`(2) 기본 라이브러리`"
   ]
  },
  {
   "cell_type": "code",
   "execution_count": 13,
   "metadata": {},
   "outputs": [],
   "source": [
    "import os\n",
    "from glob import glob\n",
    "\n",
    "from pprint import pprint\n",
    "import json"
   ]
  },
  {
   "cell_type": "markdown",
   "metadata": {},
   "source": [
    "`(3) LLM 설정`"
   ]
  },
  {
   "cell_type": "code",
   "execution_count": 14,
   "metadata": {},
   "outputs": [],
   "source": [
    "from langchain_openai import ChatOpenAI\n",
    "\n",
    "llm = ChatOpenAI(\n",
    "    model='gpt-4.1-mini',\n",
    "    temperature=0.1,\n",
    "    top_p=0.9, \n",
    ")"
   ]
  },
  {
   "cell_type": "markdown",
   "metadata": {},
   "source": [
    "# **문서 전처리 파이프라인**\n",
    "\n",
    "* 문서 전처리의 첫 단계는 데이터 정제로, 원본 문서에서 불필요한 요소(HTML 태그, 특수문자, 중복 내용 등)를 제거하고 텍스트를 표준화하는 과정입니다. 이는 검색 품질과 직결되는 중요한 단계입니다.\n",
    "\n",
    "* 문서 청킹(Chunking)은 긴 문서를 의미 있는 작은 단위로 분할하는 과정으로, 문장 단위나 단락 단위로 나누되 문맥의 연속성을 유지하는 것이 핵심입니다. 이는 검색 정확도와 답변 생성의 품질에 직접적인 영향을 미칩니다.\n",
    "\n",
    "* 임베딩(Embedding) 생성은 텍스트를 고차원의 벡터로 변환하는 과정으로, 문서의 의미적 특성을 수치화하여 효율적인 검색을 가능하게 합니다. 이때 사용되는 임베딩 모델의 선택이 검색 성능을 좌우하는 중요한 요소가 됩니다.\n",
    "\n",
    "* 마지막으로 벡터 데이터베이스 색인화 단계에서는 생성된 임베딩을 효율적으로 저장하고 검색할 수 있는 구조로 변환합니다. 이는 대규모 문서 집합에서도 빠른 검색을 가능하게 하는 핵심 요소입니다.\n"
   ]
  },
  {
   "cell_type": "markdown",
   "metadata": {},
   "source": [
    "### 1) 문서 로드\n",
    "\n",
    "- 국토교통부 주택청약 FAQ에서 일부 내용(청약자격, 청약통장)을 발췌하여 재가공\n",
    "- Q1 ~ Q50까지 모두 50개의 문답이 포함된 텍스트 파일"
   ]
  },
  {
   "cell_type": "code",
   "execution_count": null,
   "metadata": {},
   "outputs": [
    {
     "name": "stdout",
     "output_type": "stream",
     "text": [
      "Q1 경기도 과천시에서 공급되는 주택의 해당 주택건설지역의 범위는?\n",
      "A 해당 주택건설지역이란 특별시ㆍ광역시ㆍ특별자치시ㆍ특별자치도(관할 구역 안에 지방자치단체인 시ㆍ군이 없는 특별자치도를 말한다) 또는 시ㆍ군의 행정구역을 말합니다. 따라서, 경기도 과천시에서 공급하는 주택의 경우 과천시가 해당 주택건설지역에 해당됩니다. \n",
      "참고로, 서울특별시에서 공급되는 주택의 경우 서울특별시 전역, 인천광역시의 경우 인천광역시 전역이 해당 주택건설지역에 해당됩니다.\n",
      "\n",
      "Q2 해당 주택건설지역에 거주하고 있지 않다면 청약신청이 불가능한지?\n",
      "A 해당 주택건설지역에 거주하고 있지 않더라도 청약가능지역에서 공급되는 주택에 청약신청이 가능하나, 같은 순위에서는 해당 주택건설지역의 거주자가 우선하여 주택을 공급받게 됩니다.\n",
      "* 서울·인천·경기도 / 대전·세종·충남 / 충북 / 광주·전남 / 전북 / 대구·경북 / 부산·울산·경남 / 강원\n",
      "다만, 수도권 대규모 택지개발지구 등에서 주택이 공급되는 경우 일정 비율의 \n"
     ]
    }
   ],
   "source": [
    "# 파일 경로 설정\n",
    "faq_text_file = \"data/housing_faq.txt\"\n",
    "\n",
    "# 파일 읽기 - 파이썬 내장 함수 사용\n",
    "### 윈도우의 경우 utf-8로 인코딩 필요 \n",
    "with open(faq_text_file, 'r', encoding=\"utf-8\") as f:\n",
    "    faq_text = f.read()\n",
    "\n",
    "# 파일 내용 확인\n",
    "print(faq_text[:500])"
   ]
  },
  {
   "cell_type": "markdown",
   "metadata": {},
   "source": [
    "##### ***[실습] TextLoader를 사용하여, 텍스트 문서를 로드합니다.*** "
   ]
  },
  {
   "cell_type": "code",
   "execution_count": null,
   "metadata": {},
   "outputs": [],
   "source": [
    "# 여기에 코드를 작성하세요.\n",
    "from langchain_community.document_loaders import TextLoader\n",
    "\n",
    "### 파일 로더 초기화 \n",
    "txt_loader = TextLoader(\"./data/housing_faq.txt\", encoding=\"utf-8\")\n",
    "\n",
    "### 로딩 \n",
    "docs = txt_loader.load()"
   ]
  },
  {
   "cell_type": "code",
   "execution_count": 6,
   "metadata": {},
   "outputs": [
    {
     "name": "stdout",
     "output_type": "stream",
     "text": [
      "Q1 경기도 과천시에서 공급되는 주택의 해당 주택건설지역의 범위는?\n",
      "A 해당 주택건설지역이란 특별시ㆍ광역시ㆍ특별자치시ㆍ특별자치도(관할 구역 안에 지방자치단체인 시ㆍ군이 없는 특별자치도를 말한다) 또는 시ㆍ군의 행정구역을 말합니다. 따라서, 경기도 과천시에서 공급하는 주택의 경우 과천시가 해당 주택건설지역에 해당됩니다. \n",
      "참고로, 서울특별시에서 공급되는 주택의 경우 서울특별시 전역, 인천광역시의 경우 인천광역시 전역이 해당 주택건설지역에 해당됩니다.\n",
      "\n",
      "Q2 해당 주택건설지역에 거주하고 있지 않다면 청약신청이 불가능한지?\n",
      "A 해당 주택건설지역에 거주하고 있지 않더라도 청약가능지역에서 공급되는 주택에 청약신청이 가능하나, 같은 순위에서는 해당 주택건설지역의 거주자가 우선하여 주택을 공급받게 됩니다.\n",
      "* 서울·인천·경기도 / 대전·세종·충남 / 충북 / 광주·전남 / 전북 / 대구·경북 / 부산·울산·경남 / 강원\n",
      "다만, 수도권 대규모 택지개발지구 등에서 주택이 공급되는 경우 일정 비율의 \n"
     ]
    }
   ],
   "source": [
    "# 문서 확인\n",
    "print(docs[0].page_content[:500])"
   ]
  },
  {
   "cell_type": "code",
   "execution_count": 7,
   "metadata": {},
   "outputs": [
    {
     "data": {
      "text/plain": [
       "{'source': './data/housing_faq.txt'}"
      ]
     },
     "execution_count": 7,
     "metadata": {},
     "output_type": "execute_result"
    }
   ],
   "source": [
    "# 문서 메타데이터 확인\n",
    "docs[0].metadata"
   ]
  },
  {
   "cell_type": "markdown",
   "metadata": {},
   "source": [
    "### 2) 문서 전처리"
   ]
  },
  {
   "cell_type": "markdown",
   "metadata": {},
   "source": [
    "`(1) 각 질문과 답변을 쌍으로 추출하여 정리 (정규표현식 활용)`\n",
    "- FAQ이기 때문에 Q1, Q2 처럼 정규식으로 처리가 가능 "
   ]
  },
  {
   "cell_type": "code",
   "execution_count": 8,
   "metadata": {},
   "outputs": [],
   "source": [
    "import re\n",
    "\n",
    "def extract_qa_pairs(text):\n",
    "    qa_pairs = []\n",
    "    \n",
    "    # 텍스트를 라인별로 분리하고 각 라인의 앞뒤 공백 제거\n",
    "    lines = [line.strip() for line in text.split('\\n')]\n",
    "    current_question = None\n",
    "    current_answer = []\n",
    "    current_number = None\n",
    "    in_answer = False\n",
    "    \n",
    "    for i, line in enumerate(lines):\n",
    "        if not line:  # 빈 라인 처리\n",
    "            if in_answer and current_answer and i + 1 < len(lines) and lines[i + 1].startswith('Q'):\n",
    "                # 다음 질문이 시작되기 전 빈 줄이면 현재 QA 쌍 저장\n",
    "                qa_pairs.append({\n",
    "                    'number': current_number,\n",
    "                    'question': current_question,\n",
    "                    'answer': ' '.join(current_answer).strip()\n",
    "                })\n",
    "                in_answer = False\n",
    "                current_answer = []\n",
    "            continue\n",
    "            \n",
    "        # 새로운 질문 확인 (Q 다음에 숫자가 오는 패턴)\n",
    "        q_match = re.match(r'Q(\\d+)\\s+(.*)', line)\n",
    "        if q_match:\n",
    "            # 이전 QA 쌍이 있으면 저장\n",
    "            if current_question is not None and current_answer:\n",
    "                qa_pairs.append({\n",
    "                    'number': current_number,\n",
    "                    'question': current_question,\n",
    "                    'answer': ' '.join(current_answer).strip()\n",
    "                })\n",
    "            \n",
    "            # 새로운 질문 시작\n",
    "            current_number = int(q_match.group(1))\n",
    "            current_question = q_match.group(2).strip().rstrip('?') + '?'  # 질문 마크 정규화\n",
    "            current_answer = []\n",
    "            in_answer = False\n",
    "            \n",
    "        # 답변 시작 확인\n",
    "        elif line.startswith('A ') or (current_question and not current_answer and line):\n",
    "            in_answer = True\n",
    "            current_answer.append(line.lstrip('A '))\n",
    "            \n",
    "        # 기존 답변에 내용 추가\n",
    "        elif current_question is not None and (in_answer or not line.startswith('Q')):\n",
    "            if in_answer or (current_answer and not line.startswith('Q')):\n",
    "                current_answer.append(line)\n",
    "    \n",
    "    # 마지막 QA 쌍 처리\n",
    "    if current_question is not None and current_answer:\n",
    "        qa_pairs.append({\n",
    "            'number': current_number,\n",
    "            'question': current_question,\n",
    "            'answer': ' '.join(current_answer).strip()\n",
    "        })\n",
    "    \n",
    "    # 번호 순서대로 정렬\n",
    "    qa_pairs.sort(key=lambda x: x['number'])\n",
    "    \n",
    "    return qa_pairs"
   ]
  },
  {
   "cell_type": "code",
   "execution_count": 9,
   "metadata": {},
   "outputs": [
    {
     "name": "stdout",
     "output_type": "stream",
     "text": [
      "추출된 QA 쌍 개수: 50\n",
      "추출된 첫번째 QA: \n",
      "{'number': 1, 'question': '경기도 과천시에서 공급되는 주택의 해당 주택건설지역의 범위는?', 'answer': '해당 주택건설지역이란 특별시ㆍ광역시ㆍ특별자치시ㆍ특별자치도(관할 구역 안에 지방자치단체인 시ㆍ군이 없는 특별자치도를 말한다) 또는 시ㆍ군의 행정구역을 말합니다. 따라서, 경기도 과천시에서 공급하는 주택의 경우 과천시가 해당 주택건설지역에 해당됩니다. 참고로, 서울특별시에서 공급되는 주택의 경우 서울특별시 전역, 인천광역시의 경우 인천광역시 전역이 해당 주택건설지역에 해당됩니다.'}\n"
     ]
    }
   ],
   "source": [
    "# QA 쌍 추출\n",
    "qa_pairs = extract_qa_pairs(docs[0].page_content) \n",
    "\n",
    "print(f\"추출된 QA 쌍 개수: {len(qa_pairs)}\")\n",
    "print(f\"추출된 첫번째 QA: \\n{qa_pairs[0]}\")"
   ]
  },
  {
   "cell_type": "markdown",
   "metadata": {},
   "source": [
    "`(2) LLM으로 추가 정보를 추출`\n",
    "- 텍스트에서 키워드와 핵심 개념을 추출하는 체인\n",
    "- 메타데이터 or 본문(page_content)에 추가하여 검색에 활용    "
   ]
  },
  {
   "cell_type": "markdown",
   "metadata": {},
   "source": [
    "##### ***[실습] 다음 모델 스키마를 사용하여, 키워드와 요약을 추출하는 체인을 완성합니다.*** "
   ]
  },
  {
   "cell_type": "code",
   "execution_count": 10,
   "metadata": {},
   "outputs": [
    {
     "name": "stdout",
     "output_type": "stream",
     "text": [
      "경기도 과천시에서 공급되는 주택의 해당 주택건설지역의 범위는?\n",
      "\n",
      "해당 주택건설지역이란 특별시ㆍ광역시ㆍ특별자치시ㆍ특별자치도(관할 구역 안에 지방자치단체인 시ㆍ군이 없는 특별자치도를 말한다) 또는 시ㆍ군의 행정구역을 말합니다. 따라서, 경기도 과천시에서 공급하는 주택의 경우 과천시가 해당 주택건설지역에 해당됩니다. 참고로, 서울특별시에서 공급되는 주택의 경우 서울특별시 전역, 인천광역시의 경우 인천광역시 전역이 해당 주택건설지역에 해당됩니다.\n"
     ]
    }
   ],
   "source": [
    "# QA 쌍 확인 (첫번째)\n",
    "print((qa_pairs[0]['question']+\"\\n\\n\"+qa_pairs[0]['answer']))"
   ]
  },
  {
   "cell_type": "code",
   "execution_count": 22,
   "metadata": {},
   "outputs": [
    {
     "name": "stdout",
     "output_type": "stream",
     "text": [
      "키워드: 해당 주택건설지역\n",
      "요약: 경기도 과천시에서 공급되는 주택의 해당 주택건설지역은 과천시 행정구역이며, 특별시·광역시·특별자치시·특별자치도 또는 시·군의 행정구역을 의미한다.\n"
     ]
    }
   ],
   "source": [
    "from langchain_core.prompts import ChatPromptTemplate\n",
    "from langchain_openai import ChatOpenAI\n",
    "from pydantic import BaseModel, Field\n",
    "from typing import List\n",
    "\n",
    "# 출력 형식 정의\n",
    "class KeywordOutput(BaseModel):\n",
    "    keyword: str = Field(description=\"텍스트에서 추출한 가장 중요한 키워드(법률용어, 주제 등))\")\n",
    "    summary: str = Field(description=\"텍스트의 간단한 요약\")\n",
    "\n",
    "# 프롬프트 템플릿 정의\n",
    "prompt = ChatPromptTemplate.from_messages([\n",
    "    (\"system\", \"\"\"당신은 텍스트 분석 전문가입니다. \n",
    "주어진 텍스트에서 중요한 키워드를 추출하고, 텍스트의 간단한 요약을 작성하는 것이 당신의 역할입니다.\n",
    "\n",
    "## 추출 지침:\n",
    "- 텍스트의 맥락을 고려하여 핵심 용어나 전문 용어를 추출합니다\n",
    "- 주요 아이디어나 원리, 개념을 포함합니다\n",
    "- 가장 중요한 키워드를 1개 추출합니다\n",
    "- 요약은 1문장으로 간결하게 작성합니다\n",
    "\n",
    "## 출력 형식:\n",
    "- keyword: 가장 중요한 키워드 \n",
    "- summary: 텍스트의 간단한 요약\"\"\"),\n",
    "    \n",
    "    (\"user\", \"다음 텍스트를 분석해주세요:\\n\\n{input_text}\")\n",
    "])\n",
    "\n",
    "# LCEL 체인 구성\n",
    "llm_with_structure = llm.with_structured_output(KeywordOutput) \n",
    "keyword_extractor = prompt | llm_with_structure\n",
    "\n",
    "# 텍스트 추출 테스트     \n",
    "result = keyword_extractor.invoke(qa_pairs[0]['question']+qa_pairs[0]['answer'])\n",
    "print(\"키워드:\", result.keyword)\n",
    "print(\"요약:\", result.summary)"
   ]
  },
  {
   "cell_type": "markdown",
   "metadata": {},
   "source": [
    "`(3) QA 쌍을 문자열 포맷팅하고 문서 객체로 변환`"
   ]
  },
  {
   "cell_type": "code",
   "execution_count": 24,
   "metadata": {},
   "outputs": [
    {
     "name": "stdout",
     "output_type": "stream",
     "text": [
      "포맷팅된 문서 개수: 50\n",
      "[1]\n",
      "질문: 경기도 과천시에서 공급되는 주택의 해당 주택건설지역의 범위는?\n",
      "답변: 해당 주택건설지역이란 특별시ㆍ광역시ㆍ특별자치시ㆍ특별자치도(관할 구역 안에 지방자치단체인 시ㆍ군이 없는 특별자치도를 말한다) 또는 시ㆍ군의 행정구역을 말합니다. 따라서, 경기도 과천시에서 공급하는 주택의 경우 과천시가 해당 주택건설지역에 해당됩니다. 참고로, 서울특별시에서 공급되는 주택의 경우 서울특별시 전역, 인천광역시의 경우 인천광역시 전역이 해당 주택건설지역에 해당됩니다.\n",
      "\n",
      "--------------------------------------------------------------------------------------------------------------------------------------------------------------------------------------------------------\n",
      "{'answer': '해당 주택건설지역이란 특별시ㆍ광역시ㆍ특별자치시ㆍ특별자치도(관할 구역 안에 지방자치단체인 시ㆍ군이 없는 특별자치도를 '\n",
      "           '말한다) 또는 시ㆍ군의 행정구역을 말합니다. 따라서, 경기도 과천시에서 공급하는 주택의 경우 과천시가 해당 '\n",
      "           '주택건설지역에 해당됩니다. 참고로, 서울특별시에서 공급되는 주택의 경우 서울특별시 전역, 인천광역시의 경우 인천광역시 '\n",
      "           '전역이 해당 주택건설지역에 해당됩니다.',\n",
      " 'keyword': '해당 주택건설지역',\n",
      " 'question': '경기도 과천시에서 공급되는 주택의 해당 주택건설지역의 범위는?',\n",
      " 'question_id': 1,\n",
      " 'summary': '경기도 과천시에서 공급되는 주택의 해당 주택건설지역은 과천시 행정구역 전체를 의미한다.'}\n"
     ]
    }
   ],
   "source": [
    "from langchain_core.documents import Document\n",
    "\n",
    "def format_qa_pairs(qa_pairs):\n",
    "    \"\"\"\n",
    "    추출된 QA 쌍을 포맷팅하여 문서 객체로 변환\n",
    "    \"\"\"\n",
    "    processed_docs = []\n",
    "    for pair in qa_pairs:\n",
    "\n",
    "        # QA 쌍을 포맷팅\n",
    "        formatted_output = (\n",
    "            f\"[{pair['number']}]\\n\"\n",
    "            f\"질문: {pair['question']}\\n\"\n",
    "            f\"답변: {pair['answer']}\\n\"\n",
    "        )\n",
    "\n",
    "        # 키워드와 요약 추출\n",
    "        result = keyword_extractor.invoke(pair['question']+\"\\n\\n\"+pair['answer'])\n",
    "\n",
    "        # 문서 객체 생성\n",
    "        doc = Document(\n",
    "            page_content=formatted_output,\n",
    "            metadata={\n",
    "                'question_id': int(pair['number']),\n",
    "                'question': pair['question'],\n",
    "                'answer': pair['answer'],\n",
    "                'keyword': result.keyword,\n",
    "                'summary': result.summary\n",
    "            }\n",
    "        )\n",
    "        processed_docs.append(doc)\n",
    "\n",
    "    return processed_docs\n",
    "\n",
    "\n",
    "# QA 쌍 포맷팅\n",
    "formatted_docs = format_qa_pairs(qa_pairs)\n",
    "print(f\"포맷팅된 문서 개수: {len(formatted_docs)}\")\n",
    "\n",
    "# 문서 확인\n",
    "print(formatted_docs[0].page_content)\n",
    "print(\"-\" * 200)\n",
    "# 문서 메타데이터 확인\n",
    "pprint(formatted_docs[0].metadata)"
   ]
  },
  {
   "cell_type": "markdown",
   "metadata": {},
   "source": [
    "##### ***[실습] 문서 객체를 포맷팅하여 구성합니다.*** \n",
    "\n",
    "- 요약문을 시맨틱 검색에 활용합니다. 다음 구조로 문서 객체를 생성합니다. \n",
    "    - page_content: 요약\n",
    "    - metadata: 기타 정보"
   ]
  },
  {
   "cell_type": "code",
   "execution_count": 25,
   "metadata": {},
   "outputs": [],
   "source": [
    "# 여기에 코드를 작성하세요.\n",
    "from langchain_core.documents import Document\n",
    "\n",
    "def format_qa_pairs_with_summary(qa_pairs):\n",
    "    \"\"\"\n",
    "    추출된 QA 쌍을 포맷팅하여 문서 객체로 변환\n",
    "    \"\"\"\n",
    "    processed_docs = []\n",
    "    for pair in qa_pairs:\n",
    "\n",
    "        # 키워드와 요약 추출\n",
    "        result = keyword_extractor.invoke(pair['question']+\"\\n\\n\"+pair['answer'])\n",
    "\n",
    "        # 문서 객체 생성\n",
    "        doc = Document(\n",
    "            page_content=result.summary,\n",
    "            metadata={\n",
    "                'question_id': int(pair['number']),\n",
    "                'question': pair['question'],\n",
    "                'answer': pair['answer'],\n",
    "                'keyword': result.keyword,\n",
    "            }\n",
    "        )\n",
    "        processed_docs.append(doc)\n",
    "\n",
    "    return processed_docs\n"
   ]
  },
  {
   "cell_type": "code",
   "execution_count": 26,
   "metadata": {},
   "outputs": [
    {
     "name": "stdout",
     "output_type": "stream",
     "text": [
      "포맷팅된 문서 개수: 50\n",
      "경기도 과천시에서 공급되는 주택의 해당 주택건설지역은 과천시 행정구역 전체를 의미한다.\n",
      "--------------------------------------------------------------------------------------------------------------------------------------------------------------------------------------------------------\n",
      "{'answer': '해당 주택건설지역이란 특별시ㆍ광역시ㆍ특별자치시ㆍ특별자치도(관할 구역 안에 지방자치단체인 시ㆍ군이 없는 특별자치도를 '\n",
      "           '말한다) 또는 시ㆍ군의 행정구역을 말합니다. 따라서, 경기도 과천시에서 공급하는 주택의 경우 과천시가 해당 '\n",
      "           '주택건설지역에 해당됩니다. 참고로, 서울특별시에서 공급되는 주택의 경우 서울특별시 전역, 인천광역시의 경우 인천광역시 '\n",
      "           '전역이 해당 주택건설지역에 해당됩니다.',\n",
      " 'keyword': '해당 주택건설지역',\n",
      " 'question': '경기도 과천시에서 공급되는 주택의 해당 주택건설지역의 범위는?',\n",
      " 'question_id': 1}\n"
     ]
    }
   ],
   "source": [
    "# QA 쌍 포맷팅\n",
    "summary_formatted_docs = format_qa_pairs_with_summary(qa_pairs) \n",
    "print(f\"포맷팅된 문서 개수: {len(summary_formatted_docs)}\")\n",
    "\n",
    "# 문서 확인\n",
    "print(summary_formatted_docs[0].page_content)\n",
    "print(\"-\" * 200)\n",
    "# 문서 메타데이터 확인\n",
    "pprint(summary_formatted_docs[0].metadata)"
   ]
  },
  {
   "cell_type": "markdown",
   "metadata": {},
   "source": [
    "# 벡터 저장 "
   ]
  },
  {
   "cell_type": "code",
   "execution_count": 28,
   "metadata": {},
   "outputs": [
    {
     "name": "stderr",
     "output_type": "stream",
     "text": [
      "c:\\Modu_LLM\\LLM_faq_chatbot_tutorial\\faq_chatbot\\.venv\\Lib\\site-packages\\chromadb\\execution\\expression\\operator.py:239: SyntaxWarning: invalid escape sequence '\\.'\n",
      "  Key(\"email\").regex(r\".*@example\\.com\")\n"
     ]
    }
   ],
   "source": [
    "from langchain_chroma import Chroma\n",
    "from langchain_openai import OpenAIEmbeddings\n",
    "\n",
    "embeddings = OpenAIEmbeddings(model=\"text-embedding-3-small\")\n",
    "\n",
    "# 문서 벡터 저장\n",
    "vector_store = Chroma.from_documents(  \n",
    "    documents=formatted_docs,\n",
    "    embedding=embeddings,\n",
    "    collection_name=\"housing_faq_db\",\n",
    "    persist_directory=\"./chroma_db\",\n",
    ")"
   ]
  },
  {
   "cell_type": "markdown",
   "metadata": {},
   "source": [
    "##### ***[실습] 요약 문서(summary_formatted_docs)를 벡터 스토어에 저장합니다.*** \n",
    "\n",
    "- OpenAI (text-embedding-3-small) 임베딩 모델 사용\n",
    "- Chromda DB 사용"
   ]
  },
  {
   "cell_type": "code",
   "execution_count": 30,
   "metadata": {},
   "outputs": [
    {
     "name": "stdout",
     "output_type": "stream",
     "text": [
      "[1]\n",
      "질문: 경기도 과천시에서 공급되는 주택의 해당 주택건설지역의 범위는?\n",
      "답변: 해당 주택건설지역이란 특별시ㆍ광역시ㆍ특별자치시ㆍ특별자치도(관할 구역 안에 지방자치단체인 시ㆍ군이 없는 특별자치도를 말한다) 또는 시ㆍ군의 행정구역을 말합니다. 따라서, 경기도 과천시에서 공급하는 주택의 경우 과천시가 해당 주택건설지역에 해당됩니다. 참고로, 서울특별시에서 공급되는 주택의 경우 서울특별시 전역, 인천광역시의 경우 인천광역시 전역이 해당 주택건설지역에 해당됩니다.\n",
      "\n"
     ]
    }
   ],
   "source": [
    "print(formatted_docs[0].page_content)"
   ]
  },
  {
   "cell_type": "code",
   "execution_count": 32,
   "metadata": {},
   "outputs": [
    {
     "data": {
      "text/plain": [
       "50"
      ]
     },
     "execution_count": 32,
     "metadata": {},
     "output_type": "execute_result"
    }
   ],
   "source": [
    "vector_store._collection.count()"
   ]
  },
  {
   "cell_type": "code",
   "execution_count": 33,
   "metadata": {},
   "outputs": [
    {
     "name": "stdout",
     "output_type": "stream",
     "text": [
      "포맷팅된 문서를 data/housing_faq_formatted.json에 저장했습니다.\n"
     ]
    }
   ],
   "source": [
    "# 여기에 코드를 작성하세요.\n",
    "# 문서 저장\n",
    "output_file = \"data/housing_faq_formatted.json\"\n",
    "\n",
    "with open(output_file, 'w', encoding='utf-8-sig') as f:\n",
    "    json.dump([doc.model_dump() for doc in formatted_docs], f, indent=2, ensure_ascii=False)  # 한글이 유니코드로 변환되지 않도록 설정\n",
    "print(f\"포맷팅된 문서를 {output_file}에 저장했습니다.\")"
   ]
  },
  {
   "cell_type": "markdown",
   "metadata": {},
   "source": [
    "# 문서 검색"
   ]
  },
  {
   "cell_type": "code",
   "execution_count": 34,
   "metadata": {},
   "outputs": [
    {
     "data": {
      "text/plain": [
       "50"
      ]
     },
     "execution_count": 34,
     "metadata": {},
     "output_type": "execute_result"
    }
   ],
   "source": [
    "from langchain_chroma import Chroma\n",
    "from langchain_openai import OpenAIEmbeddings\n",
    "\n",
    "embeddings = OpenAIEmbeddings(model=\"text-embedding-3-small\")\n",
    "\n",
    "# 벡터 저장소 로드\n",
    "vector_store = Chroma(\n",
    "    collection_name=\"housing_faq_db\",\n",
    "    persist_directory=\"./chroma_db\", \n",
    "    embedding_function=embeddings,\n",
    ")\n",
    "\n",
    "vector_store._collection.count()"
   ]
  },
  {
   "cell_type": "markdown",
   "metadata": {},
   "source": [
    "##### ***[실습] 앞에서 저장한 벡터 스토어를 로드합니다.*** \n",
    "\n",
    "- OpenAI (text-embedding-3-small) 임베딩 모델 사용\n",
    "- Chromda DB 사용"
   ]
  },
  {
   "cell_type": "code",
   "execution_count": null,
   "metadata": {},
   "outputs": [],
   "source": [
    "# 여기에 코드를 작성하세요.\n",
    "\n",
    "\n",
    "# 벡터 저장소 로드\n",
    "vector_store_with_summary = None"
   ]
  },
  {
   "cell_type": "code",
   "execution_count": null,
   "metadata": {},
   "outputs": [],
   "source": [
    "# 검색기 생성 - 유사도 기반 상위 3개 문서 검색\n",
    "retriever = vector_store.as_retriever(\n",
    "    search_kwargs={\"k\": 3},\n",
    ")\n",
    "\n",
    "# 테스트 질문\n",
    "query = \"수원시의 주택건설지역은 어디에 해당하나요?\"\n",
    "\n",
    "results = retriever.invoke(query)\n",
    "for result in results:\n",
    "    print(result.page_content)\n",
    "    print(\"-\" * 50)\n",
    "    print(result.metadata['keyword'])\n",
    "    print(result.metadata['question_id'])\n",
    "    print(\"=\" * 50)"
   ]
  },
  {
   "cell_type": "markdown",
   "metadata": {},
   "source": [
    "##### ***[실습] MMR 검색기를 정의합니다.*** \n",
    "\n",
    "- 요약 문서 벡터 스토어를 사용\n",
    "- 10개의 문서를 가져와서, 다양성 기반으로 3개를 선택 (다양성은 중간 수준 적용)\n",
    "- jsonl 기준으로"
   ]
  },
  {
   "cell_type": "code",
   "execution_count": 36,
   "metadata": {},
   "outputs": [
    {
     "name": "stdout",
     "output_type": "stream",
     "text": [
      "[1]\n",
      "질문: 경기도 과천시에서 공급되는 주택의 해당 주택건설지역의 범위는?\n",
      "답변: 해당 주택건설지역이란 특별시ㆍ광역시ㆍ특별자치시ㆍ특별자치도(관할 구역 안에 지방자치단체인 시ㆍ군이 없는 특별자치도를 말한다) 또는 시ㆍ군의 행정구역을 말합니다. 따라서, 경기도 과천시에서 공급하는 주택의 경우 과천시가 해당 주택건설지역에 해당됩니다. 참고로, 서울특별시에서 공급되는 주택의 경우 서울특별시 전역, 인천광역시의 경우 인천광역시 전역이 해당 주택건설지역에 해당됩니다.\n",
      "\n",
      "--------------------------------------------------\n",
      "해당 주택건설지역\n",
      "1\n",
      "경기도 과천시에서 공급되는 주택의 해당 주택건설지역의 범위는?\n",
      "해당 주택건설지역이란 특별시ㆍ광역시ㆍ특별자치시ㆍ특별자치도(관할 구역 안에 지방자치단체인 시ㆍ군이 없는 특별자치도를 말한다) 또는 시ㆍ군의 행정구역을 말합니다. 따라서, 경기도 과천시에서 공급하는 주택의 경우 과천시가 해당 주택건설지역에 해당됩니다. 참고로, 서울특별시에서 공급되는 주택의 경우 서울특별시 전역, 인천광역시의 경우 인천광역시 전역이 해당 주택건설지역에 해당됩니다.\n",
      "==================================================\n",
      "[47]\n",
      "질문: 무주택세대구성원이란?\n",
      "답변: 무주택세대구성원이란 청약신청자 및 세대원 전원이 주택을 소유하고 있지 않은 세대의 구성원(세대주 포함)을 말합니다.\n",
      "\n",
      "--------------------------------------------------\n",
      "무주택세대구성원\n",
      "47\n",
      "무주택세대구성원이란?\n",
      "무주택세대구성원이란 청약신청자 및 세대원 전원이 주택을 소유하고 있지 않은 세대의 구성원(세대주 포함)을 말합니다.\n",
      "==================================================\n",
      "[36]\n",
      "질문: 청년주택드림청약통장 가입(혹은 전환신규) 당시 무주택자 였는데 이후 주택을 소유하게 된 경우 우대이율 및 비과세 적용을 받을 수 있나요?\n",
      "답변: 청년주택드림통장의 우대이율요건과 비과세 요건은 동일하지 않습니다. 비과세 요건 중 ‘주택을 소유하지 않은 세대의 세대주’ 자격은 가입 당시 기준입니다. 따라서 이후 주택을 소유하더라도 비과세 적용 가능합니다. 다만, 우대이율의 경우 최초로 주택을 소유하게 된 년도의 직전년도 말까지만 우대이율을 적용받습니다. * 예시) ’21년에 가입 후 ’23년에 주택 구입 시 : ’22년 말까지 우대이율 적용\n",
      "\n",
      "--------------------------------------------------\n",
      "청년주택드림통장 우대이율 및 비과세 요건\n",
      "36\n",
      "청년주택드림청약통장 가입(혹은 전환신규) 당시 무주택자 였는데 이후 주택을 소유하게 된 경우 우대이율 및 비과세 적용을 받을 수 있나요?\n",
      "청년주택드림통장의 우대이율요건과 비과세 요건은 동일하지 않습니다. 비과세 요건 중 ‘주택을 소유하지 않은 세대의 세대주’ 자격은 가입 당시 기준입니다. 따라서 이후 주택을 소유하더라도 비과세 적용 가능합니다. 다만, 우대이율의 경우 최초로 주택을 소유하게 된 년도의 직전년도 말까지만 우대이율을 적용받습니다. * 예시) ’21년에 가입 후 ’23년에 주택 구입 시 : ’22년 말까지 우대이율 적용\n",
      "==================================================\n"
     ]
    }
   ],
   "source": [
    "# 여기에 코드를 작성하세요.\n",
    "\n",
    "mmr_retriever = vector_store.as_retriever(\n",
    "    search_type=\"mmr\",\n",
    "    search_kwargs={\"k\": 3, \"fetch_k\": 8, \"lambda_mult\": 0.5 }\n",
    ")\n",
    "\n",
    "# 테스트 질문\n",
    "query = \"수원시의 주택건설지역은 어디에 해당하나요?\"\n",
    "\n",
    "results = mmr_retriever.invoke(query)\n",
    "for result in results:\n",
    "    print(result.page_content)\n",
    "    print(\"-\" * 50)\n",
    "    print(result.metadata['keyword'])\n",
    "    print(result.metadata['question_id'])\n",
    "    print(result.metadata['question'])\n",
    "    print(result.metadata['answer'])\n",
    "    print(\"=\" * 50)"
   ]
  },
  {
   "cell_type": "markdown",
   "metadata": {},
   "source": [
    "### **[심화] 메타데이터 기반 필터링**\n",
    "\n",
    "- Chroma 문서: https://docs.trychroma.com/docs/querying-collections/metadata-filtering"
   ]
  },
  {
   "cell_type": "code",
   "execution_count": 38,
   "metadata": {},
   "outputs": [
    {
     "name": "stdout",
     "output_type": "stream",
     "text": [
      "[1]\n",
      "질문: 경기도 과천시에서 공급되는 주택의 해당 주택건설지역의 범위는?\n",
      "답변: 해당 주택건설지역이란 특별시ㆍ광역시ㆍ특별자치시ㆍ특별자치도(관할 구역 안에 지방자치단체인 시ㆍ군이 없는 특별자치도를 말한다) 또는 시ㆍ군의 행정구역을 말합니다. 따라서, 경기도 과천시에서 공급하는 주택의 경우 과천시가 해당 주택건설지역에 해당됩니다. 참고로, 서울특별시에서 공급되는 주택의 경우 서울특별시 전역, 인천광역시의 경우 인천광역시 전역이 해당 주택건설지역에 해당됩니다.\n",
      "\n",
      "--------------------------------------------------\n",
      "해당 주택건설지역\n",
      "1\n",
      "==================================================\n"
     ]
    }
   ],
   "source": [
    "# 단일 필드 정확히 일치\n",
    "retriever = vector_store.as_retriever(\n",
    "    search_kwargs={\"filter\": {\"keyword\": \"해당 주택건설지역\"}},\n",
    ")\n",
    "\n",
    "query = \"수원시의 주택건설지역은 어디에 해당하나요?\"\n",
    "\n",
    "results = retriever.invoke(query)\n",
    "for result in results:\n",
    "    print(result.page_content)\n",
    "    print(\"-\" * 50)\n",
    "    print(result.metadata['keyword'])\n",
    "    print(result.metadata['question_id'])\n",
    "    print(\"=\" * 50)"
   ]
  },
  {
   "cell_type": "markdown",
   "metadata": {},
   "source": [
    "- $eq 연산자 사용 - 정확히 일치"
   ]
  },
  {
   "cell_type": "code",
   "execution_count": null,
   "metadata": {},
   "outputs": [
    {
     "name": "stdout",
     "output_type": "stream",
     "text": [
      "[1]\n",
      "질문: 경기도 과천시에서 공급되는 주택의 해당 주택건설지역의 범위는?\n",
      "답변: 해당 주택건설지역이란 특별시ㆍ광역시ㆍ특별자치시ㆍ특별자치도(관할 구역 안에 지방자치단체인 시ㆍ군이 없는 특별자치도를 말한다) 또는 시ㆍ군의 행정구역을 말합니다. 따라서, 경기도 과천시에서 공급하는 주택의 경우 과천시가 해당 주택건설지역에 해당됩니다. 참고로, 서울특별시에서 공급되는 주택의 경우 서울특별시 전역, 인천광역시의 경우 인천광역시 전역이 해당 주택건설지역에 해당됩니다.\n",
      "\n",
      "--------------------------------------------------\n",
      "해당 주택건설지역\n",
      "1\n",
      "==================================================\n"
     ]
    }
   ],
   "source": [
    "retriever = vector_store.as_retriever(\n",
    "    search_kwargs={\"filter\": {\"keyword\": {\"$eq\": \"해당 주택건설지역\"}}},\n",
    ")\n",
    "\n",
    "query = \"수원시의 주택건설지역은 어디에 해당하나요?\"\n",
    "\n",
    "results = retriever.invoke(query)\n",
    "for result in results:\n",
    "    print(result.page_content)\n",
    "    print(\"-\" * 50)\n",
    "    print(result.metadata['keyword'])\n",
    "    print(result.metadata['question_id'])\n",
    "    print(\"=\" * 50)"
   ]
  },
  {
   "cell_type": "markdown",
   "metadata": {},
   "source": [
    "- `$ne` (Not Equal) 연산자 사용 - 정확히 일치하지 않는 문서 검색"
   ]
  },
  {
   "cell_type": "code",
   "execution_count": null,
   "metadata": {},
   "outputs": [
    {
     "name": "stdout",
     "output_type": "stream",
     "text": [
      "[2]\n",
      "질문: 해당 주택건설지역에 거주하고 있지 않다면 청약신청이 불가능한지?\n",
      "답변: 해당 주택건설지역에 거주하고 있지 않더라도 청약가능지역에서 공급되는 주택에 청약신청이 가능하나, 같은 순위에서는 해당 주택건설지역의 거주자가 우선하여 주택을 공급받게 됩니다. * 서울·인천·경기도 / 대전·세종·충남 / 충북 / 광주·전남 / 전북 / 대구·경북 / 부산·울산·경남 / 강원 다만, 수도권 대규모 택지개발지구 등에서 주택이 공급되는 경우 일정 비율의 주택에 대해서는 해당 주택건설지역 거주자와 동등한 자격으로 주택을 공급받을 기회를 가지게 됩니다.\n",
      "\n",
      "--------------------------------------------------\n",
      "청약신청\n",
      "2\n",
      "==================================================\n",
      "[47]\n",
      "질문: 무주택세대구성원이란?\n",
      "답변: 무주택세대구성원이란 청약신청자 및 세대원 전원이 주택을 소유하고 있지 않은 세대의 구성원(세대주 포함)을 말합니다.\n",
      "\n",
      "--------------------------------------------------\n",
      "무주택세대구성원\n",
      "47\n",
      "==================================================\n",
      "[7]\n",
      "질문: 행정중심복합도시예정지역에서 공급하는 주택의 경우 공급비율 및 대상은?\n",
      "답변: 행정중심복합도시 예정지역에서 공급하는 주택의 경우 「주택공급에 관한 규칙」 제34조에 따라 해당 주택건설지역 거주자에게 행정중심복합도시건설청장이 정하여 고시하는 비율(현행 60%)을 우선공급하고 있으며, 이후 남은 물량은 「주택공급에 관한 규칙」 제4조제1항제3호 가목에 따라 해당 주택 건설지역에 거주하지 않는 자도 공급대상에 포함하여 공급하고 있습니다.\n",
      "\n",
      "--------------------------------------------------\n",
      "행정중심복합도시 주택 공급 비율\n",
      "7\n",
      "==================================================\n",
      "[6]\n",
      "질문: 「주택공급에 관한 규칙」 제34조에 따른 대규모택지개발지구에서 주택이 공급되는 경우 일반공급 뿐만 아니라 특별공급 물량도 공급비율에 따라 배정되는지?\n",
      "답변: 공급규칙 제34조가 적용되는 지역에 주택을 공급하는 경우 특별공급 물량 또한 그 공급 비율에 따라 배정하여야 합니다. (예) 서울특별시·인천광역시 대규모 택지개발지구에서 공급되는 주택: 특별시·광역시 거주자(거주기간 충족 필요)에게 공급물량의 50% 우선공급 → 이후 잔여물량을 전체 수도권 거주자를 대상으로 공급 (예) 경기도 과천시 대규모 택지개발지구에서 공급되는 주택: 과천시 거주자(거주기간 충족 필요)에게 공급물량의 30% 우선공급 → 이후 과천시 공급 잔여물량 + 20% 경기도 거주자(거주기간 충족 필요)에게 공급 → 이후 잔여물량을 전체 수도권 거주자를 대상으로 공급 다만, 다자녀 특별공급의 경우 「다자녀가구 및 노부모부양 주택 특별공급 운용지침」 제5조 단서에 따라 수도권에서 입주자를 모집하는 때에는 해당 주택건설지역 시·군·구가 속한 시·도에 50퍼센트를 우선공급하고 나머지 주택(우선공급에서 미분양된 주택을 포함한다)은 수도권 거주자(우선공급에서 입주자로 선정되지 아니한 자를 포함한다)에게 공급할수 있습니다. (예) 경기도 과천시: 경기도 거주자에게 공급물량의 50%를 우선공급하나, 경기도 내에서 경쟁이 발생한 경우 과천시 거주자(거주기간 충족 필요)에게 우선 공급하고 남은 물량이 발생하는 경우 경기도 거주자에게 공급 → 이후 잔여물량을 수도권 전체 거주자를 대상으로 공급\n",
      "\n",
      "--------------------------------------------------\n",
      "대규모택지개발지구 주택공급\n",
      "6\n",
      "==================================================\n"
     ]
    }
   ],
   "source": [
    "retriever = vector_store.as_retriever(\n",
    "    search_kwargs={\"filter\": {\"keyword\": {\"$ne\": \"해당 주택건설지역\"}}},\n",
    ")\n",
    "\n",
    "query = \"수원시의 주택건설지역은 어디에 해당하나요?\"\n",
    "\n",
    "results = retriever.invoke(query)\n",
    "for result in results:\n",
    "    print(result.page_content)\n",
    "    print(\"-\" * 50)\n",
    "    print(result.metadata['keyword'])\n",
    "    print(result.metadata['question_id'])\n",
    "    print(\"=\" * 50)"
   ]
  },
  {
   "cell_type": "markdown",
   "metadata": {},
   "source": [
    "- $in (Includes) 연산자 사용 - 특정 값이 포함된 문서 검색"
   ]
  },
  {
   "cell_type": "code",
   "execution_count": 43,
   "metadata": {},
   "outputs": [
    {
     "name": "stdout",
     "output_type": "stream",
     "text": [
      "[1]\n",
      "질문: 경기도 과천시에서 공급되는 주택의 해당 주택건설지역의 범위는?\n",
      "답변: 해당 주택건설지역이란 특별시ㆍ광역시ㆍ특별자치시ㆍ특별자치도(관할 구역 안에 지방자치단체인 시ㆍ군이 없는 특별자치도를 말한다) 또는 시ㆍ군의 행정구역을 말합니다. 따라서, 경기도 과천시에서 공급하는 주택의 경우 과천시가 해당 주택건설지역에 해당됩니다. 참고로, 서울특별시에서 공급되는 주택의 경우 서울특별시 전역, 인천광역시의 경우 인천광역시 전역이 해당 주택건설지역에 해당됩니다.\n",
      "\n",
      "--------------------------------------------------\n",
      "해당 주택건설지역\n",
      "1\n",
      "==================================================\n",
      "[39]\n",
      "질문: 인천광역시 거주자로 청약예금 400만원(전용면적 102㎡ 이하)에 가입한 자가 입주자 모집공고일 전 서울시로 이주한 경우 102㎡ 이하의 주택에 청약하려면?\n",
      "답변: 서울의 경우 전용면적 102㎡ 이하 주택에 청약할 수 있는 예치금액은 600만원이기 때문에 청약접수 당일까지 부족금액인 200만원을 추가로 예치하여야만 102㎡ 이하의 주택에 청약이 가능\n",
      "\n",
      "--------------------------------------------------\n",
      "청약예금\n",
      "39\n",
      "==================================================\n"
     ]
    }
   ],
   "source": [
    "# $in 연산자로 여러 값 중 일치하는 문서 검색\n",
    "\n",
    "retriever = vector_store.as_retriever(\n",
    "    search_kwargs={\"filter\": {\"keyword\": {\"$in\": [\"해당 주택건설지역\", \"청약예금\"]}}},\n",
    ")\n",
    "\n",
    "query = \"수원시의 주택건설지역은 어디에 해당하나요?\"\n",
    "\n",
    "results = retriever.invoke(query)\n",
    "for result in results:\n",
    "    print(result.page_content)\n",
    "    print(\"-\" * 50)\n",
    "    print(result.metadata['keyword'])\n",
    "    print(result.metadata['question_id'])\n",
    "    print(\"=\" * 50)"
   ]
  },
  {
   "cell_type": "markdown",
   "metadata": {},
   "source": [
    "- 숫자 범위 검색 $gt, $lt, $gte, $lte"
   ]
  },
  {
   "cell_type": "code",
   "execution_count": 44,
   "metadata": {},
   "outputs": [
    {
     "name": "stdout",
     "output_type": "stream",
     "text": [
      "[50]\n",
      "질문: 무주택자인 아내가 유주택자인 남편과 주민등록표상 분리되어 친정부모의 세대별 주민등록표에 등재되어 있는 경우, 무주택자인 친정부모는 무주택세대구성원 자격이 인정되는지?\n",
      "답변: 친정부모의 세대원 범위에 세대분리된 직계비속의 배우자(사위)는 포함되지 않으므로 사위가 주택을 소유하고 있다 하더라도 무주택세대구성원으로 인정됩니다.\n",
      "\n",
      "--------------------------------------------------\n",
      "무주택세대구성원\n",
      "50\n",
      "==================================================\n",
      "[47]\n",
      "질문: 무주택세대구성원이란?\n",
      "답변: 무주택세대구성원이란 청약신청자 및 세대원 전원이 주택을 소유하고 있지 않은 세대의 구성원(세대주 포함)을 말합니다.\n",
      "\n",
      "--------------------------------------------------\n",
      "무주택세대구성원\n",
      "47\n",
      "==================================================\n",
      "[31]\n",
      "질문: 청년주택드림청약통장의 소득공제 혜택은 기존 주택청약종합저축과 동일한가요?\n",
      "답변: 현재 주택청약종합저축에서 제공하는 소득공제 조건(조세특례제한법 제87조)을 그대로 적용받게 되며, 연소득 7천만원 이하 무주택세대주로 무주택확인서를 제출하는 경우 연간 납입액 300만원 한도로 40%까지 소득공제가 가능합니다.\n",
      "\n",
      "--------------------------------------------------\n",
      "소득공제\n",
      "31\n",
      "==================================================\n",
      "[36]\n",
      "질문: 청년주택드림청약통장 가입(혹은 전환신규) 당시 무주택자 였는데 이후 주택을 소유하게 된 경우 우대이율 및 비과세 적용을 받을 수 있나요?\n",
      "답변: 청년주택드림통장의 우대이율요건과 비과세 요건은 동일하지 않습니다. 비과세 요건 중 ‘주택을 소유하지 않은 세대의 세대주’ 자격은 가입 당시 기준입니다. 따라서 이후 주택을 소유하더라도 비과세 적용 가능합니다. 다만, 우대이율의 경우 최초로 주택을 소유하게 된 년도의 직전년도 말까지만 우대이율을 적용받습니다. * 예시) ’21년에 가입 후 ’23년에 주택 구입 시 : ’22년 말까지 우대이율 적용\n",
      "\n",
      "--------------------------------------------------\n",
      "청년주택드림통장 우대이율 및 비과세 요건\n",
      "36\n",
      "==================================================\n"
     ]
    }
   ],
   "source": [
    "retriever = vector_store.as_retriever(\n",
    "    search_kwargs={\"filter\": {\"question_id\": {\"$gte\": 10}}},\n",
    ")\n",
    "\n",
    "query = \"무주택자 기준은 무엇인가요?\"\n",
    "\n",
    "results = retriever.invoke(query)\n",
    "for result in results:\n",
    "    print(result.page_content)\n",
    "    print(\"-\" * 50)\n",
    "    print(result.metadata['keyword'])\n",
    "    print(result.metadata['question_id'])\n",
    "    print(\"=\" * 50)"
   ]
  },
  {
   "cell_type": "markdown",
   "metadata": {},
   "source": [
    "- $and 연산자 사용 - 여러 조건을 모두 만족하는 문서 검색"
   ]
  },
  {
   "cell_type": "code",
   "execution_count": 46,
   "metadata": {},
   "outputs": [
    {
     "name": "stdout",
     "output_type": "stream",
     "text": [
      "[1]\n",
      "질문: 경기도 과천시에서 공급되는 주택의 해당 주택건설지역의 범위는?\n",
      "답변: 해당 주택건설지역이란 특별시ㆍ광역시ㆍ특별자치시ㆍ특별자치도(관할 구역 안에 지방자치단체인 시ㆍ군이 없는 특별자치도를 말한다) 또는 시ㆍ군의 행정구역을 말합니다. 따라서, 경기도 과천시에서 공급하는 주택의 경우 과천시가 해당 주택건설지역에 해당됩니다. 참고로, 서울특별시에서 공급되는 주택의 경우 서울특별시 전역, 인천광역시의 경우 인천광역시 전역이 해당 주택건설지역에 해당됩니다.\n",
      "\n",
      "--------------------------------------------------\n",
      "해당 주택건설지역\n",
      "1\n",
      "==================================================\n"
     ]
    }
   ],
   "source": [
    "# $and로 여러 조건 조합 - keyword가 \"주택건설지역\"이고 question_id가 10 미만인 문서 검색\n",
    "\n",
    "retriever = vector_store.as_retriever(\n",
    "    search_kwargs={\"filter\": {\"$and\": [\n",
    "        {\"keyword\": \"해당 주택건설지역\"}, \n",
    "        {\"question_id\": {\"$lt\": 10}}\n",
    "    ]}},\n",
    ")\n",
    "\n",
    "query = \"수원시의 주택건설지역은 어디에 해당하나요?\"\n",
    "\n",
    "results = retriever.invoke(query)\n",
    "for result in results:\n",
    "    print(result.page_content)\n",
    "    print(\"-\" * 50)\n",
    "    print(result.metadata['keyword'])\n",
    "    print(result.metadata['question_id'])\n",
    "    print(\"=\" * 50)"
   ]
  },
  {
   "cell_type": "markdown",
   "metadata": {},
   "source": [
    "- $or 연산자로 여러 조건 중 하나라도 일치하는 문서 검색"
   ]
  },
  {
   "cell_type": "code",
   "execution_count": 47,
   "metadata": {},
   "outputs": [
    {
     "name": "stdout",
     "output_type": "stream",
     "text": [
      "[1]\n",
      "질문: 경기도 과천시에서 공급되는 주택의 해당 주택건설지역의 범위는?\n",
      "답변: 해당 주택건설지역이란 특별시ㆍ광역시ㆍ특별자치시ㆍ특별자치도(관할 구역 안에 지방자치단체인 시ㆍ군이 없는 특별자치도를 말한다) 또는 시ㆍ군의 행정구역을 말합니다. 따라서, 경기도 과천시에서 공급하는 주택의 경우 과천시가 해당 주택건설지역에 해당됩니다. 참고로, 서울특별시에서 공급되는 주택의 경우 서울특별시 전역, 인천광역시의 경우 인천광역시 전역이 해당 주택건설지역에 해당됩니다.\n",
      "\n",
      "--------------------------------------------------\n",
      "해당 주택건설지역\n",
      "1\n",
      "==================================================\n",
      "[47]\n",
      "질문: 무주택세대구성원이란?\n",
      "답변: 무주택세대구성원이란 청약신청자 및 세대원 전원이 주택을 소유하고 있지 않은 세대의 구성원(세대주 포함)을 말합니다.\n",
      "\n",
      "--------------------------------------------------\n",
      "무주택세대구성원\n",
      "47\n",
      "==================================================\n",
      "[50]\n",
      "질문: 무주택자인 아내가 유주택자인 남편과 주민등록표상 분리되어 친정부모의 세대별 주민등록표에 등재되어 있는 경우, 무주택자인 친정부모는 무주택세대구성원 자격이 인정되는지?\n",
      "답변: 친정부모의 세대원 범위에 세대분리된 직계비속의 배우자(사위)는 포함되지 않으므로 사위가 주택을 소유하고 있다 하더라도 무주택세대구성원으로 인정됩니다.\n",
      "\n",
      "--------------------------------------------------\n",
      "무주택세대구성원\n",
      "50\n",
      "==================================================\n",
      "[38]\n",
      "질문: 주민등록 거주지가 인천시인 청약신청자가 서울에서 분양하는 전용면적 85㎡이하의 민영주택을 청약코자 할 때 예치기준금액은?\n",
      "답변: 주택공급에 관한 규칙 [별표2]에서 민영주택 청약 예치기준금액을 규정하고 있으며, 지역은 입주자모집공고일 현재 청약신청자의 주민등록표등초본상 거주지 기준, 예치 기준금액은 청약하고자 하는 주택의 평형을 기준으로 결정하여야 함. 따라서, 청약자가 인천시(그 밖의 광역시)에 거주하고 있고, 85㎡ 이하의 평형에 청약하는 경우 예치 기준금액은 250만원입니다. 민영주택 청약 예치기준금액 (제10조제1항 관련) (단위 : 만원) 지역 특별시 및 특별시 및 광역시를 공급받을 수 있는 그 밖의 광역시 주택의 전용면적 부산광역시 제외한 지역 85㎡ 이하 300 250 200 102㎡ 이하 600 400 300 135㎡ 이하 1,000 700 400 모든 면적 1,500 1,000 500 비고: “지역”은 입주자모집공고일 현재 주택공급신청자의 주민등록표에 따른 거주지역을 말한다\n",
      "\n",
      "--------------------------------------------------\n",
      "민영주택 청약 예치기준금액\n",
      "38\n",
      "==================================================\n"
     ]
    }
   ],
   "source": [
    "# $or로 여러 조건 중 하나 일치하는 문서 검색 - keyword가 \"주택건설지역\"이거나 question_id가 10 이상인 문서 검색\n",
    "\n",
    "retriever = vector_store.as_retriever(\n",
    "    search_kwargs={\"filter\": {\"$or\": [\n",
    "        {\"keyword\": \"해당 주택건설지역\"}, \n",
    "        {\"question_id\": {\"$gte\": 10}}\n",
    "    ]}},\n",
    ")\n",
    "\n",
    "query = \"수원시의 주택건설지역은 어디에 해당하나요?\"\n",
    "\n",
    "results = retriever.invoke(query)\n",
    "for result in results:\n",
    "    print(result.page_content)\n",
    "    print(\"-\" * 50)\n",
    "    print(result.metadata['keyword'])\n",
    "    print(result.metadata['question_id'])\n",
    "    print(\"=\" * 50)"
   ]
  },
  {
   "cell_type": "code",
   "execution_count": 48,
   "metadata": {},
   "outputs": [
    {
     "name": "stdout",
     "output_type": "stream",
     "text": [
      "[1]\n",
      "질문: 경기도 과천시에서 공급되는 주택의 해당 주택건설지역의 범위는?\n",
      "답변: 해당 주택건설지역이란 특별시ㆍ광역시ㆍ특별자치시ㆍ특별자치도(관할 구역 안에 지방자치단체인 시ㆍ군이 없는 특별자치도를 말한다) 또는 시ㆍ군의 행정구역을 말합니다. 따라서, 경기도 과천시에서 공급하는 주택의 경우 과천시가 해당 주택건설지역에 해당됩니다. 참고로, 서울특별시에서 공급되는 주택의 경우 서울특별시 전역, 인천광역시의 경우 인천광역시 전역이 해당 주택건설지역에 해당됩니다.\n",
      "\n",
      "--------------------------------------------------\n",
      "해당 주택건설지역\n",
      "1\n",
      "==================================================\n",
      "[2]\n",
      "질문: 해당 주택건설지역에 거주하고 있지 않다면 청약신청이 불가능한지?\n",
      "답변: 해당 주택건설지역에 거주하고 있지 않더라도 청약가능지역에서 공급되는 주택에 청약신청이 가능하나, 같은 순위에서는 해당 주택건설지역의 거주자가 우선하여 주택을 공급받게 됩니다. * 서울·인천·경기도 / 대전·세종·충남 / 충북 / 광주·전남 / 전북 / 대구·경북 / 부산·울산·경남 / 강원 다만, 수도권 대규모 택지개발지구 등에서 주택이 공급되는 경우 일정 비율의 주택에 대해서는 해당 주택건설지역 거주자와 동등한 자격으로 주택을 공급받을 기회를 가지게 됩니다.\n",
      "\n",
      "--------------------------------------------------\n",
      "청약신청\n",
      "2\n",
      "==================================================\n",
      "[7]\n",
      "질문: 행정중심복합도시예정지역에서 공급하는 주택의 경우 공급비율 및 대상은?\n",
      "답변: 행정중심복합도시 예정지역에서 공급하는 주택의 경우 「주택공급에 관한 규칙」 제34조에 따라 해당 주택건설지역 거주자에게 행정중심복합도시건설청장이 정하여 고시하는 비율(현행 60%)을 우선공급하고 있으며, 이후 남은 물량은 「주택공급에 관한 규칙」 제4조제1항제3호 가목에 따라 해당 주택 건설지역에 거주하지 않는 자도 공급대상에 포함하여 공급하고 있습니다.\n",
      "\n",
      "--------------------------------------------------\n",
      "행정중심복합도시 주택 공급 비율\n",
      "7\n",
      "==================================================\n",
      "[6]\n",
      "질문: 「주택공급에 관한 규칙」 제34조에 따른 대규모택지개발지구에서 주택이 공급되는 경우 일반공급 뿐만 아니라 특별공급 물량도 공급비율에 따라 배정되는지?\n",
      "답변: 공급규칙 제34조가 적용되는 지역에 주택을 공급하는 경우 특별공급 물량 또한 그 공급 비율에 따라 배정하여야 합니다. (예) 서울특별시·인천광역시 대규모 택지개발지구에서 공급되는 주택: 특별시·광역시 거주자(거주기간 충족 필요)에게 공급물량의 50% 우선공급 → 이후 잔여물량을 전체 수도권 거주자를 대상으로 공급 (예) 경기도 과천시 대규모 택지개발지구에서 공급되는 주택: 과천시 거주자(거주기간 충족 필요)에게 공급물량의 30% 우선공급 → 이후 과천시 공급 잔여물량 + 20% 경기도 거주자(거주기간 충족 필요)에게 공급 → 이후 잔여물량을 전체 수도권 거주자를 대상으로 공급 다만, 다자녀 특별공급의 경우 「다자녀가구 및 노부모부양 주택 특별공급 운용지침」 제5조 단서에 따라 수도권에서 입주자를 모집하는 때에는 해당 주택건설지역 시·군·구가 속한 시·도에 50퍼센트를 우선공급하고 나머지 주택(우선공급에서 미분양된 주택을 포함한다)은 수도권 거주자(우선공급에서 입주자로 선정되지 아니한 자를 포함한다)에게 공급할수 있습니다. (예) 경기도 과천시: 경기도 거주자에게 공급물량의 50%를 우선공급하나, 경기도 내에서 경쟁이 발생한 경우 과천시 거주자(거주기간 충족 필요)에게 우선 공급하고 남은 물량이 발생하는 경우 경기도 거주자에게 공급 → 이후 잔여물량을 수도권 전체 거주자를 대상으로 공급\n",
      "\n",
      "--------------------------------------------------\n",
      "대규모택지개발지구 주택공급\n",
      "6\n",
      "==================================================\n"
     ]
    }
   ],
   "source": [
    "# 정규식 패턴 매칭 - page_content 본문에 \"주택건설지역\"이 포함된 문서 검색\n",
    "\n",
    "retriever = vector_store.as_retriever(\n",
    "    search_kwargs={'where_document': {'$contains': '해당 주택건설지역'}},\n",
    ")\n",
    "\n",
    "query = \"수원시의 주택건설지역은 어디에 해당하나요?\"\n",
    "\n",
    "results = retriever.invoke(query)\n",
    "for result in results:\n",
    "    print(result.page_content)\n",
    "    print(\"-\" * 50)\n",
    "    print(result.metadata['keyword'])\n",
    "    print(result.metadata['question_id'])\n",
    "    print(\"=\" * 50)"
   ]
  },
  {
   "cell_type": "markdown",
   "metadata": {},
   "source": [
    "##### ***[실습] 메타데이터 필터링 조건을 적용하는 실습을 수행합니다..*** \n",
    "\n",
    "- 요약 문서 벡터 스토어 기반 MMR 검색기에 적용 "
   ]
  },
  {
   "cell_type": "code",
   "execution_count": 49,
   "metadata": {},
   "outputs": [
    {
     "name": "stdout",
     "output_type": "stream",
     "text": [
      "[47]\n",
      "질문: 무주택세대구성원이란?\n",
      "답변: 무주택세대구성원이란 청약신청자 및 세대원 전원이 주택을 소유하고 있지 않은 세대의 구성원(세대주 포함)을 말합니다.\n",
      "\n",
      "--------------------------------------------------\n",
      "무주택세대구성원\n",
      "47\n",
      "무주택세대구성원이란?\n",
      "무주택세대구성원이란 청약신청자 및 세대원 전원이 주택을 소유하고 있지 않은 세대의 구성원(세대주 포함)을 말합니다.\n",
      "==================================================\n",
      "[38]\n",
      "질문: 주민등록 거주지가 인천시인 청약신청자가 서울에서 분양하는 전용면적 85㎡이하의 민영주택을 청약코자 할 때 예치기준금액은?\n",
      "답변: 주택공급에 관한 규칙 [별표2]에서 민영주택 청약 예치기준금액을 규정하고 있으며, 지역은 입주자모집공고일 현재 청약신청자의 주민등록표등초본상 거주지 기준, 예치 기준금액은 청약하고자 하는 주택의 평형을 기준으로 결정하여야 함. 따라서, 청약자가 인천시(그 밖의 광역시)에 거주하고 있고, 85㎡ 이하의 평형에 청약하는 경우 예치 기준금액은 250만원입니다. 민영주택 청약 예치기준금액 (제10조제1항 관련) (단위 : 만원) 지역 특별시 및 특별시 및 광역시를 공급받을 수 있는 그 밖의 광역시 주택의 전용면적 부산광역시 제외한 지역 85㎡ 이하 300 250 200 102㎡ 이하 600 400 300 135㎡ 이하 1,000 700 400 모든 면적 1,500 1,000 500 비고: “지역”은 입주자모집공고일 현재 주택공급신청자의 주민등록표에 따른 거주지역을 말한다\n",
      "\n",
      "--------------------------------------------------\n",
      "민영주택 청약 예치기준금액\n",
      "38\n",
      "주민등록 거주지가 인천시인 청약신청자가 서울에서 분양하는 전용면적 85㎡이하의 민영주택을 청약코자 할 때 예치기준금액은?\n",
      "주택공급에 관한 규칙 [별표2]에서 민영주택 청약 예치기준금액을 규정하고 있으며, 지역은 입주자모집공고일 현재 청약신청자의 주민등록표등초본상 거주지 기준, 예치 기준금액은 청약하고자 하는 주택의 평형을 기준으로 결정하여야 함. 따라서, 청약자가 인천시(그 밖의 광역시)에 거주하고 있고, 85㎡ 이하의 평형에 청약하는 경우 예치 기준금액은 250만원입니다. 민영주택 청약 예치기준금액 (제10조제1항 관련) (단위 : 만원) 지역 특별시 및 특별시 및 광역시를 공급받을 수 있는 그 밖의 광역시 주택의 전용면적 부산광역시 제외한 지역 85㎡ 이하 300 250 200 102㎡ 이하 600 400 300 135㎡ 이하 1,000 700 400 모든 면적 1,500 1,000 500 비고: “지역”은 입주자모집공고일 현재 주택공급신청자의 주민등록표에 따른 거주지역을 말한다\n",
      "==================================================\n",
      "[36]\n",
      "질문: 청년주택드림청약통장 가입(혹은 전환신규) 당시 무주택자 였는데 이후 주택을 소유하게 된 경우 우대이율 및 비과세 적용을 받을 수 있나요?\n",
      "답변: 청년주택드림통장의 우대이율요건과 비과세 요건은 동일하지 않습니다. 비과세 요건 중 ‘주택을 소유하지 않은 세대의 세대주’ 자격은 가입 당시 기준입니다. 따라서 이후 주택을 소유하더라도 비과세 적용 가능합니다. 다만, 우대이율의 경우 최초로 주택을 소유하게 된 년도의 직전년도 말까지만 우대이율을 적용받습니다. * 예시) ’21년에 가입 후 ’23년에 주택 구입 시 : ’22년 말까지 우대이율 적용\n",
      "\n",
      "--------------------------------------------------\n",
      "청년주택드림통장 우대이율 및 비과세 요건\n",
      "36\n",
      "청년주택드림청약통장 가입(혹은 전환신규) 당시 무주택자 였는데 이후 주택을 소유하게 된 경우 우대이율 및 비과세 적용을 받을 수 있나요?\n",
      "청년주택드림통장의 우대이율요건과 비과세 요건은 동일하지 않습니다. 비과세 요건 중 ‘주택을 소유하지 않은 세대의 세대주’ 자격은 가입 당시 기준입니다. 따라서 이후 주택을 소유하더라도 비과세 적용 가능합니다. 다만, 우대이율의 경우 최초로 주택을 소유하게 된 년도의 직전년도 말까지만 우대이율을 적용받습니다. * 예시) ’21년에 가입 후 ’23년에 주택 구입 시 : ’22년 말까지 우대이율 적용\n",
      "==================================================\n"
     ]
    }
   ],
   "source": [
    "# 여기에 코드를 작성하세요.\n",
    "\n",
    "mmr_retriever = vector_store.as_retriever(\n",
    "    search_type=\"mmr\",\n",
    "    search_kwargs={\"k\": 3, \n",
    "                   \"fetch_k\": 8, \n",
    "                   \"lambda_mult\": 0.5,\n",
    "                   \"filter\": {\"question_id\": {\"$gte\": 10}}\n",
    "                   }\n",
    ")\n",
    "\n",
    "# 테스트 질문\n",
    "query = \"수원시의 주택건설지역은 어디에 해당하나요?\"\n",
    "\n",
    "results = mmr_retriever.invoke(query)\n",
    "for result in results:\n",
    "    print(result.page_content)\n",
    "    print(\"-\" * 50)\n",
    "    print(result.metadata['keyword'])\n",
    "    print(result.metadata['question_id'])\n",
    "    print(result.metadata['question'])\n",
    "    print(result.metadata['answer'])\n",
    "    print(\"=\" * 50)"
   ]
  },
  {
   "cell_type": "code",
   "execution_count": 57,
   "metadata": {},
   "outputs": [
    {
     "name": "stdout",
     "output_type": "stream",
     "text": [
      "키워드: 주택건설지역\n",
      "키워드 표현식: $eq\n",
      "질문 ID: None\n",
      "질문 ID 표현식: $lte\n"
     ]
    }
   ],
   "source": [
    "from langchain_core.prompts import ChatPromptTemplate\n",
    "from pydantic import BaseModel, Field\n",
    "from typing import Optional\n",
    "\n",
    "class MetadataFilter(BaseModel):\n",
    "    keyword: Optional[str] = Field(description=\"검색할 키워드\")\n",
    "    keyword_expression: Optional[str] = Field(description=\"키워드 검색 표현식\")\n",
    "    lower_question_id: Optional[int] = Field(description=\"질문 ID 최소값($gt, $gte)\")\n",
    "    upper_question_id: Optional[int] = Field(description=\"질문 ID 최대값($lt, $lte)\")\n",
    "    question_id_expression: Optional[str] = Field(description=\"질문 ID 검색 표현식\")\n",
    "\n",
    "\n",
    "system_prompt = \"\"\"사용자 쿼리에서 키워드와 질문 ID 정보를 추출하여 Chroma DB 검색 필터를 생성한다.\n",
    "다음 예시를 참조한다:\n",
    "\n",
    "1. 키워드 검색 예시:\n",
    "- 입력: \"주택건설 관련 문서 찾아줘\"\n",
    "출력:\n",
    "keyword: \"주택건설\"\n",
    "keyword_expression: \"$eq\"\n",
    "\n",
    "2. 질문 ID 검색 예시:\n",
    "- 입력: \"질문 ID 10번 이상인 문서\"\n",
    "출력:\n",
    "lower_question_id: 10\n",
    "question_id_expression: \"$gte\"\n",
    "\n",
    "3. 복합 검색 예시:\n",
    "- 입력: \"주택건설 키워드가 있으면서 질문 ID가 5번에서 15번 사이인 문서\"\n",
    "출력:\n",
    "keyword: \"주택건설\"\n",
    "keyword_expression: \"$eq\"\n",
    "lower_question_id: 5 \n",
    "lower_question_id_expression: \"$gte\"\n",
    "upper_question_id: 15\n",
    "upper_question_id_expression: \"$lte\"\n",
    "\n",
    "검색 표현식은 다음과 같이 사용한다:\n",
    "- 동등 비교: $eq\n",
    "- 크거나 같음: $gte\n",
    "- 작거나 같음: $lte\n",
    "- 범위 검색: $gt, $lt\n",
    "\n",
    "요청에 해당 정보가 없는 경우 해당 필드는 null로 반환한다.\n",
    "\"\"\"\n",
    "\n",
    "prompt = ChatPromptTemplate.from_messages([\n",
    "    (\"system\", system_prompt),\n",
    "    (\"human\", \"{query}\")\n",
    "])\n",
    "\n",
    "# 구조화된 출력을 위한 체인 생성\n",
    "model_with_structure = llm.with_structured_output(MetadataFilter)\n",
    "metadata_chain = prompt | model_with_structure\n",
    "\n",
    "# 사용 예시\n",
    "query = \"해당 주택건설지역 관련 문서를 10번 이하인 문서중에서 검색해주세요\"\n",
    "filter_params = metadata_chain.invoke({\"query\": query})\n",
    "\n",
    "print(f\"키워드: {filter_params.keyword}\")\n",
    "print(f\"키워드 표현식: {filter_params.keyword_expression}\")\n",
    "print(f\"질문 ID: {filter_params.lower_question_id}\")\n",
    "print(f\"질문 ID 표현식: {filter_params.question_id_expression}\")"
   ]
  },
  {
   "cell_type": "code",
   "execution_count": 51,
   "metadata": {},
   "outputs": [],
   "source": [
    "# 메타데이터 필터 생성\n",
    "filter_dict = {}\n",
    "\n",
    "if filter_params.keyword and filter_params.question_id:\n",
    "    # 두 조건 모두 있는 경우 AND 연산자 사용\n",
    "    filter_dict = {\n",
    "        \"$and\": [\n",
    "            {\"keyword\": {filter_params.keyword_expression: filter_params.keyword}},\n",
    "            {\"question_id\": {filter_params.question_id_expression: filter_params.question_id}}\n",
    "        ]\n",
    "    }\n",
    "elif filter_params.keyword:\n",
    "    # 키워드 조건만 있는 경우\n",
    "    filter_dict = {\"keyword\": {filter_params.keyword_expression: filter_params.keyword}}\n",
    "elif filter_params.question_id:\n",
    "    # 질문 ID 조건만 있는 경우\n",
    "    filter_dict = {\"question_id\": {filter_params.question_id_expression: filter_params.question_id}}\n",
    "\n",
    "# retriever에 필터 적용 \n",
    "retriever = vector_store.as_retriever(\n",
    "    search_kwargs={\"filter\": filter_dict} if filter_dict else {}\n",
    ")\n",
    "\n",
    "# 검색 실행\n",
    "query = \"주택건설지역 관련 문서를 질문 ID 10번 이하인 문서중에서 검색해주세요\"\n",
    "\n",
    "results = retriever.invoke(query)\n",
    "for result in results:\n",
    "    print(result.page_content)\n",
    "    print(\"-\" * 50)\n",
    "    print(result.metadata['keyword'])\n",
    "    print(result.metadata['question_id'])\n",
    "    print(\"=\" * 50)"
   ]
  },
  {
   "cell_type": "code",
   "execution_count": null,
   "metadata": {},
   "outputs": [
    {
     "name": "stdout",
     "output_type": "stream",
     "text": [
      "{'$and': [{'keyword': {'$eq': '주택건설지역'}}, {'question_id': {'$lte': 10}}]}\n"
     ]
    }
   ],
   "source": [
    "from langchain_core.prompts import ChatPromptTemplate\n",
    "from langchain_core.runnables import chain\n",
    "from pydantic import BaseModel, Field\n",
    "from typing import Optional, Dict\n",
    "\n",
    "\n",
    "class MetadataFilter(BaseModel):\n",
    "    keyword: Optional[str] = Field(description=\"검색할 키워드\")\n",
    "    keyword_expression: Optional[str] = Field(description=\"키워드 검색 표현식\")\n",
    "    question_id: Optional[int] = Field(description=\"질문 ID\")\n",
    "    question_id_expression: Optional[str] = Field(description=\"질문 ID 검색 표현식\")\n",
    "\n",
    "\n",
    "def create_metadata_filter(query: str, llm) -> Dict:\n",
    "    \"\"\"\n",
    "    사용자 쿼리를 분석하여 Chroma DB 검색을 위한 메타데이터 필터를 생성합니다.\n",
    "\n",
    "    Args:\n",
    "        query: 사용자 검색 쿼리.\n",
    "        llm: 사용할 언어 모델.\n",
    "\n",
    "    Returns:\n",
    "        Chroma DB 검색에 사용할 수 있는 필터 딕셔너리.\n",
    "    \"\"\"\n",
    "    system_prompt = \"\"\"사용자 쿼리에서 키워드와 질문 ID 정보를 추출하여 Chroma DB 검색 필터를 생성한다.\n",
    "    다음 예시를 참조한다:\n",
    "\n",
    "    1. 키워드 검색 예시:\n",
    "    - 입력: \"주택건설 관련 문서 찾아줘\"\n",
    "    출력:\n",
    "   {{keyword: \"주택건설\",keyword_expression: \"$eq\"}}\n",
    "    \n",
    "    2. 질문 ID 검색 예시:\n",
    "    - 입력: \"질문 ID 10번 이상인 문서\"\n",
    "    출력:\n",
    "    \n",
    "    question_id: 10\n",
    "    question_id_expression: \"$gte\"\n",
    "\n",
    "    3. 복합 검색 예시:\n",
    "    - 입력: \"주택건설 키워드가 있으면서 질문 ID가 5번에서 15번 사이인 문서\"\n",
    "    출력:\n",
    "    keyword: \"주택건설\"\n",
    "    keyword_expression: \"$eq\"\n",
    "    question_id: 5\n",
    "    question_id_expression: \"$gte\"\n",
    "\n",
    "    검색 표현식은 다음과 같이 사용한다:\n",
    "    - 동등 비교: $eq\n",
    "    - 크거나 같음: $gte\n",
    "    - 작거나 같음: $lte\n",
    "    - 범위 검색: $gt, $lt\n",
    "\n",
    "    \"\"\"\n",
    "    prompt = ChatPromptTemplate.from_messages([\n",
    "        (\"system\", system_prompt),\n",
    "        (\"human\", \"{query}\")\n",
    "    ])\n",
    "\n",
    "    model_with_structure = llm.with_structured_output(MetadataFilter)\n",
    "    metadata_chain = prompt | model_with_structure\n",
    "\n",
    "    filter_params = metadata_chain.invoke({\"query\": query})\n",
    "\n",
    "    filter_dict = {}\n",
    "\n",
    "    if filter_params.keyword and filter_params.question_id:\n",
    "        filter_dict = {\n",
    "            \"$and\": [\n",
    "                {\"keyword\": {filter_params.keyword_expression: filter_params.keyword}},\n",
    "                {\"question_id\": {filter_params.question_id_expression: filter_params.question_id}}\n",
    "            ]\n",
    "        }\n",
    "    elif filter_params.keyword:\n",
    "        filter_dict = {\"keyword\": {filter_params.keyword_expression: filter_params.keyword}}\n",
    "    elif filter_params.question_id:\n",
    "        filter_dict = {\"question_id\": {filter_params.question_id_expression: filter_params.question_id}}\n",
    "\n",
    "    return filter_dict\n",
    "\n",
    "\n",
    "\n",
    "# 사용 예시 \n",
    "query = \"주택건설지역 관련 문서를 10번 이하인 문서중에서 검색해주세요\"\n",
    "\n",
    "@chain\n",
    "def metadata_filter_query(query: str):\n",
    "\n",
    "    llm = ChatOpenAI(\n",
    "        model='gpt-4.1-mini',\n",
    "        temperature=0.1,\n",
    "        top_p=0.9,\n",
    "    )\n",
    "\n",
    "    filter_dict = create_metadata_filter(query, llm)\n",
    "    print(filter_dict)\n",
    "\n",
    "    retriever = vector_store.as_retriever(\n",
    "            search_kwargs={\"filter\": filter_dict} if filter_dict else {}\n",
    "    )\n",
    "    results = retriever.invoke(query)\n",
    "\n",
    "    return results\n",
    "\n",
    "results = metadata_filter_query.invoke(query)\n",
    "\n",
    "for result in results:\n",
    "    print(result.page_content)\n",
    "    print(\"-\" * 50)\n",
    "    print(result.metadata['keyword'])\n",
    "    print(result.metadata['question_id'])\n",
    "    print(\"=\" * 50)"
   ]
  },
  {
   "cell_type": "code",
   "execution_count": 53,
   "metadata": {},
   "outputs": [
    {
     "name": "stdout",
     "output_type": "stream",
     "text": [
      "{'keyword': {'$eq': '청약통장'}}\n",
      "[43]\n",
      "질문: 청약통장이 압류 등으로 사용에 제한이 있거나, 청약통장 담보대출을 받고 있는 경우에도 해당 통장을 이용하여 당첨이 가능한지?\n",
      "답변: 압류 등의 상태라고 하더라도 청약통장이 해지되지 않고 유지 중이라면 청약신청이 가능합니다. 청약통장 담보대출을 받은 경우에도 청약신청이 가능합니다. 다만, 담보대출 연체 등으로 해당 은행에서 청약통장을 해지하고 담보대출 상환처리하는 경우 새로 청약통장을 가입하여 청약 신청해야 하는 점 유의하시길 바랍니다.\n",
      "\n",
      "--------------------------------------------------\n",
      "청약통장\n",
      "43\n",
      "==================================================\n"
     ]
    }
   ],
   "source": [
    "# 다른 쿼리\n",
    "query = \"청약통장에 대한 정보를 찾아주세요\"\n",
    "results = metadata_filter_query.invoke(query)\n",
    "\n",
    "for result in results:\n",
    "    print(result.page_content)\n",
    "    print(\"-\" * 50)\n",
    "    print(result.metadata['keyword'])\n",
    "    print(result.metadata['question_id'])\n",
    "    print(\"=\" * 50)"
   ]
  },
  {
   "cell_type": "markdown",
   "metadata": {},
   "source": [
    "##### ***[실습] 메타데이터 필터링 체인의 성능을 개선합니다.*** \n",
    "\n",
    "- (예시)\n",
    "    - 추가 예시 제공을 통해 필터링 적용 범위 확대\n",
    "    - 복합조건식 추출 기능을 추가 등"
   ]
  },
  {
   "cell_type": "code",
   "execution_count": null,
   "metadata": {},
   "outputs": [],
   "source": [
    "# 여기에 코드를 작성하세요."
   ]
  },
  {
   "cell_type": "markdown",
   "metadata": {},
   "source": [
    "# RAG Chain"
   ]
  },
  {
   "cell_type": "markdown",
   "metadata": {},
   "source": [
    "### 1) 참조 문서 없이 직접 답변을 생성"
   ]
  },
  {
   "cell_type": "code",
   "execution_count": 58,
   "metadata": {},
   "outputs": [
    {
     "data": {
      "text/plain": [
       "'수원시는 경기도에 속하는 시이므로, 수원시에서 공급되는 주택의 해당 주택건설지역은 수원시 행정구역 전체에 해당합니다.'"
      ]
     },
     "execution_count": 58,
     "metadata": {},
     "output_type": "execute_result"
    }
   ],
   "source": [
    "from langchain_core.prompts import ChatPromptTemplate\n",
    "from langchain_core.output_parsers import StrOutputParser\n",
    "from langchain_core.runnables import RunnablePassthrough\n",
    "\n",
    "# Prompt\n",
    "template = '''Answer the question based only on the following context.\n",
    "\n",
    "[Context]\n",
    "{context}\n",
    "\n",
    "[Question]\n",
    "{question}\n",
    "\n",
    "[Answer (in 한국어)]\n",
    "'''\n",
    "\n",
    "prompt = ChatPromptTemplate.from_template(template)\n",
    "\n",
    "\n",
    "# 문서 포맷팅\n",
    "def format_docs(docs):\n",
    "    return '\\n\\n'.join([d.page_content for d in docs])\n",
    "\n",
    "\n",
    "# 검색기 생성 - 유사도 기반 상위 3개 문서 검색\n",
    "retriever = vector_store.as_retriever(\n",
    "    search_kwargs={\"k\": 3},\n",
    ")\n",
    "\n",
    "\n",
    "# Chain 구성\n",
    "rag_chain = (\n",
    "    {'context': retriever | format_docs, 'question': RunnablePassthrough()}\n",
    "    | prompt\n",
    "    | llm\n",
    "    | StrOutputParser()\n",
    ")\n",
    "\n",
    "# Chain 실행\n",
    "query = \"수원시의 주택건설지역은 어디에 해당하나요?\"\n",
    "rag_chain.invoke(query)"
   ]
  },
  {
   "cell_type": "markdown",
   "metadata": {},
   "source": [
    "### 2) 참조 문서를 답변과 함께 반환"
   ]
  },
  {
   "cell_type": "markdown",
   "metadata": {},
   "source": [
    "`(1) 문서와 포맷팅된 컨텍스트를 함께 반환하는 함수`\n"
   ]
  },
  {
   "cell_type": "code",
   "execution_count": 65,
   "metadata": {},
   "outputs": [],
   "source": [
    "# 다음 코드를 완성하세요.\n",
    "\n",
    "from typing import Dict\n",
    "\n",
    "def get_context_and_docs(question: str) -> Dict:\n",
    "    \"\"\"문서와 포맷팅된 컨텍스트를 함께 반환\n",
    "    \n",
    "    Args:\n",
    "        question: 검색할 질문\n",
    "\n",
    "    Returns:\n",
    "        Dict: 문서와 포맷팅된 컨텍스트, 검색된 문서 리스트\n",
    "    \"\"\"\n",
    "\n",
    "    # 검색 결과 가져오기\n",
    "    docs = retriever.invoke(question)\n",
    "    return {\n",
    "        \"question\": question,  # 질문\n",
    "        \"context\": format_docs(docs),   # 문서 포맷팅된 컨텍스트\n",
    "        \"source_documents\": docs   # 검색된 문서 리스트\n",
    "    }"
   ]
  },
  {
   "cell_type": "markdown",
   "metadata": {},
   "source": [
    "`(2) 컨텍스트와 질문을 입력으로 받아 답변을 생성하는 함수`"
   ]
  },
  {
   "cell_type": "code",
   "execution_count": 66,
   "metadata": {},
   "outputs": [],
   "source": [
    "# 다음 코드를 완성하세요.\n",
    "\n",
    "from langchain_core.output_parsers import StrOutputParser\n",
    "\n",
    "def prompt_and_generate_answer(input_data: Dict) -> Dict:\n",
    "    \"\"\"컨텍스트와 질문을 입력으로 받아 답변을 생성\n",
    "\n",
    "    Args:\n",
    "        input_data (Dict): 컨텍스트와 질문이 포함된 딕셔너리\n",
    "\n",
    "    Returns:\n",
    "        Dict: 생성된 답변과 소스 문서 정보가 포함된 딕셔너리\n",
    "    \"\"\"\n",
    "\n",
    "    # LCEL 체인 구성 (StrOutputParser 사용)\n",
    "    answer_chain = prompt | llm | StrOutputParser()\n",
    "    answer = answer_chain.invoke(input_data)\n",
    "\n",
    "    return {\n",
    "        \"answer\": answer,  # 생성된 답변 (answer_chain 결과)\n",
    "        \"source_documents\": input_data[\"source_documents\"]  # 소스 문서 정보 (input_data에서 가져옴)\n",
    "    }"
   ]
  },
  {
   "cell_type": "markdown",
   "metadata": {},
   "source": [
    "`(3) RAG 체인 구성`"
   ]
  },
  {
   "cell_type": "code",
   "execution_count": 67,
   "metadata": {},
   "outputs": [],
   "source": [
    "# 다음 코드를 완성하세요.\n",
    "\n",
    "from langchain_core.runnables import RunnableLambda, RunnablePassthrough\n",
    "from operator import itemgetter\n",
    "\n",
    "# Chain 구성\n",
    "rag_chain = (\n",
    "    RunnableLambda(get_context_and_docs) |  # 문서와 컨텍스트 가져오기 \n",
    "    {\n",
    "        'response': RunnableLambda(prompt_and_generate_answer),  # 답변 생성\n",
    "        'question': itemgetter(\"question\"),\n",
    "        \"source_documents\": itemgetter(\"source_documents\")  # 소스 반환\n",
    "    }\n",
    ")"
   ]
  },
  {
   "cell_type": "code",
   "execution_count": 68,
   "metadata": {},
   "outputs": [
    {
     "name": "stdout",
     "output_type": "stream",
     "text": [
      "답변: 수원시는 경기도에 속하는 시이므로, 수원시에서 공급되는 주택의 해당 주택건설지역은 수원시 행정구역 전체에 해당합니다.\n",
      "\n",
      "참조 문서:\n",
      "\n",
      "문서 1:\n",
      "내용: [1]\n",
      "질문: 경기도 과천시에서 공급되는 주택의 해당 주택건설지역의 범위는?\n",
      "답변: 해당 주택건설지역이란 특별시ㆍ광역시ㆍ특별자치시ㆍ특별자치도(관할 구역 안에 지방자치단체인 시ㆍ군이 없는 특별자치도를 말한다) 또는 시ㆍ군의 행정구역을 말합니다. 따라서, 경기도 과천시에서 공급하는 주택의 경우 과천시가 해당 주택건설지역에 해당됩니다. 참고로, 서울특별시에서 공급되는 주택의 경우 서울특별시 전역, 인천광역시의 경우 인천광역시 전역이 해당 주택건설지역에 해당됩니다.\n",
      "\n",
      "\n",
      "문서 2:\n",
      "내용: [2]\n",
      "질문: 해당 주택건설지역에 거주하고 있지 않다면 청약신청이 불가능한지?\n",
      "답변: 해당 주택건설지역에 거주하고 있지 않더라도 청약가능지역에서 공급되는 주택에 청약신청이 가능하나, 같은 순위에서는 해당 주택건설지역의 거주자가 우선하여 주택을 공급받게 됩니다. * 서울·인천·경기도 / 대전·세종·충남 / 충북 / 광주·전남 / 전북 / 대구·경북 / 부산·울산·경남 / 강원 다만, 수도권 대규모 택지개발지구 등에서 주택이 공급되는 경우 일정 비율의 주택에 대해서는 해당 주택건설지역 거주자와 동등한 자격으로 주택을 공급받을 기회를 가지게 됩니다.\n",
      "\n",
      "\n",
      "문서 3:\n",
      "내용: [47]\n",
      "질문: 무주택세대구성원이란?\n",
      "답변: 무주택세대구성원이란 청약신청자 및 세대원 전원이 주택을 소유하고 있지 않은 세대의 구성원(세대주 포함)을 말합니다.\n",
      "\n"
     ]
    }
   ],
   "source": [
    "# Chain 실행\n",
    "query = \"수원시의 주택건설지역은 어디에 해당하나요?\"\n",
    "result = rag_chain.invoke(query)\n",
    "\n",
    "# 결과 출력\n",
    "print(\"답변:\", result[\"response\"][\"answer\"])\n",
    "print(\"\\n참조 문서:\")\n",
    "for i, doc in enumerate(result[\"source_documents\"], 1):\n",
    "    print(f\"\\n문서 {i}:\")\n",
    "    print(f\"내용: {doc.page_content}\")"
   ]
  },
  {
   "cell_type": "markdown",
   "metadata": {},
   "source": [
    "### 3) 검색 문서 관련성 평가"
   ]
  },
  {
   "cell_type": "markdown",
   "metadata": {},
   "source": [
    "`(1) 검색 문서와 질문 간의 관련성을 평가`\n"
   ]
  },
  {
   "cell_type": "code",
   "execution_count": 69,
   "metadata": {},
   "outputs": [
    {
     "name": "stdout",
     "output_type": "stream",
     "text": [
      "\n",
      "문서 1:\n",
      "내용: [1]\n",
      "질문: 경기도 과천시에서 공급되는 주택의 해당 주택건설지역의 범위는?\n",
      "답변: 해당 주택건설지역이란 특별시ㆍ광역시ㆍ특별자치시ㆍ특별자치도(관할 구역 안에 지방자치단체인 시ㆍ군이 없는 특별자치도를 말한다) 또는 시ㆍ군의 행정구역을 말합니다. 따라서, 경기도 과천시에서 공급하는 주택의 경우 과천시가 해당 주택건설지역에 해당됩니다. 참고로, 서울특별시에서 공급되는 주택의 경우 서울특별시 전역, 인천광역시의 경우 인천광역시 전역이 해당 주택건설지역에 해당됩니다.\n",
      "\n",
      "평가 결과: no\n",
      "\n",
      "문서 2:\n",
      "내용: [2]\n",
      "질문: 해당 주택건설지역에 거주하고 있지 않다면 청약신청이 불가능한지?\n",
      "답변: 해당 주택건설지역에 거주하고 있지 않더라도 청약가능지역에서 공급되는 주택에 청약신청이 가능하나, 같은 순위에서는 해당 주택건설지역의 거주자가 우선하여 주택을 공급받게 됩니다. * 서울·인천·경기도 / 대전·세종·충남 / 충북 / 광주·전남 / 전북 / 대구·경북 / 부산·울산·경남 / 강원 다만, 수도권 대규모 택지개발지구 등에서 주택이 공급되는 경우 일정 비율의 주택에 대해서는 해당 주택건설지역 거주자와 동등한 자격으로 주택을 공급받을 기회를 가지게 됩니다.\n",
      "\n",
      "평가 결과: no\n",
      "\n",
      "문서 3:\n",
      "내용: [47]\n",
      "질문: 무주택세대구성원이란?\n",
      "답변: 무주택세대구성원이란 청약신청자 및 세대원 전원이 주택을 소유하고 있지 않은 세대의 구성원(세대주 포함)을 말합니다.\n",
      "\n",
      "평가 결과: no\n"
     ]
    }
   ],
   "source": [
    "# 검색 문서의 질문 관련성 평가\n",
    "\n",
    "prompt = ChatPromptTemplate.from_messages([\n",
    "    (\"system\", \"\"\"주어진 컨텍스트가 질문에 답변하는데 필요한 정보를 포함하고 있는지 논리적으로 평가하세요.\n",
    "단계적으로 진행하며, 평가결과에 대한 검증을 수행하세요.\n",
    "\n",
    "다음 기준 중 하나 이상을 충족할 경우 'Yes'로 답변하고, 모두 충족하지 못하면 'No'로 답변하세요:\n",
    "\n",
    "1. 컨텍스트가 질문에 답변하는데 필요한 정보를 직접적으로 포함하고 있는가?\n",
    "2. 컨텍스트의 정보로부터 답변에 필요한 내용을 논리적으로 추론할 수 있는가?\n",
    "3. 컨텍스트의 정보가 질문에 대한 답변을 제공할 수 있는가?\n",
    "\n",
    "'Yes' 또는 'No'로만 답변하세요.\"\"\"),\n",
    "    (\"human\", \"\"\"[컨텍스트]\n",
    "{context}\n",
    "\n",
    "[질문]\n",
    "{question}\"\"\")\n",
    "])\n",
    "\n",
    "chain = prompt | llm | StrOutputParser()    # gpt-4.1-mini 모델 사용\n",
    "\n",
    "for i, doc in enumerate(result[\"source_documents\"], 1):\n",
    "    print(f\"\\n문서 {i}:\")\n",
    "    print(f\"내용: {doc.page_content}\")\n",
    "    relevance = chain.invoke({\n",
    "        \"context\": doc.page_content,\n",
    "        \"question\": query\n",
    "    }).lower()\n",
    "\n",
    "    print(f\"평가 결과: {relevance}\")"
   ]
  },
  {
   "cell_type": "code",
   "execution_count": 70,
   "metadata": {},
   "outputs": [
    {
     "name": "stdout",
     "output_type": "stream",
     "text": [
      "\n",
      "문서 1:\n",
      "내용: [1]\n",
      "질문: 경기도 과천시에서 공급되는 주택의 해당 주택건설지역의 범위는?\n",
      "답변: 해당 주택건설지역이란 특별시ㆍ광역시ㆍ특별자치시ㆍ특별자치도(관할 구역 안에 지방자치단체인 시ㆍ군이 없는 특별자치도를 말한다) 또는 시ㆍ군의 행정구역을 말합니다. 따라서, 경기도 과천시에서 공급하는 주택의 경우 과천시가 해당 주택건설지역에 해당됩니다. 참고로, 서울특별시에서 공급되는 주택의 경우 서울특별시 전역, 인천광역시의 경우 인천광역시 전역이 해당 주택건설지역에 해당됩니다.\n",
      "\n",
      "평가 결과: yes\n",
      "\n",
      "문서 2:\n",
      "내용: [2]\n",
      "질문: 해당 주택건설지역에 거주하고 있지 않다면 청약신청이 불가능한지?\n",
      "답변: 해당 주택건설지역에 거주하고 있지 않더라도 청약가능지역에서 공급되는 주택에 청약신청이 가능하나, 같은 순위에서는 해당 주택건설지역의 거주자가 우선하여 주택을 공급받게 됩니다. * 서울·인천·경기도 / 대전·세종·충남 / 충북 / 광주·전남 / 전북 / 대구·경북 / 부산·울산·경남 / 강원 다만, 수도권 대규모 택지개발지구 등에서 주택이 공급되는 경우 일정 비율의 주택에 대해서는 해당 주택건설지역 거주자와 동등한 자격으로 주택을 공급받을 기회를 가지게 됩니다.\n",
      "\n",
      "평가 결과: no\n",
      "\n",
      "문서 3:\n",
      "내용: [47]\n",
      "질문: 무주택세대구성원이란?\n",
      "답변: 무주택세대구성원이란 청약신청자 및 세대원 전원이 주택을 소유하고 있지 않은 세대의 구성원(세대주 포함)을 말합니다.\n",
      "\n",
      "평가 결과: no\n"
     ]
    }
   ],
   "source": [
    "# gpt-4.1 모델 사용\n",
    "\n",
    "llm_gpt4o = ChatOpenAI(\n",
    "    model='gpt-4.1',\n",
    "    temperature=0.1,\n",
    "    top_p=0.9, \n",
    ")\n",
    "\n",
    "chain = prompt | llm_gpt4o | StrOutputParser()    # gpt-4.1 모델 사용\n",
    "\n",
    "for i, doc in enumerate(result[\"source_documents\"], 1):\n",
    "    print(f\"\\n문서 {i}:\")\n",
    "    print(f\"내용: {doc.page_content}\")\n",
    "    relevance = chain.invoke({\n",
    "        \"context\": doc.page_content,\n",
    "        \"question\": query\n",
    "    }).lower()\n",
    "\n",
    "    print(f\"평가 결과: {relevance}\")"
   ]
  },
  {
   "cell_type": "markdown",
   "metadata": {},
   "source": [
    "##### ***[실습] 문서 관련성 평가 체인을 구조화 출력으로 구현합니다.*** \n",
    "\n",
    "- pydantic schema 사용\n",
    "- with_structured_output 함수 사용"
   ]
  },
  {
   "cell_type": "code",
   "execution_count": null,
   "metadata": {},
   "outputs": [],
   "source": [
    "# 여기에 코드를 작성하세요."
   ]
  },
  {
   "cell_type": "markdown",
   "metadata": {},
   "source": [
    "# Gradio 챗봇 인터페이스"
   ]
  },
  {
   "cell_type": "code",
   "execution_count": 71,
   "metadata": {},
   "outputs": [
    {
     "name": "stdout",
     "output_type": "stream",
     "text": [
      "[1]\n",
      "질문: 경기도 과천시에서 공급되는 주택의 해당 주택건설지역의 범위는?\n",
      "답변: 해당 주택건설지역이란 특별시ㆍ광역시ㆍ특별자치시ㆍ특별자치도(관할 구역 안에 지방자치단체인 시ㆍ군이 없는 특별자치도를 말한다) 또는 시ㆍ군의 행정구역을 말합니다. 따라서, 경기도 과천시에서 공급하는 주택의 경우 과천시가 해당 주택건설지역에 해당됩니다. 참고로, 서울특별시에서 공급되는 주택의 경우 서울특별시 전역, 인천광역시의 경우 인천광역시 전역이 해당 주택건설지역에 해당됩니다.\n",
      "\n",
      "--------------------------------------------------\n",
      "해당 주택건설지역\n",
      "==================================================\n",
      "[2]\n",
      "질문: 해당 주택건설지역에 거주하고 있지 않다면 청약신청이 불가능한지?\n",
      "답변: 해당 주택건설지역에 거주하고 있지 않더라도 청약가능지역에서 공급되는 주택에 청약신청이 가능하나, 같은 순위에서는 해당 주택건설지역의 거주자가 우선하여 주택을 공급받게 됩니다. * 서울·인천·경기도 / 대전·세종·충남 / 충북 / 광주·전남 / 전북 / 대구·경북 / 부산·울산·경남 / 강원 다만, 수도권 대규모 택지개발지구 등에서 주택이 공급되는 경우 일정 비율의 주택에 대해서는 해당 주택건설지역 거주자와 동등한 자격으로 주택을 공급받을 기회를 가지게 됩니다.\n",
      "\n",
      "--------------------------------------------------\n",
      "청약신청\n",
      "==================================================\n",
      "[47]\n",
      "질문: 무주택세대구성원이란?\n",
      "답변: 무주택세대구성원이란 청약신청자 및 세대원 전원이 주택을 소유하고 있지 않은 세대의 구성원(세대주 포함)을 말합니다.\n",
      "\n",
      "--------------------------------------------------\n",
      "무주택세대구성원\n",
      "==================================================\n"
     ]
    }
   ],
   "source": [
    "from langchain_chroma import Chroma\n",
    "from langchain_openai import OpenAIEmbeddings\n",
    "\n",
    "embeddings = OpenAIEmbeddings(model=\"text-embedding-3-small\")\n",
    "\n",
    "# 벡터 저장소 로드\n",
    "vector_sotre = Chroma(\n",
    "    collection_name=\"housing_faq_db\",\n",
    "    persist_directory=\"./chroma_db\", \n",
    "    embedding_function=embeddings,\n",
    ")\n",
    "\n",
    "\n",
    "# 검색기 생성 - 유사도 기반 상위 3개 문서 검색\n",
    "retriever = vector_store.as_retriever(\n",
    "    search_kwargs={\"k\": 3},\n",
    ")\n",
    "\n",
    "# 테스트 질문\n",
    "query = \"수원시의 주택건설지역은 어디에 해당하나요?\"\n",
    "\n",
    "results = retriever.invoke(query)\n",
    "for result in results:\n",
    "    print(result.page_content)\n",
    "    print(\"-\" * 50)\n",
    "    print(result.metadata['keyword'])\n",
    "    print(\"=\" * 50)"
   ]
  },
  {
   "cell_type": "code",
   "execution_count": null,
   "metadata": {},
   "outputs": [
    {
     "name": "stderr",
     "output_type": "stream",
     "text": [
      "c:\\Modu_LLM\\LLM_faq_chatbot_tutorial\\faq_chatbot\\.venv\\Lib\\site-packages\\tqdm\\auto.py:21: TqdmWarning: IProgress not found. Please update jupyter and ipywidgets. See https://ipywidgets.readthedocs.io/en/stable/user_install.html\n",
      "  from .autonotebook import tqdm as notebook_tqdm\n",
      "c:\\Modu_LLM\\LLM_faq_chatbot_tutorial\\faq_chatbot\\.venv\\Lib\\site-packages\\gradio\\chat_interface.py:348: UserWarning: The 'tuples' format for chatbot messages is deprecated and will be removed in a future version of Gradio. Please set type='messages' instead, which uses openai-style 'role' and 'content' keys.\n",
      "  self.chatbot = Chatbot(\n"
     ]
    },
    {
     "name": "stdout",
     "output_type": "stream",
     "text": [
      "* Running on local URL:  http://127.0.0.1:7860\n",
      "* To create a public link, set `share=True` in `launch()`.\n"
     ]
    },
    {
     "data": {
      "text/html": [
       "<div><iframe src=\"http://127.0.0.1:7860/\" width=\"100%\" height=\"500\" allow=\"autoplay; camera; microphone; clipboard-read; clipboard-write;\" frameborder=\"0\" allowfullscreen></iframe></div>"
      ],
      "text/plain": [
       "<IPython.core.display.HTML object>"
      ]
     },
     "metadata": {},
     "output_type": "display_data"
    },
    {
     "data": {
      "text/plain": []
     },
     "execution_count": 73,
     "metadata": {},
     "output_type": "execute_result"
    },
    {
     "name": "stdout",
     "output_type": "stream",
     "text": [
      "검색된 문서 개수: 3\n",
      "문서 47 관련성 확인 결과: yes\n",
      "문서 47 내용:\n",
      "[47]\n",
      "질문: 무주택세대구성원이란?\n",
      "답변: 무주택세대구성원이란 청약신청자 및 세대원 전원이 주택을 소유하고 있지 않은 세대의 구성원(세대주 포함)을 말합니다.\n",
      "\n",
      "--------------------------------------------------\n",
      "문서 50 관련성 확인 결과: no\n",
      "문서 50 내용:\n",
      "[50]\n",
      "질문: 무주택자인 아내가 유주택자인 남편과 주민등록표상 분리되어 친정부모의 세대별 주민등록표에 등재되어 있는 경우, 무주택자인 친정부모는 무주택세대구성원 자격이 인정되는지?\n",
      "답변: 친정부모의 세대원 범위에 세대분리된 직계비속의 배우자(사위)는 포함되지 않으므로 사위가 주택을 소유하고 있다 하더라도 무주택세대구성원으로 인정됩니다.\n",
      "\n",
      "--------------------------------------------------\n",
      "문서 36 관련성 확인 결과: no\n",
      "문서 36 내용:\n",
      "[36]\n",
      "질문: 청년주택드림청약통장 가입(혹은 전환신규) 당시 무주택자 였는데 이후 주택을 소유하게 된 경우 우대이율 및 비과세 적용을 받을 수 있나요?\n",
      "답변: 청년주택드림통장의 우대이율요건과 비과세 요건은 동일하지 않습니다. 비과세 요건 중 ‘주택을 소유하지 않은 세대의 세대주’ 자격은 가입 당시 기준입니다. 따라서 이후 주택을 소유하더라도 비과세 적용 가능합니다. 다만, 우대이율의 경우 최초로 주택을 소유하게 된 년도의 직전년도 말까지만 우대이율을 적용받습니다. * 예시) ’21년에 가입 후 ’23년에 주택 구입 시 : ’22년 말까지 우대이율 적용\n",
      "\n",
      "--------------------------------------------------\n",
      "관련 문서 개수: 1\n"
     ]
    }
   ],
   "source": [
    "import gradio as gr\n",
    "from langchain_core.language_models import BaseChatModel\n",
    "from langchain_core.vectorstores import VectorStoreRetriever\n",
    "from langchain_core.output_parsers import StrOutputParser\n",
    "from langchain_core.prompts import ChatPromptTemplate\n",
    "from langchain_openai import ChatOpenAI\n",
    "from typing import List, Optional\n",
    "from dataclasses import dataclass\n",
    "\n",
    "@dataclass\n",
    "class SearchResult:\n",
    "    context: str\n",
    "    source_documents: Optional[List]\n",
    "\n",
    "class RAGSystem:\n",
    "    def __init__(\n",
    "            self, \n",
    "            llm: BaseChatModel, \n",
    "            eval_llm: BaseChatModel,\n",
    "            retriever: VectorStoreRetriever\n",
    "        ):\n",
    "        if not llm:\n",
    "            self.llm = ChatOpenAI(model=\"gpt-4.1-mini\", temperature=0)\n",
    "        else:\n",
    "            self.llm = llm\n",
    "\n",
    "        if not eval_llm:\n",
    "            self.eval_llm = ChatOpenAI(model=\"gpt-4.1\", temperature=0)\n",
    "        else:\n",
    "            self.eval_llm = eval_llm\n",
    "\n",
    "        if not retriever:\n",
    "            raise ValueError(\"검색기(retriever)가 필요합니다.\")\n",
    "        else:\n",
    "            self.retriever = retriever\n",
    "        \n",
    "    def _format_docs(self, docs: List) -> str:\n",
    "        return \"\\n\\n\".join(doc.page_content for doc in docs)\n",
    "    \n",
    "    def _format_source_documents(self, docs: Optional[List]) -> str:\n",
    "        if not docs:\n",
    "            return \"\\n\\nℹ️ 관련 문서를 찾을 수 없습니다.\"\n",
    "        \n",
    "        formatted_docs = []\n",
    "        for i, doc in enumerate(docs, 1):\n",
    "            metadata = doc.metadata if hasattr(doc, 'metadata') else {}\n",
    "            source_info = []\n",
    "            \n",
    "            if 'question_id' in metadata:\n",
    "                source_info.append(f\"ID: {metadata['question_id']}\")\n",
    "            if 'keyword' in metadata:\n",
    "                source_info.append(f\"키워드: {metadata['keyword']}\")\n",
    "            if 'summary' in metadata:\n",
    "                source_info.append(f\"요약: {metadata['summary']}\")\n",
    "                \n",
    "            formatted_docs.append(\n",
    "                f\"📚 참조 문서 {i}\\n\"\n",
    "                f\"• {' | '.join(source_info) if source_info else '출처 정보 없음'}\\n\"\n",
    "                f\"• 내용: {doc.page_content}\"\n",
    "            )\n",
    "        \n",
    "        return \"\\n\\n\" + \"\\n\\n\".join(formatted_docs)\n",
    "    \n",
    "    def _check_relevance(self, docs: List, question: str) -> List:\n",
    "        \"\"\"문서의 관련성 확인\"\"\"\n",
    "\n",
    "        relevant_docs = []\n",
    "\n",
    "        if not docs:\n",
    "            return relevant_docs\n",
    "            \n",
    "        prompt = ChatPromptTemplate.from_messages([\n",
    "            (\"system\", \"\"\"주어진 컨텍스트가 질문에 답변하는데 필요한 정보를 포함하고 있는지 평가하세요.\n",
    "\n",
    "        다음 기준 중 하나 이상을 충족할 경우 'Yes'로 답변하고, 모두 충족하지 못하면 'No'로 답변하세요:\n",
    "\n",
    "        1. 컨텍스트가 질문에 답변하는데 필요한 정보를 직접적으로 포함하고 있는가?\n",
    "        2. 컨텍스트의 정보로부터 답변에 필요한 내용을 논리적으로 추론할 수 있는가?\n",
    "\n",
    "        'Yes' 또는 'No'로만 답변하세요.\"\"\"),\n",
    "            (\"human\", \"\"\"[컨텍스트]\n",
    "        {context}\n",
    "\n",
    "        [질문]\n",
    "        {question}\"\"\")\n",
    "        ])\n",
    "        \n",
    "        chain = prompt | self.eval_llm | StrOutputParser()\n",
    "\n",
    "        for doc in docs:\n",
    "            result = chain.invoke({\n",
    "                \"context\": doc.page_content,\n",
    "                \"question\": question\n",
    "            }).lower()\n",
    "\n",
    "            print(f\"문서 {doc.metadata['question_id']} 관련성 확인 결과: {result}\")\n",
    "            print(f\"문서 {doc.metadata['question_id']} 내용:\")\n",
    "            print(doc.page_content)\n",
    "            print(\"-\" * 50)\n",
    "\n",
    "            if \"yes\" in result:\n",
    "                relevant_docs.append(doc)\n",
    "            \n",
    "        return relevant_docs\n",
    "    \n",
    "    def search_documents(self, question: str) -> SearchResult:\n",
    "        try:\n",
    "            docs = retriever.invoke(question)\n",
    "            print(f\"검색된 문서 개수: {len(docs)}\")\n",
    "            relevant_docs = self._check_relevance(docs, question) \n",
    "            print(f\"관련 문서 개수: {len(relevant_docs)}\")\n",
    "            \n",
    "            return SearchResult(\n",
    "                context=self._format_docs(relevant_docs) if relevant_docs else \"관련 문서를 찾을 수 없습니다.\",\n",
    "                source_documents=relevant_docs,\n",
    "            )\n",
    "        except Exception as e:\n",
    "            print(f\"문서 검색 중 오류 발생: {e}\")\n",
    "            return SearchResult(\n",
    "                context=\"문서 검색 중 오류가 발생했습니다.\",\n",
    "                source_documents=None,\n",
    "            )\n",
    "    \n",
    "    def generate_answer(self, message: str, history: List) -> str:\n",
    "        # 문서 검색\n",
    "        search_result = self.search_documents(message)\n",
    "        \n",
    "        if not search_result.source_documents:\n",
    "            return \"죄송합니다. 관련 문서를 찾을 수 없어 답변하기 어렵습니다. 다른 질문을 해주시겠습니까?\"\n",
    "                    \n",
    "        # 프롬프트 템플릿 설정\n",
    "        prompt = ChatPromptTemplate.from_messages([\n",
    "            (\"system\", \"\"\"다음 지침을 따라 질문에 답변해주세요:\n",
    "            1. 주어진 문서의 내용만을 기반으로 답변하세요.\n",
    "            2. 문서에 명확한 근거가 없는 내용은 \"근거 없음\"이라고 답변하세요.\n",
    "            3. 답변하기 어려운 질문은 \"잘 모르겠습니다\"라고 답변하세요.\n",
    "            4. 추측이나 일반적인 지식을 사용하지 마세요.\"\"\"),\n",
    "            (\"human\", \"문서들:\\n{context}\\n\\n질문: {question}\")\n",
    "        ])\n",
    "        \n",
    "        # RAG Chain 구성\n",
    "        chain = prompt | self.llm | StrOutputParser()\n",
    "        \n",
    "        try:\n",
    "            # 답변 생성\n",
    "            answer = chain.invoke({\n",
    "                \"context\": search_result.context,\n",
    "                \"question\": message\n",
    "            })\n",
    "            \n",
    "            # 참조 문서 포맷팅 추가\n",
    "            sources = self._format_source_documents(search_result.source_documents)\n",
    "            return f\"{answer}\\n{sources}\"\n",
    "            \n",
    "        except Exception as e:\n",
    "            return f\"답변 생성 중 오류가 발생했습니다: {str(e)}\"\n",
    "\n",
    "# Gradio 인터페이스 설정\n",
    "\n",
    "rag_system = RAGSystem(\n",
    "    llm=ChatOpenAI(model=\"gpt-4.1\", temperature=0),   \n",
    "    eval_llm=ChatOpenAI(model=\"gpt-4.1\", temperature=0),\n",
    "    retriever=vector_store.as_retriever(search_kwargs={\"k\": 2})\n",
    ")\n",
    "\n",
    "demo = gr.ChatInterface(\n",
    "    fn=rag_system.generate_answer,\n",
    "    title=\"RAG QA 시스템\",\n",
    "    description=\"\"\"\n",
    "    질문을 입력하면 관련 문서를 검색하여 답변을 생성합니다.\n",
    "    모든 답변에는 참조한 문서의 출처가 표시됩니다.\n",
    "    \"\"\",\n",
    "    theme=gr.themes.Soft(\n",
    "        primary_hue=\"blue\",\n",
    "        secondary_hue=\"gray\",\n",
    "    ),\n",
    "examples=[\n",
    "    [\"수원시의 주택건설지역은 어디에 해당하나요?\"],\n",
    "    [\"무주택 세대에 대해서 설명해주세요.\"],\n",
    "    [\"2순위로 당첨된 사람이 청약통장을 다시 사용할 수 있나요?\"],\n",
    "],\n",
    ")\n",
    "\n",
    "# 데모 실행\n",
    "demo.launch()"
   ]
  },
  {
   "cell_type": "code",
   "execution_count": 74,
   "metadata": {},
   "outputs": [
    {
     "name": "stdout",
     "output_type": "stream",
     "text": [
      "Closing server running on port: 7860\n"
     ]
    }
   ],
   "source": [
    "# Gradio 인터페이스 종료\n",
    "demo.close()"
   ]
  },
  {
   "cell_type": "markdown",
   "metadata": {},
   "source": [
    "---\n",
    "\n",
    "# **[실습] 주택청약 FAQ 시스템 구현**\n",
    "\n",
    "### **문제 설명**\n",
    "이전 코드를 기반으로 주택청약 FAQ 시스템을 다음 요구사항에 맞춰 개선합니다. \n",
    "\n",
    "1. 응답 품질 향상 (1개 이상)\n",
    "   - 생성된 답변의 품질을 평가 (답변이 불충분한 경우 예외 처리)\n",
    "   - 관련성 높은 FAQ 문서 검색 (임베딩 모델, 청크 크기, 벡터 검색 방법 등)\n",
    "\n",
    "2. 사용자 경험 개선 (1개 이상)\n",
    "   - 대화 이력 관리 기능 추가 (요약, 트리밍 기능 등 고려)\n",
    "   - 최근 대화 기반 컨텍스트 구성 \n",
    "   - 사용자 프로필 기반 맞춤 응답\n",
    "\n",
    "### **제약 조건**\n",
    "- Gradio ChatInterface 사용\n",
    "- RAG 구조 유지"
   ]
  },
  {
   "cell_type": "code",
   "execution_count": null,
   "metadata": {},
   "outputs": [],
   "source": [
    "# 여기에 코드를 작성하세요. "
   ]
  }
 ],
 "metadata": {
  "kernelspec": {
   "display_name": "faq_chatbot",
   "language": "python",
   "name": "python3"
  },
  "language_info": {
   "codemirror_mode": {
    "name": "ipython",
    "version": 3
   },
   "file_extension": ".py",
   "mimetype": "text/x-python",
   "name": "python",
   "nbconvert_exporter": "python",
   "pygments_lexer": "ipython3",
   "version": "3.12.11"
  }
 },
 "nbformat": 4,
 "nbformat_minor": 2
}
